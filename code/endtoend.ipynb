{
 "cells": [
  {
   "cell_type": "code",
   "execution_count": 126,
   "metadata": {},
   "outputs": [],
   "source": [
    "import numpy as np\n",
    "from scipy.optimize import minimize\n",
    "import matplotlib.pyplot as plt\n",
    "from itertools import product\n",
    "from sklearn.model_selection import train_test_split\n",
    "from pathlib import Path\n",
    "import random\n",
    "from tqdm import tqdm\n",
    "import xml.etree.ElementTree as ET\n",
    "import cv2\n",
    "import plotly.graph_objs as go\n",
    "from torchvision.transforms import Compose\n",
    "from torchvision.transforms import ToTensor\n",
    "import json\n",
    "from torch.utils.data import Dataset\n",
    "import torch\n",
    "import cv2\n",
    "import torch.nn as nn\n",
    "import torch.nn.functional as F"
   ]
  },
  {
   "cell_type": "code",
   "execution_count": 127,
   "metadata": {},
   "outputs": [],
   "source": [
    "device = torch.device('cuda' if torch.cuda.is_available() else 'cpu')\n",
    "device\n",
    "\n",
    "# dataset definition\n",
    "class thyroidDataset(Dataset):\n",
    "    def __init__(self, split):\n",
    "        self.all_data = []\n",
    "        self.split = split\n",
    "        self.compositions = {'Unknown':0, 'cystic':1,\n",
    "                             'predominantly solid':2,\n",
    "                             'solid':3, 'spongiform appareance':4}\n",
    "        self.echogenicities = {'Unknown':0, 'hyperechogenecity':1,\n",
    "                             'hypoechogenecity':2, 'isoechogenicity':3,\n",
    "                             'marked hypoechogenecity':4}\n",
    "        self.margins = {'Unknown':0, 'ill- defined':1, 'microlobulated':2,\n",
    "                        'spiculated':3, 'well defined smooth':4}\n",
    "        self.calcifications = {'macrocalcification':0, 'microcalcification':1, 'non':2}\n",
    "        self.types ={'benign':0, 'malign':1}\n",
    "        self.types_count = []\n",
    "        for t_type in ['benign', 'malign']:\n",
    "            root_dir=Path('../data/' + split + '/' + t_type).expanduser().resolve().absolute() \n",
    "            print(root_dir)\n",
    "            files = list(root_dir.glob(\"*\"))\n",
    "            labels = [self.types[t_type]] * len(files)\n",
    "            self.types_count.append(len(files))\n",
    "            data_list = list(zip(files, labels))\n",
    "            self.all_data.extend(data_list)\n",
    "        random.shuffle(self.all_data)\n",
    "        self.cases, self.types = zip(*self.all_data)\n",
    "        print(\"number of data items:\" + str(len(self.cases)))\n",
    "        self.sample_weights = [1/self.types_count[label] for label in self.types]\n",
    "    def __len__(self):\n",
    "        return len(self.cases)\n",
    "  \n",
    "    def __getitem__(self, idx):\n",
    "        labels = np.zeros(16, dtype = float)\n",
    "        xml_data = ET.parse(list(self.cases[idx].glob('*[0-9].xml'))[0]).getroot()\n",
    "        for x in xml_data:\n",
    "            if x.tag=='composition' and x.text is not None:\n",
    "                composition = x.text\n",
    "                labels[self.compositions[composition] - 1] = 1.0\n",
    "            if x.tag=='echogenicity' and x.text is not None:\n",
    "                echogenicity = x.text\n",
    "                labels[self.echogenicities[echogenicity] + 3] = 1.0\n",
    "            if x.tag=='margins' and x.text is not None:\n",
    "                margin = x.text\n",
    "                labels[self.margins[margin] + 7] = 1.0\n",
    "            if x.tag=='calcifications' and x.text is not None:\n",
    "                calcification = x.text\n",
    "                labels[self.calcifications[calcification] + 11] = 1.0\n",
    "        xml_data = ET.parse(list(self.cases[idx].glob('*[0-9].xml'))[0]).find(\"mark\")\n",
    "        for x in xml_data:\n",
    "            if(x.tag=='svg'):\n",
    "                encoded = str(x.text)\n",
    "                poly_data = json.loads(x.text)\n",
    "        \n",
    "        labels[15] = list(self.types)[idx]\n",
    "        im_name = list(self.cases[idx].glob('*[0-9].jpg'))[0]\n",
    "        im = cv2.imread(str(im_name))\n",
    "        mask = np.zeros(np.shape(im))\n",
    "        im = cv2.resize(im, dsize=(300, 300), interpolation=cv2.INTER_CUBIC)\n",
    "        \n",
    "        # add mask \n",
    "        for polygon in poly_data:\n",
    "            xs = []\n",
    "            ys = []\n",
    "            for point in polygon[\"points\"]:\n",
    "                xs.append(point[\"x\"])\n",
    "                ys.append(point[\"y\"])\n",
    "            contour = np.concatenate((np.expand_dims(xs, 1), np.expand_dims(ys, 1)), axis=1)\n",
    "            cv2.fillPoly(mask, pts = [contour], color =(1, 1, 1))\n",
    "        \n",
    "        mask = cv2.resize(mask, dsize=(300, 300), interpolation=cv2.INTER_LINEAR)\n",
    "        \n",
    "        #im = im * mask\n",
    "        \n",
    "        # Adding data augmentation to avoid overfitting\n",
    "        if self.split == 'train':\n",
    "            if random.randint(1, 10) > 5:\n",
    "                im = np.flipud(im)\n",
    "                mask = np.flipud(mask)\n",
    "            if random.randint(1, 10) > 5:\n",
    "                im = np.fliplr(im)\n",
    "                mask = np.fliplr(mask)\n",
    "            if random.randint(1, 10) > 5:\n",
    "                for i in range(random.randint(1, 4)):\n",
    "                    im = np.rot90(im)\n",
    "                    mask = np.rot90(mask)\n",
    "        im = np.ascontiguousarray(im)\n",
    "        mask = np.ascontiguousarray(mask)\n",
    "        #plt.figure()\n",
    "        #plt.imshow(im)\n",
    "\n",
    "        transforms = Compose([ToTensor()])\n",
    "        mask = transforms(mask)\n",
    "        im = transforms(im)\n",
    "        mask = mask[0]\n",
    "        mask = torch.unsqueeze(mask,0)\n",
    "        #print(mask.shape)\n",
    "        masked_im = torch.cat((im, mask), 0)\n",
    "        # masked_im = im * ((mask / 2) + 0.5)\n",
    "        \n",
    "        #print(masked_im)\n",
    "        \n",
    "        masked_im = masked_im.type(torch.cuda.FloatTensor)\n",
    "        \n",
    "        sample = {\"image\": masked_im, \"labels\": torch.from_numpy(labels), \"types\" : self.types, \"name\": str(im_name)}\n",
    "        return sample"
   ]
  },
  {
   "cell_type": "code",
   "execution_count": 128,
   "metadata": {},
   "outputs": [
    {
     "name": "stdout",
     "output_type": "stream",
     "text": [
      "/home/ahana/thyroid/data/train/benign\n",
      "/home/ahana/thyroid/data/train/malign\n",
      "number of data items:73\n",
      "/home/ahana/thyroid/data/train/benign\n",
      "/home/ahana/thyroid/data/train/malign\n",
      "number of data items:73\n"
     ]
    }
   ],
   "source": [
    "# Dataset creation\n",
    "training_set = thyroidDataset(split='train')\n",
    "parameters_train = {\n",
    "    \"batch_size\": 8,\n",
    "    #\"shuffle\": True,\n",
    "}\n",
    "parameters_test = {\n",
    "    \"batch_size\": 1,\n",
    "    \"shuffle\": False,\n",
    "}\n",
    "training_set = thyroidDataset(split='train')\n",
    "training_generator = torch.utils.data.DataLoader(training_set, **parameters_train, sampler=torch.utils.data.WeightedRandomSampler(training_set.sample_weights, len(training_set.cases), replacement=True))\n",
    "#training_generator = torch.utils.data.DataLoader(training_set, **parameters_train)\n",
    "totiter = len(training_generator)\n",
    "train_data = iter(training_generator).next()"
   ]
  },
  {
   "cell_type": "code",
   "execution_count": 129,
   "metadata": {},
   "outputs": [],
   "source": [
    "# Model definition and creation\n",
    "\n",
    "z = 7 # groups\n",
    "a = 15\n",
    "k = 5 # top k \n",
    "num_labels = 1\n",
    "num_channels = 4\n",
    "\n",
    "G = np.random.randn(z, a)\n",
    "W = np.random.randn(z, num_labels)\n",
    "\n",
    "# class MutualExclusivityLoss(nn.Module):\n",
    "#     def __init__(self, num_classes, num_attrs):\n",
    "#         super(MutualExclusivityLoss, self).__init__()\n",
    "#         self.num_attrs = num_attrs\n",
    "#         self.num_classes = num_classes\n",
    "#     def forward(self, target, result):\n",
    "#         target = 1.0 - target\n",
    "#         me_loss = target.mul(result)\n",
    "#         return torch.mean(me_loss)\n",
    "        \n",
    "   \n",
    "\n",
    "class net(torch.nn.Module):\n",
    "    \n",
    "    def __init__(self, G, W):\n",
    "        super().__init__()\n",
    "        \n",
    "        self.conv1 = nn.Conv2d(num_channels, 16, 5)\n",
    "        self.pool = nn.MaxPool2d(2, 2)\n",
    "        self.conv2 = nn.Conv2d(16, 32, 5)\n",
    "        self.conv3 = nn.Conv2d(32, 64, 5)\n",
    "        self.conv4 = nn.Conv2d(64, 128, 5)\n",
    "        self.conv5 = nn.Conv2d(128, 256,3)\n",
    "        self.GAP = nn.AdaptiveAvgPool2d((1,1))\n",
    "        \n",
    "        self.features = [self.conv1, self.conv2, self.conv3, self.conv4]\n",
    "        \n",
    "        # self.fc1 = nn.Linear(14400, 120)\n",
    "        # self.fc2 = nn.Linear(120, 84)\n",
    "        self.fc3 = nn.Linear(256, 15)\n",
    "        \n",
    "        self.G_ = torch.nn.Parameter(G)\n",
    "        self.W_ = torch.nn.Parameter(W)\n",
    "        #self.CNN_ = torch.nn.Parameter(CNN)\n",
    "        \n",
    "\n",
    "\n",
    "    def forward(self, x):\n",
    "            \n",
    "        x = self.pool(F.tanh(self.conv1(x)))\n",
    "        x = self.pool(F.tanh(self.conv2(x)))\n",
    "        x = self.pool(F.tanh(self.conv3(x)))\n",
    "        x = self.pool(F.tanh(self.conv4(x)))\n",
    "        # Adding 1 more conv, a GAP and a final linear layer for CAM\n",
    "        x = F.tanh(self.conv5(x))\n",
    "        features = x\n",
    "        x = self.GAP(x)\n",
    "        \n",
    "        x = torch.flatten(x, 1) # flatten all dimensions except batch\n",
    "        \n",
    "        # x = F.relu(self.fc1(x))\n",
    "        # x = F.relu(self.fc2(x))\n",
    "        x = self.fc3(x)\n",
    "        \n",
    "        x = torch.unsqueeze(x, 2)\n",
    "        \n",
    "        g = torch.matmul(self.G_, x) \n",
    "        \n",
    "        g = g.repeat((1, 1, num_labels))\n",
    "        \n",
    "        y = g * self.W_\n",
    "        #y, _ = y.max(axis=2)\n",
    "        \n",
    "        y = torch.transpose(y, 1, 0)\n",
    "        \n",
    "        y = torch.sum(y, axis=0)\n",
    "        return (torch.sigmoid(y), torch.sigmoid(x), features)\n",
    "\n",
    "# Model creation and definition of losses\n",
    "model = net(torch.FloatTensor(G), torch.FloatTensor(W))\n",
    "model.to(device)\n",
    "\n",
    "def projection_simplex_sort(v, z=1):\n",
    "\n",
    "    n_features = v.size(1)\n",
    "    u,_ = torch.sort(v, descending=True)\n",
    "    cssv = torch.cumsum(u,1) - z\n",
    "    ind = torch.arange(n_features).type_as(v) + 1\n",
    "    cond = u - cssv / ind > 0\n",
    "    #rho = ind[cond][-1]\n",
    "    rho,ind_rho = (ind*cond).max(1)\n",
    "    #theta = cssv[cond][-1] / float(rho)\n",
    "    theta = torch.gather(cssv,1,ind_rho[:,None]) / rho[:,None]\n",
    "    w = torch.clamp(v - theta, min=0)\n",
    "    return w\n",
    "\n",
    "criterion = torch.nn.BCELoss(reduction='sum')\n",
    "\n",
    "criterion1 = torch.nn.L1Loss(reduction='sum')\n",
    "\n",
    "#criterion2 = MutualExclusivityLoss(15, 5)\n",
    "\n",
    "optimizer = torch.optim.Adam(model.parameters(), lr=1e-5)\n",
    "\n",
    "#y_tr = torch.from_numpy(y_train).to(device)"
   ]
  },
  {
   "cell_type": "code",
   "execution_count": 113,
   "metadata": {},
   "outputs": [
    {
     "data": {
      "text/plain": [
       "<All keys matched successfully>"
      ]
     },
     "execution_count": 113,
     "metadata": {},
     "output_type": "execute_result"
    }
   ],
   "source": [
    "# Load existing model\n",
    "model.load_state_dict(torch.load(f'../data/models/end_to_end_v2_CAM_3_weighted_mask.pt'))"
   ]
  },
  {
   "cell_type": "code",
   "execution_count": null,
   "metadata": {},
   "outputs": [
    {
     "name": "stdout",
     "output_type": "stream",
     "text": [
      "Epoch:  1 ; running-loss:  586.7105114125577\n",
      "Epoch:  2 ; running-loss:  584.3843455851695\n",
      "Epoch:  3 ; running-loss:  579.3157550734537\n",
      "Epoch:  4 ; running-loss:  572.4222898278693\n",
      "Epoch:  5 ; running-loss:  562.6818167624605\n",
      "Epoch:  6 ; running-loss:  549.9441281487303\n",
      "Epoch:  7 ; running-loss:  526.2991050650555\n",
      "Epoch:  8 ; running-loss:  502.4022527184195\n",
      "Epoch:  9 ; running-loss:  468.28594546555104\n",
      "Epoch:  10 ; running-loss:  444.8689092709801\n",
      "Epoch:  11 ; running-loss:  418.3587602190702\n",
      "Epoch:  12 ; running-loss:  408.7289379848949\n",
      "Epoch:  13 ; running-loss:  383.3997459946822\n",
      "Epoch:  14 ; running-loss:  380.4735012285285\n",
      "Epoch:  15 ; running-loss:  376.2751891990956\n",
      "Epoch:  16 ; running-loss:  364.985888671363\n",
      "Epoch:  17 ; running-loss:  354.05015467355895\n",
      "Epoch:  18 ; running-loss:  353.9951468849384\n",
      "Epoch:  19 ; running-loss:  360.04213819574926\n",
      "Epoch:  20 ; running-loss:  357.6565788288143\n",
      "Epoch:  21 ; running-loss:  357.42106110356934\n",
      "Epoch:  22 ; running-loss:  331.08404049476326\n",
      "Epoch:  23 ; running-loss:  334.39946532972897\n",
      "Epoch:  24 ; running-loss:  339.61753093099657\n",
      "Epoch:  25 ; running-loss:  329.3541433402278\n",
      "Epoch:  26 ; running-loss:  339.32268224867386\n",
      "Epoch:  27 ; running-loss:  331.45764281439733\n",
      "Epoch:  28 ; running-loss:  336.76033874504446\n",
      "Epoch:  29 ; running-loss:  344.1784976913957\n",
      "Epoch:  30 ; running-loss:  333.4483253207179\n",
      "Epoch:  31 ; running-loss:  333.6011359661036\n",
      "Epoch:  32 ; running-loss:  341.36190035761683\n",
      "Epoch:  33 ; running-loss:  323.3923499878699\n",
      "Epoch:  34 ; running-loss:  325.60063631992955\n"
     ]
    }
   ],
   "source": [
    "# perform training\n",
    "\n",
    "epoch = 0\n",
    "for epoch in range(20000):\n",
    "    running_loss = 0.0\n",
    "    #model.train()\n",
    "    for data in training_generator:\n",
    "        #model.train(True)\n",
    "        x_im_train = data[\"image\"]\n",
    "        if(np.shape(x_im_train)[0]==1):\n",
    "            continue\n",
    "        y_im_train = data[\"labels\"][:, 15].to(device)\n",
    "        x_im_train = x_im_train.to(device)\n",
    "        y_attr = data[\"labels\"][:, :15].to(device)\n",
    "        optimizer.zero_grad()\n",
    "\n",
    "        (y_pred, attributes_pred, features) = model(x_im_train)\n",
    "        \n",
    "        # this needs work \n",
    "        loss = criterion(torch.squeeze(y_pred.to(float)), torch.squeeze(y_im_train.to(float))) + criterion1(torch.squeeze(attributes_pred.to(float)), torch.squeeze(y_attr.to(float))) \n",
    "        # + criterion2(torch.squeeze(attributes_pred.to(float)), torch.squeeze(y_attr.to(float)))  \n",
    "    \n",
    "        loss.backward()\n",
    "        optimizer.step()\n",
    "        model.G_.data = projection_simplex_sort(model.G_.data)\n",
    "        running_loss += loss.item()\n",
    "    epoch = epoch + 1\n",
    "    print(\"Epoch: \", epoch, \"; running-loss: \", running_loss)"
   ]
  },
  {
   "cell_type": "code",
   "execution_count": 122,
   "metadata": {},
   "outputs": [],
   "source": [
    "# save the trainined model\n",
    "\n",
    "torch.save(model.state_dict(), f'../data/models/end_to_end_v2_CAM_3_weighted_mask_new.pt')"
   ]
  },
  {
   "cell_type": "code",
   "execution_count": 132,
   "metadata": {},
   "outputs": [
    {
     "name": "stdout",
     "output_type": "stream",
     "text": [
      "/home/ahana/thyroid/data/test/benign\n",
      "/home/ahana/thyroid/data/test/malign\n",
      "number of data items:25\n"
     ]
    }
   ],
   "source": [
    "## Run tests and save CAM images in folder \"heatmaps\" on test data\n",
    "def returnCAM(feature_conv, weight_linear, class_idx):\n",
    "    # generate the class activation maps upsample to 256x256\n",
    "    size_upsample = (256, 256)\n",
    "    bz, nc, h, w = feature_conv.shape\n",
    "    output_cam = []\n",
    "    for idx in class_idx:\n",
    "        cam = weight_linear[idx].dot(feature_conv.reshape((nc, h*w)))\n",
    "        cam = cam.reshape(h, w)\n",
    "        cam = cam - np.min(cam)\n",
    "        if (np.max(cam)) != 0:\n",
    "            cam_img = cam / (np.max(cam))\n",
    "        else:\n",
    "            cam_img = cam\n",
    "        cam_img = np.uint8(255 * cam_img)\n",
    "        output_cam.append(cv2.resize(cam_img, size_upsample))\n",
    "        \n",
    "    return output_cam\n",
    "\n",
    "parameters_test = {\n",
    "    \"batch_size\": 1,\n",
    "    \"shuffle\": False,\n",
    "}\n",
    "\n",
    "params = list(model.parameters())\n",
    "\n",
    "weight_linear = np.squeeze(params[-2].data.cpu().numpy())\n",
    "test_set = thyroidDataset(split='test')\n",
    "test_generator = torch.utils.data.DataLoader(test_set, **parameters_test)\n",
    "\n",
    "predicted = []\n",
    "ground_truth = []\n",
    "\n",
    "attr_pred = []\n",
    "attr_gt = []\n",
    "\n",
    "count = 0\n",
    "for data in test_generator:\n",
    "    y_im_test = data[\"labels\"][:, 15].to(device)\n",
    "    x_im_test = data[\"image\"]\n",
    "    \n",
    "    x_im_test = x_im_test.to(device)\n",
    "    \n",
    "    (y_pred, attributes_pred, features) = model(x_im_test)\n",
    "    \n",
    "    attr_pred.append(attributes_pred.detach().cpu().numpy())\n",
    "    \n",
    "    attr_gt.append(data[\"labels\"][:, :15].detach().cpu().numpy())  \n",
    "    attrib_list = [i for i in range(0, a)]\n",
    "    # saving the CAM image with heatmaps\n",
    "    CAMs = returnCAM(features.detach().cpu().numpy(), weight_linear, attrib_list)\n",
    "    img = data[\"image\"][0][:3,:,:].cpu().permute(1, 2, 0).numpy()\n",
    "    #img = data[\"image\"][0].cpu().permute(1, 2, 0).numpy()\n",
    "    img = img * 255\n",
    "    height, width, c = img.shape\n",
    "    for i in range(0, a):\n",
    "        heatmap = cv2.applyColorMap(cv2.resize(CAMs[i],(width, height)), cv2.COLORMAP_JET)\n",
    "        result = heatmap * 0.2 + img\n",
    "        file_name = data[\"name\"][0].split('/')[-1]\n",
    "        file_name = file_name.split('.')[0]\n",
    "        cv2.imwrite(f'heatmaps/{file_name}_{i}.png', result)\n",
    "    \n",
    "    # End of CAM saving code\n",
    "    predicted.append(np.squeeze(y_pred.detach().cpu().numpy()))\n",
    "    ground_truth.append(np.squeeze(y_im_test.detach().cpu().numpy()))\n",
    "    count += 1\n",
    "\n"
   ]
  },
  {
   "cell_type": "code",
   "execution_count": null,
   "metadata": {},
   "outputs": [],
   "source": [
    "# Just keeping this code even though it is untidy\n",
    "#print(attr_gt.shape, attr_pred.shape)\n",
    "#viz_attr = (np.concatenate((attr_gt, attr_pred), axis=0)>0.5)*1\n",
    "# dummy_zeros = np.zeros((attr_pred.shape[0], attr_pred.shape[1]))\n",
    "# viz_attr = np.dstack([attr_gt, attr_pred, dummy_zeros]).reshape(attr_pred.shape[0],-1)\n",
    "# #viz_attr[viz_attr > 0.5] = 1\n",
    "# #viz_attr[viz_attr != 1] = 0\n",
    "# plt.imshow(viz_attr)\n",
    "# major_ticks = np.arange(0,45,1)\n",
    "# plt.xticks(major_ticks)\n",
    "# plt.grid(axis='x')\n",
    "# plt.title(\"Left col: gt attr; Right col: pred attr interleaved with a blank one between each pair of attributes\")\n",
    "# fig = plt.gcf()\n",
    "# fig.set_size_inches(18.5, 10.5)\n",
    "\n",
    "# predicted = np.expand_dims(np.array(predicted), 1)\n",
    "# ground_truth = np.expand_dims(np.array(ground_truth), 1)\n",
    "# viz = (np.concatenate((ground_truth, predicted), axis=1)>0.5)*1\n",
    "\n",
    "# plt.imshow(viz)\n",
    "# plt.title(\"Left col: gt; Right col: pred\")"
   ]
  },
  {
   "cell_type": "code",
   "execution_count": 133,
   "metadata": {},
   "outputs": [
    {
     "name": "stdout",
     "output_type": "stream",
     "text": [
      "Atrribute errors:\n",
      " [ 4.  8. 48. 36.  4. 40. 44. 12. 20.  8.  4. 68. 60. 36.  0.]\n",
      "Type prediction error:\n",
      " 0.72\n"
     ]
    }
   ],
   "source": [
    "# printing the accuracy of attribute and type prediction\n",
    "attr_pred = np.array(attr_pred)[:,0,:,0]\n",
    "attr_pred_binary = np.zeros((attr_pred.shape[0], attr_pred.shape[1]))\n",
    "attr_pred_binary[attr_pred > 0.5] = 1\n",
    "attr_pred_binary[attr_pred != 1] = 0\n",
    "attr_gt= np.array(attr_gt)[:,0,:]\n",
    "error = np.abs(attr_pred_binary - attr_gt)\n",
    "error = 100 * np.sum(error, axis=0) / error.shape[0]\n",
    "print(\"Atrribute errors:\\n\",error)\n",
    "\n",
    "predicted = np.expand_dims(np.array(predicted), 1)\n",
    "ground_truth = np.expand_dims(np.array(ground_truth), 1)\n",
    "viz = (np.concatenate((ground_truth, predicted), axis=1)>0.5)*1\n",
    "err_perc = np.sum(np.abs(viz[:, 0] - viz[:, 1])) / np.size(viz[:, 0])\n",
    "print(\"Type prediction error:\\n\", err_perc)\n"
   ]
  },
  {
   "cell_type": "code",
   "execution_count": 134,
   "metadata": {},
   "outputs": [
    {
     "data": {
      "image/png": "[encoded data removed]",
      "text/plain": [
       "<Figure size 720x720 with 6 Axes>"
      ]
     },
     "metadata": {
      "needs_background": "light"
     },
     "output_type": "display_data"
    }
   ],
   "source": [
    "## ALL this should be on TEST set\n",
    "# Visualizing the results for attributes and labels\n",
    "attr_pred = np.squeeze(np.array(attr_pred))\n",
    "attr_gt = np.squeeze(np.array(attr_gt))\n",
    "\n",
    "fig = plt.figure(figsize=(10, 10))\n",
    "ax1 = fig.add_subplot(231)    # The big subplot\n",
    "ax2 = fig.add_subplot(232)\n",
    "ax3 = fig.add_subplot(233)\n",
    "ax4 = fig.add_subplot(234)\n",
    "ax5 = fig.add_subplot(235)\n",
    "ax6 = fig.add_subplot(236)\n",
    "\n",
    "\n",
    "ax1.imshow(attr_gt)\n",
    "ax1.set_title(\"Attributes Ground Truth\")\n",
    "ax2.imshow((attr_pred > 0.5) * 1)\n",
    "ax2.set_title(\"Attributes Predicted and Thresholded\")\n",
    "\n",
    "ax3.imshow(viz)\n",
    "ax3.set_title(\"Label (malign or benign)\")\n",
    "\n",
    "ax4.imshow(attr_gt)\n",
    "ax4.set_title(\"Attributes Ground Truth\")\n",
    "ax5.imshow(attr_pred )\n",
    "ax5.set_title(\"Attributes Predicted Soft\")\n",
    "\n",
    "ax6.imshow(viz)\n",
    "ax6.set_title(\"Label (malign or benign)\")\n",
    "\n",
    "\n",
    "plt.tight_layout(pad=0.6, w_pad=0, h_pad=1.0)\n"
   ]
  },
  {
   "cell_type": "code",
   "execution_count": 135,
   "metadata": {},
   "outputs": [
    {
     "data": {
      "text/plain": [
       "Text(0.5, 0, 'Attribute probability')"
      ]
     },
     "execution_count": 135,
     "metadata": {},
     "output_type": "execute_result"
    },
    {
     "data": {
      "image/png": "[encoded data removed]",
      "text/plain": [
       "<Figure size 432x288 with 1 Axes>"
      ]
     },
     "metadata": {
      "needs_background": "light"
     },
     "output_type": "display_data"
    }
   ],
   "source": [
    "# Visualizing G matrix\n",
    "plt.imshow(model.G_.data.detach().cpu().numpy())\n",
    "plt.title(\"Group attribute probabilites (G Matrix)\")\n",
    "plt.ylabel(\"Group\")\n",
    "plt.xlabel(\"Attribute probability\")"
   ]
  },
  {
   "cell_type": "code",
   "execution_count": 136,
   "metadata": {},
   "outputs": [
    {
     "data": {
      "text/plain": [
       "Text(0.5, 0, 'W values')"
      ]
     },
     "execution_count": 136,
     "metadata": {},
     "output_type": "execute_result"
    },
    {
     "data": {
      "image/png": "[encoded data removed]",
      "text/plain": [
       "<Figure size 432x288 with 1 Axes>"
      ]
     },
     "metadata": {
      "needs_background": "light"
     },
     "output_type": "display_data"
    }
   ],
   "source": [
    "# Visualizing W Matrix\n",
    "plt.imshow(model.W_.data.detach().cpu().numpy())\n",
    "plt.title(\"Group contribution to label pred (W Matrix)\")\n",
    "plt.ylabel(\"Group\")\n",
    "plt.xlabel(\"W values\")"
   ]
  },
  {
   "cell_type": "code",
   "execution_count": 93,
   "metadata": {},
   "outputs": [],
   "source": [
    "# Legacy CAM code\n",
    "# class CamExtractor():\n",
    "#     \"\"\"\n",
    "#         Extracts cam features from the model\n",
    "#     \"\"\"\n",
    "#     def __init__(self, model, target_layer):\n",
    "#         self.model = model\n",
    "#         self.target_layer = target_layer\n",
    "        \n",
    "\n",
    "#     def forward_pass_on_convolutions(self, x):\n",
    "#         \"\"\"\n",
    "#             Does a forward pass on convolutions, hooks the function at given layer\n",
    "#         \"\"\"\n",
    "#         conv_output = None\n",
    "#         module_pos = 1\n",
    "#         for module in self.model.features:\n",
    "#             x = model.pool(module(x))  # Forward\n",
    "#             if int(module_pos) == self.target_layer:\n",
    "#                 conv_output = x  # Save the convolution output on that layer\n",
    "#             module_pos += 1\n",
    "#         return conv_output, x\n",
    "\n",
    "#     def forward_pass(self, x):\n",
    "#         \"\"\"\n",
    "#             Does a full forward pass on the model\n",
    "#         \"\"\"\n",
    "#         conv_output, _ = self.forward_pass_on_convolutions(x)\n",
    "#         x = F.interpolate(x, (300, 300), mode='bilinear')\n",
    "#         (x_, _) = model(x)\n",
    "#         return conv_output, x_\n",
    "\n",
    "    \n",
    "# extractor = CamExtractor(model, 4)\n",
    "\n",
    "# count = 0\n",
    "# for data in test_generator:\n",
    "#     y_im_test = data[\"labels\"][:, 15].to(device)\n",
    "#     x_im_test = data[\"image\"]\n",
    "#     x_im_test = x_im_test.to(device)\n",
    "\n",
    "\n",
    "#     [conv_out, x] = extractor.forward_pass_on_convolutions(x_im_test)\n",
    "#     target = conv_out\n",
    "#     cam = np.ones((target.shape[1:]), dtype=np.float32)\n",
    "#     sal_map = np.zeros((224, 224))\n",
    "#     for i in range(np.shape(target)[1]):\n",
    "#                 # Unsqueeze to 4D\n",
    "#                 saliency_map = torch.unsqueeze(torch.unsqueeze(target[0, i, :, :],0),0)\n",
    "#                 # Upsampling to input size\n",
    "#                 saliency_map = F.interpolate(saliency_map, size=(224, 224), mode='bilinear', align_corners=False)\n",
    "#                 if saliency_map.max() == saliency_map.min():\n",
    "#                     continue\n",
    "#                 # Scale between 0-1\n",
    "#                 norm_saliency_map = (saliency_map - saliency_map.min()) / (saliency_map.max() - saliency_map.min())\n",
    "#                 inim = F.interpolate(x_im_test, size=(224, 224), mode='bilinear')\n",
    "#                 w = extractor.forward_pass(inim * norm_saliency_map)[1]\n",
    "#                 sal_map += w.cpu().data.numpy() * norm_saliency_map.cpu().data.numpy()[0, 0, :, :]\n",
    "#                 cam += w.cpu().data.numpy() * target[0, i, :, :].cpu().data.numpy()\n",
    "\n",
    "\n",
    "#     fig = plt.figure(figsize=(15, 10))\n",
    "\n",
    "#     ax0 = fig.add_subplot(131)\n",
    "#     ax0.imshow(np.transpose(np.squeeze(x_im_test.cpu().detach().numpy()), (1, 2, 0)))\n",
    "\n",
    "#     ax1 = fig.add_subplot(132)\n",
    "#     ax1.imshow(sal_map)\n",
    "\n",
    "#     ax2 = fig.add_subplot(133)\n",
    "#     ax2.imshow(cam[0, :, :])\n",
    "#     count += 1\n",
    "#     if(count == 10):\n",
    "#         break\n"
   ]
  },
  {
   "cell_type": "code",
   "execution_count": 56,
   "metadata": {},
   "outputs": [
    {
     "data": {
      "text/plain": [
       "<matplotlib.image.AxesImage at 0x7f1045a1c100>"
      ]
     },
     "execution_count": 56,
     "metadata": {},
     "output_type": "execute_result"
    },
    {
     "data": {
      "image/png": "[encoded data removed]",
      "text/plain": [
       "<Figure size 432x288 with 2 Axes>"
      ]
     },
     "metadata": {
      "needs_background": "light"
     },
     "output_type": "display_data"
    }
   ],
   "source": [
    "# Legacy CAM code\n",
    "# fig = plt.figure()\n",
    "# ax0 = fig.add_subplot(121)\n",
    "# ax0.imshow(sal_map)\n",
    "\n",
    "# ax1 = fig.add_subplot(122)\n",
    "# ax1.imshow(np.transpose(np.squeeze(x_im_test.cpu().detach().numpy()), (1, 2, 0)))\n",
    "\n"
   ]
  },
  {
   "cell_type": "code",
   "execution_count": 137,
   "metadata": {},
   "outputs": [],
   "source": [
    "#Sankey plot code for G matrix\n",
    "source = [i % a for i in range(z*a)]\n",
    "target = [(i // 15) + 15 for i in range(z*a)]\n",
    "G[G < 0.1] = 0.0\n",
    "value = G.flatten().tolist()\n",
    "#print(len(source), len(target), len(value))\n",
    "\n",
    "color_node = [\n",
    "              '#808080', '#808080', '#808080', '#808080', '#808080',\n",
    "              '#808080', '#808080', '#808080', '#808080', '#808080',\n",
    "              '#808080', '#808080', '#808080', '#808080', '#808080',\n",
    "              '#FF0000', '#FFFF00', '#00FF00', '#00FFFF', '#FF00FF',\n",
    "              '#00CED1', '#FF8C00', '#BDB76B', '#2F4F4F', '#B8860B'\n",
    "              ]\n",
    "\n",
    "color_link = []\n",
    "link_colors = ['#F08080', '#FFFACD', '#98FB98', '#87CEFA', '#EE82EE',\n",
    "              '#AFEEEE', '#FFA500', '#F0E68C', '#708090', '#DAA520']"
   ]
  },
  {
   "cell_type": "code",
   "execution_count": 138,
   "metadata": {},
   "outputs": [
    {
     "data": {
      "application/vnd.plotly.v1+json": {
       "config": {
        "plotlyServerURL": "https://plot.ly"
       },
       "data": [
        {
         "link": {
          "color": [
           "#F08080",
           "#F08080",
           "#F08080",
           "#F08080",
           "#F08080",
           "#F08080",
           "#F08080",
           "#F08080",
           "#F08080",
           "#F08080",
           "#F08080",
           "#F08080",
           "#F08080",
           "#F08080",
           "#F08080",
           "#FFFACD",
           "#FFFACD",
           "#FFFACD",
           "#FFFACD",
           "#FFFACD",
           "#FFFACD",
           "#FFFACD",
           "#FFFACD",
           "#FFFACD",
           "#FFFACD",
           "#FFFACD",
           "#FFFACD",
           "#FFFACD",
           "#FFFACD",
           "#FFFACD",
           "#98FB98",
           "#98FB98",
           "#98FB98",
           "#98FB98",
           "#98FB98",
           "#98FB98",
           "#98FB98",
           "#98FB98",
           "#98FB98",
           "#98FB98",
           "#98FB98",
           "#98FB98",
           "#98FB98",
           "#98FB98",
           "#98FB98",
           "#87CEFA",
           "#87CEFA",
           "#87CEFA",
           "#87CEFA",
           "#87CEFA",
           "#87CEFA",
           "#87CEFA",
           "#87CEFA",
           "#87CEFA",
           "#87CEFA",
           "#87CEFA",
           "#87CEFA",
           "#87CEFA",
           "#87CEFA",
           "#87CEFA",
           "#EE82EE",
           "#EE82EE",
           "#EE82EE",
           "#EE82EE",
           "#EE82EE",
           "#EE82EE",
           "#EE82EE",
           "#EE82EE",
           "#EE82EE",
           "#EE82EE",
           "#EE82EE",
           "#EE82EE",
           "#EE82EE",
           "#EE82EE",
           "#EE82EE",
           "#AFEEEE",
           "#AFEEEE",
           "#AFEEEE",
           "#AFEEEE",
           "#AFEEEE",
           "#AFEEEE",
           "#AFEEEE",
           "#AFEEEE",
           "#AFEEEE",
           "#AFEEEE",
           "#AFEEEE",
           "#AFEEEE",
           "#AFEEEE",
           "#AFEEEE",
           "#AFEEEE",
           "#FFA500",
           "#FFA500",
           "#FFA500",
           "#FFA500",
           "#FFA500",
           "#FFA500",
           "#FFA500",
           "#FFA500",
           "#FFA500",
           "#FFA500",
           "#FFA500",
           "#FFA500",
           "#FFA500",
           "#FFA500",
           "#FFA500"
          ],
          "source": [
           0,
           1,
           2,
           3,
           4,
           5,
           6,
           7,
           8,
           9,
           10,
           11,
           12,
           13,
           14,
           0,
           1,
           2,
           3,
           4,
           5,
           6,
           7,
           8,
           9,
           10,
           11,
           12,
           13,
           14,
           0,
           1,
           2,
           3,
           4,
           5,
           6,
           7,
           8,
           9,
           10,
           11,
           12,
           13,
           14,
           0,
           1,
           2,
           3,
           4,
           5,
           6,
           7,
           8,
           9,
           10,
           11,
           12,
           13,
           14,
           0,
           1,
           2,
           3,
           4,
           5,
           6,
           7,
           8,
           9,
           10,
           11,
           12,
           13,
           14,
           0,
           1,
           2,
           3,
           4,
           5,
           6,
           7,
           8,
           9,
           10,
           11,
           12,
           13,
           14,
           0,
           1,
           2,
           3,
           4,
           5,
           6,
           7,
           8,
           9,
           10,
           11,
           12,
           13,
           14
          ],
          "target": [
           15,
           15,
           15,
           15,
           15,
           15,
           15,
           15,
           15,
           15,
           15,
           15,
           15,
           15,
           15,
           16,
           16,
           16,
           16,
           16,
           16,
           16,
           16,
           16,
           16,
           16,
           16,
           16,
           16,
           16,
           17,
           17,
           17,
           17,
           17,
           17,
           17,
           17,
           17,
           17,
           17,
           17,
           17,
           17,
           17,
           18,
           18,
           18,
           18,
           18,
           18,
           18,
           18,
           18,
           18,
           18,
           18,
           18,
           18,
           18,
           19,
           19,
           19,
           19,
           19,
           19,
           19,
           19,
           19,
           19,
           19,
           19,
           19,
           19,
           19,
           20,
           20,
           20,
           20,
           20,
           20,
           20,
           20,
           20,
           20,
           20,
           20,
           20,
           20,
           20,
           21,
           21,
           21,
           21,
           21,
           21,
           21,
           21,
           21,
           21,
           21,
           21,
           21,
           21,
           21
          ],
          "value": [
           0,
           1.4302810760871307,
           0.1639273664406985,
           1.6160160927280853,
           0.2281897387159748,
           0,
           0,
           1.6872604201522128,
           0,
           0.30638039980052645,
           0.18289585826138208,
           0,
           0,
           0.47149755361594686,
           0.8803354585610182,
           0.17743406547683876,
           0,
           0.6031407744421275,
           1.1980963419661697,
           2.415942632072242,
           1.068516035863765,
           0,
           0,
           1.0007774499759656,
           0,
           0,
           0,
           0,
           0.3782099636064107,
           0.4795659448483782,
           0.7899224790188215,
           2.6077872009159533,
           0.43611130540637794,
           1.323551206139235,
           0,
           0,
           0,
           1.729905806117427,
           0.6395984894806763,
           0,
           0.5191083054081724,
           0.5438050193755911,
           1.0542863876574637,
           0,
           0.5415768172084301,
           1.755379214627956,
           0,
           1.1884710241190752,
           0.6585236561721292,
           0,
           0,
           0,
           0,
           1.3998624762187808,
           1.4091952532424166,
           0,
           0,
           0.9543457723927714,
           0,
           1.4773109398416657,
           1.0193540172078888,
           0.7765997100343841,
           0.9615883355558961,
           0,
           0,
           0,
           0,
           0,
           1.2708791263438333,
           0,
           0,
           1.0784089309871667,
           0.7814321079034191,
           0.43987112847776577,
           0,
           0.2685512659437953,
           0,
           1.1157730988390033,
           0.19113249958687617,
           1.2984706729225632,
           0,
           0,
           0.6604215553078117,
           0,
           0.5594614514473772,
           0.31415058119192735,
           0,
           0,
           0.2011221787334488,
           0,
           1.8841769462296316,
           0,
           1.8702851768735838,
           0.48406341712787687,
           0.8801210058247427,
           1.0341767567985067,
           0.6121063895850984,
           0,
           0,
           0.5075617292608343,
           0.410497257698101,
           0.50809697288432,
           0.7033818449604923,
           0,
           1.9814144011439014
          ]
         },
         "node": {
          "color": [
           "#808080",
           "#808080",
           "#808080",
           "#808080",
           "#808080",
           "#808080",
           "#808080",
           "#808080",
           "#808080",
           "#808080",
           "#808080",
           "#808080",
           "#808080",
           "#808080",
           "#808080",
           "#FF0000",
           "#FFFF00",
           "#00FF00",
           "#00FFFF",
           "#FF00FF",
           "#00CED1",
           "#FF8C00",
           "#BDB76B",
           "#2F4F4F",
           "#B8860B"
          ],
          "label": [
           "cystic",
           "mostly solid",
           "solid",
           "spongiform",
           "hyper",
           "hypo",
           "iso",
           "marked",
           "ill-defined",
           "micro",
           "spiculated",
           "smooth",
           "macro",
           "micro",
           "non",
           "G1",
           "G2",
           "G3",
           "G4",
           "G5",
           "G6",
           "G7",
           "G8",
           "G9",
           "G10"
          ],
          "pad": 15,
          "thickness": 20
         },
         "type": "sankey"
        }
       ],
       "layout": {
        "font": {
         "size": 10
        },
        "template": {
         "data": {
          "bar": [
           {
            "error_x": {
             "color": "#2a3f5f"
            },
            "error_y": {
             "color": "#2a3f5f"
            },
            "marker": {
             "line": {
              "color": "#E5ECF6",
              "width": 0.5
             }
            },
            "type": "bar"
           }
          ],
          "barpolar": [
           {
            "marker": {
             "line": {
              "color": "#E5ECF6",
              "width": 0.5
             }
            },
            "type": "barpolar"
           }
          ],
          "carpet": [
           {
            "aaxis": {
             "endlinecolor": "#2a3f5f",
             "gridcolor": "white",
             "linecolor": "white",
             "minorgridcolor": "white",
             "startlinecolor": "#2a3f5f"
            },
            "baxis": {
             "endlinecolor": "#2a3f5f",
             "gridcolor": "white",
             "linecolor": "white",
             "minorgridcolor": "white",
             "startlinecolor": "#2a3f5f"
            },
            "type": "carpet"
           }
          ],
          "choropleth": [
           {
            "colorbar": {
             "outlinewidth": 0,
             "ticks": ""
            },
            "type": "choropleth"
           }
          ],
          "contour": [
           {
            "colorbar": {
             "outlinewidth": 0,
             "ticks": ""
            },
            "colorscale": [
             [
              0,
              "#0d0887"
             ],
             [
              0.1111111111111111,
              "#46039f"
             ],
             [
              0.2222222222222222,
              "#7201a8"
             ],
             [
              0.3333333333333333,
              "#9c179e"
             ],
             [
              0.4444444444444444,
              "#bd3786"
             ],
             [
              0.5555555555555556,
              "#d8576b"
             ],
             [
              0.6666666666666666,
              "#ed7953"
             ],
             [
              0.7777777777777778,
              "#fb9f3a"
             ],
             [
              0.8888888888888888,
              "#fdca26"
             ],
             [
              1,
              "#f0f921"
             ]
            ],
            "type": "contour"
           }
          ],
          "contourcarpet": [
           {
            "colorbar": {
             "outlinewidth": 0,
             "ticks": ""
            },
            "type": "contourcarpet"
           }
          ],
          "heatmap": [
           {
            "colorbar": {
             "outlinewidth": 0,
             "ticks": ""
            },
            "colorscale": [
             [
              0,
              "#0d0887"
             ],
             [
              0.1111111111111111,
              "#46039f"
             ],
             [
              0.2222222222222222,
              "#7201a8"
             ],
             [
              0.3333333333333333,
              "#9c179e"
             ],
             [
              0.4444444444444444,
              "#bd3786"
             ],
             [
              0.5555555555555556,
              "#d8576b"
             ],
             [
              0.6666666666666666,
              "#ed7953"
             ],
             [
              0.7777777777777778,
              "#fb9f3a"
             ],
             [
              0.8888888888888888,
              "#fdca26"
             ],
             [
              1,
              "#f0f921"
             ]
            ],
            "type": "heatmap"
           }
          ],
          "heatmapgl": [
           {
            "colorbar": {
             "outlinewidth": 0,
             "ticks": ""
            },
            "colorscale": [
             [
              0,
              "#0d0887"
             ],
             [
              0.1111111111111111,
              "#46039f"
             ],
             [
              0.2222222222222222,
              "#7201a8"
             ],
             [
              0.3333333333333333,
              "#9c179e"
             ],
             [
              0.4444444444444444,
              "#bd3786"
             ],
             [
              0.5555555555555556,
              "#d8576b"
             ],
             [
              0.6666666666666666,
              "#ed7953"
             ],
             [
              0.7777777777777778,
              "#fb9f3a"
             ],
             [
              0.8888888888888888,
              "#fdca26"
             ],
             [
              1,
              "#f0f921"
             ]
            ],
            "type": "heatmapgl"
           }
          ],
          "histogram": [
           {
            "marker": {
             "colorbar": {
              "outlinewidth": 0,
              "ticks": ""
             }
            },
            "type": "histogram"
           }
          ],
          "histogram2d": [
           {
            "colorbar": {
             "outlinewidth": 0,
             "ticks": ""
            },
            "colorscale": [
             [
              0,
              "#0d0887"
             ],
             [
              0.1111111111111111,
              "#46039f"
             ],
             [
              0.2222222222222222,
              "#7201a8"
             ],
             [
              0.3333333333333333,
              "#9c179e"
             ],
             [
              0.4444444444444444,
              "#bd3786"
             ],
             [
              0.5555555555555556,
              "#d8576b"
             ],
             [
              0.6666666666666666,
              "#ed7953"
             ],
             [
              0.7777777777777778,
              "#fb9f3a"
             ],
             [
              0.8888888888888888,
              "#fdca26"
             ],
             [
              1,
              "#f0f921"
             ]
            ],
            "type": "histogram2d"
           }
          ],
          "histogram2dcontour": [
           {
            "colorbar": {
             "outlinewidth": 0,
             "ticks": ""
            },
            "colorscale": [
             [
              0,
              "#0d0887"
             ],
             [
              0.1111111111111111,
              "#46039f"
             ],
             [
              0.2222222222222222,
              "#7201a8"
             ],
             [
              0.3333333333333333,
              "#9c179e"
             ],
             [
              0.4444444444444444,
              "#bd3786"
             ],
             [
              0.5555555555555556,
              "#d8576b"
             ],
             [
              0.6666666666666666,
              "#ed7953"
             ],
             [
              0.7777777777777778,
              "#fb9f3a"
             ],
             [
              0.8888888888888888,
              "#fdca26"
             ],
             [
              1,
              "#f0f921"
             ]
            ],
            "type": "histogram2dcontour"
           }
          ],
          "mesh3d": [
           {
            "colorbar": {
             "outlinewidth": 0,
             "ticks": ""
            },
            "type": "mesh3d"
           }
          ],
          "parcoords": [
           {
            "line": {
             "colorbar": {
              "outlinewidth": 0,
              "ticks": ""
             }
            },
            "type": "parcoords"
           }
          ],
          "scatter": [
           {
            "marker": {
             "colorbar": {
              "outlinewidth": 0,
              "ticks": ""
             }
            },
            "type": "scatter"
           }
          ],
          "scatter3d": [
           {
            "line": {
             "colorbar": {
              "outlinewidth": 0,
              "ticks": ""
             }
            },
            "marker": {
             "colorbar": {
              "outlinewidth": 0,
              "ticks": ""
             }
            },
            "type": "scatter3d"
           }
          ],
          "scattercarpet": [
           {
            "marker": {
             "colorbar": {
              "outlinewidth": 0,
              "ticks": ""
             }
            },
            "type": "scattercarpet"
           }
          ],
          "scattergeo": [
           {
            "marker": {
             "colorbar": {
              "outlinewidth": 0,
              "ticks": ""
             }
            },
            "type": "scattergeo"
           }
          ],
          "scattergl": [
           {
            "marker": {
             "colorbar": {
              "outlinewidth": 0,
              "ticks": ""
             }
            },
            "type": "scattergl"
           }
          ],
          "scattermapbox": [
           {
            "marker": {
             "colorbar": {
              "outlinewidth": 0,
              "ticks": ""
             }
            },
            "type": "scattermapbox"
           }
          ],
          "scatterpolar": [
           {
            "marker": {
             "colorbar": {
              "outlinewidth": 0,
              "ticks": ""
             }
            },
            "type": "scatterpolar"
           }
          ],
          "scatterpolargl": [
           {
            "marker": {
             "colorbar": {
              "outlinewidth": 0,
              "ticks": ""
             }
            },
            "type": "scatterpolargl"
           }
          ],
          "scatterternary": [
           {
            "marker": {
             "colorbar": {
              "outlinewidth": 0,
              "ticks": ""
             }
            },
            "type": "scatterternary"
           }
          ],
          "surface": [
           {
            "colorbar": {
             "outlinewidth": 0,
             "ticks": ""
            },
            "colorscale": [
             [
              0,
              "#0d0887"
             ],
             [
              0.1111111111111111,
              "#46039f"
             ],
             [
              0.2222222222222222,
              "#7201a8"
             ],
             [
              0.3333333333333333,
              "#9c179e"
             ],
             [
              0.4444444444444444,
              "#bd3786"
             ],
             [
              0.5555555555555556,
              "#d8576b"
             ],
             [
              0.6666666666666666,
              "#ed7953"
             ],
             [
              0.7777777777777778,
              "#fb9f3a"
             ],
             [
              0.8888888888888888,
              "#fdca26"
             ],
             [
              1,
              "#f0f921"
             ]
            ],
            "type": "surface"
           }
          ],
          "table": [
           {
            "cells": {
             "fill": {
              "color": "#EBF0F8"
             },
             "line": {
              "color": "white"
             }
            },
            "header": {
             "fill": {
              "color": "#C8D4E3"
             },
             "line": {
              "color": "white"
             }
            },
            "type": "table"
           }
          ]
         },
         "layout": {
          "annotationdefaults": {
           "arrowcolor": "#2a3f5f",
           "arrowhead": 0,
           "arrowwidth": 1
          },
          "colorscale": {
           "diverging": [
            [
             0,
             "#8e0152"
            ],
            [
             0.1,
             "#c51b7d"
            ],
            [
             0.2,
             "#de77ae"
            ],
            [
             0.3,
             "#f1b6da"
            ],
            [
             0.4,
             "#fde0ef"
            ],
            [
             0.5,
             "#f7f7f7"
            ],
            [
             0.6,
             "#e6f5d0"
            ],
            [
             0.7,
             "#b8e186"
            ],
            [
             0.8,
             "#7fbc41"
            ],
            [
             0.9,
             "#4d9221"
            ],
            [
             1,
             "#276419"
            ]
           ],
           "sequential": [
            [
             0,
             "#0d0887"
            ],
            [
             0.1111111111111111,
             "#46039f"
            ],
            [
             0.2222222222222222,
             "#7201a8"
            ],
            [
             0.3333333333333333,
             "#9c179e"
            ],
            [
             0.4444444444444444,
             "#bd3786"
            ],
            [
             0.5555555555555556,
             "#d8576b"
            ],
            [
             0.6666666666666666,
             "#ed7953"
            ],
            [
             0.7777777777777778,
             "#fb9f3a"
            ],
            [
             0.8888888888888888,
             "#fdca26"
            ],
            [
             1,
             "#f0f921"
            ]
           ],
           "sequentialminus": [
            [
             0,
             "#0d0887"
            ],
            [
             0.1111111111111111,
             "#46039f"
            ],
            [
             0.2222222222222222,
             "#7201a8"
            ],
            [
             0.3333333333333333,
             "#9c179e"
            ],
            [
             0.4444444444444444,
             "#bd3786"
            ],
            [
             0.5555555555555556,
             "#d8576b"
            ],
            [
             0.6666666666666666,
             "#ed7953"
            ],
            [
             0.7777777777777778,
             "#fb9f3a"
            ],
            [
             0.8888888888888888,
             "#fdca26"
            ],
            [
             1,
             "#f0f921"
            ]
           ]
          },
          "colorway": [
           "#636efa",
           "#EF553B",
           "#00cc96",
           "#ab63fa",
           "#FFA15A",
           "#19d3f3",
           "#FF6692",
           "#B6E880",
           "#FF97FF",
           "#FECB52"
          ],
          "font": {
           "color": "#2a3f5f"
          },
          "geo": {
           "bgcolor": "white",
           "lakecolor": "white",
           "landcolor": "#E5ECF6",
           "showlakes": true,
           "showland": true,
           "subunitcolor": "white"
          },
          "hoverlabel": {
           "align": "left"
          },
          "hovermode": "closest",
          "mapbox": {
           "style": "light"
          },
          "paper_bgcolor": "white",
          "plot_bgcolor": "#E5ECF6",
          "polar": {
           "angularaxis": {
            "gridcolor": "white",
            "linecolor": "white",
            "ticks": ""
           },
           "bgcolor": "#E5ECF6",
           "radialaxis": {
            "gridcolor": "white",
            "linecolor": "white",
            "ticks": ""
           }
          },
          "scene": {
           "xaxis": {
            "backgroundcolor": "#E5ECF6",
            "gridcolor": "white",
            "gridwidth": 2,
            "linecolor": "white",
            "showbackground": true,
            "ticks": "",
            "zerolinecolor": "white"
           },
           "yaxis": {
            "backgroundcolor": "#E5ECF6",
            "gridcolor": "white",
            "gridwidth": 2,
            "linecolor": "white",
            "showbackground": true,
            "ticks": "",
            "zerolinecolor": "white"
           },
           "zaxis": {
            "backgroundcolor": "#E5ECF6",
            "gridcolor": "white",
            "gridwidth": 2,
            "linecolor": "white",
            "showbackground": true,
            "ticks": "",
            "zerolinecolor": "white"
           }
          },
          "shapedefaults": {
           "line": {
            "color": "#2a3f5f"
           }
          },
          "ternary": {
           "aaxis": {
            "gridcolor": "white",
            "linecolor": "white",
            "ticks": ""
           },
           "baxis": {
            "gridcolor": "white",
            "linecolor": "white",
            "ticks": ""
           },
           "bgcolor": "#E5ECF6",
           "caxis": {
            "gridcolor": "white",
            "linecolor": "white",
            "ticks": ""
           }
          },
          "title": {
           "x": 0.05
          },
          "xaxis": {
           "automargin": true,
           "gridcolor": "white",
           "linecolor": "white",
           "ticks": "",
           "zerolinecolor": "white",
           "zerolinewidth": 2
          },
          "yaxis": {
           "automargin": true,
           "gridcolor": "white",
           "linecolor": "white",
           "ticks": "",
           "zerolinecolor": "white",
           "zerolinewidth": 2
          }
         }
        },
        "title": {
         "text": "Basic Sankey Diagram"
        }
       }
      },
      "text/html": [
       "<div>\n",
       "        \n",
       "        \n",
       "            <div id=\"01750cc1-cc9b-4202-8383-2edffea337d1\" class=\"plotly-graph-div\" style=\"height:525px; width:100%;\"></div>\n",
       "            <script type=\"text/javascript\">\n",
       "                require([\"plotly\"], function(Plotly) {\n",
       "                    window.PLOTLYENV=window.PLOTLYENV || {};\n",
       "                    \n",
       "                if (document.getElementById(\"01750cc1-cc9b-4202-8383-2edffea337d1\")) {\n",
       "                    Plotly.newPlot(\n",
       "                        '01750cc1-cc9b-4202-8383-2edffea337d1',\n",
       "                        [{\"link\": {\"color\": [\"#F08080\", \"#F08080\", \"#F08080\", \"#F08080\", \"#F08080\", \"#F08080\", \"#F08080\", \"#F08080\", \"#F08080\", \"#F08080\", \"#F08080\", \"#F08080\", \"#F08080\", \"#F08080\", \"#F08080\", \"#FFFACD\", \"#FFFACD\", \"#FFFACD\", \"#FFFACD\", \"#FFFACD\", \"#FFFACD\", \"#FFFACD\", \"#FFFACD\", \"#FFFACD\", \"#FFFACD\", \"#FFFACD\", \"#FFFACD\", \"#FFFACD\", \"#FFFACD\", \"#FFFACD\", \"#98FB98\", \"#98FB98\", \"#98FB98\", \"#98FB98\", \"#98FB98\", \"#98FB98\", \"#98FB98\", \"#98FB98\", \"#98FB98\", \"#98FB98\", \"#98FB98\", \"#98FB98\", \"#98FB98\", \"#98FB98\", \"#98FB98\", \"#87CEFA\", \"#87CEFA\", \"#87CEFA\", \"#87CEFA\", \"#87CEFA\", \"#87CEFA\", \"#87CEFA\", \"#87CEFA\", \"#87CEFA\", \"#87CEFA\", \"#87CEFA\", \"#87CEFA\", \"#87CEFA\", \"#87CEFA\", \"#87CEFA\", \"#EE82EE\", \"#EE82EE\", \"#EE82EE\", \"#EE82EE\", \"#EE82EE\", \"#EE82EE\", \"#EE82EE\", \"#EE82EE\", \"#EE82EE\", \"#EE82EE\", \"#EE82EE\", \"#EE82EE\", \"#EE82EE\", \"#EE82EE\", \"#EE82EE\", \"#AFEEEE\", \"#AFEEEE\", \"#AFEEEE\", \"#AFEEEE\", \"#AFEEEE\", \"#AFEEEE\", \"#AFEEEE\", \"#AFEEEE\", \"#AFEEEE\", \"#AFEEEE\", \"#AFEEEE\", \"#AFEEEE\", \"#AFEEEE\", \"#AFEEEE\", \"#AFEEEE\", \"#FFA500\", \"#FFA500\", \"#FFA500\", \"#FFA500\", \"#FFA500\", \"#FFA500\", \"#FFA500\", \"#FFA500\", \"#FFA500\", \"#FFA500\", \"#FFA500\", \"#FFA500\", \"#FFA500\", \"#FFA500\", \"#FFA500\"], \"source\": [0, 1, 2, 3, 4, 5, 6, 7, 8, 9, 10, 11, 12, 13, 14, 0, 1, 2, 3, 4, 5, 6, 7, 8, 9, 10, 11, 12, 13, 14, 0, 1, 2, 3, 4, 5, 6, 7, 8, 9, 10, 11, 12, 13, 14, 0, 1, 2, 3, 4, 5, 6, 7, 8, 9, 10, 11, 12, 13, 14, 0, 1, 2, 3, 4, 5, 6, 7, 8, 9, 10, 11, 12, 13, 14, 0, 1, 2, 3, 4, 5, 6, 7, 8, 9, 10, 11, 12, 13, 14, 0, 1, 2, 3, 4, 5, 6, 7, 8, 9, 10, 11, 12, 13, 14], \"target\": [15, 15, 15, 15, 15, 15, 15, 15, 15, 15, 15, 15, 15, 15, 15, 16, 16, 16, 16, 16, 16, 16, 16, 16, 16, 16, 16, 16, 16, 16, 17, 17, 17, 17, 17, 17, 17, 17, 17, 17, 17, 17, 17, 17, 17, 18, 18, 18, 18, 18, 18, 18, 18, 18, 18, 18, 18, 18, 18, 18, 19, 19, 19, 19, 19, 19, 19, 19, 19, 19, 19, 19, 19, 19, 19, 20, 20, 20, 20, 20, 20, 20, 20, 20, 20, 20, 20, 20, 20, 20, 21, 21, 21, 21, 21, 21, 21, 21, 21, 21, 21, 21, 21, 21, 21], \"value\": [0.0, 1.4302810760871307, 0.1639273664406985, 1.6160160927280853, 0.2281897387159748, 0.0, 0.0, 1.6872604201522128, 0.0, 0.30638039980052645, 0.18289585826138208, 0.0, 0.0, 0.47149755361594686, 0.8803354585610182, 0.17743406547683876, 0.0, 0.6031407744421275, 1.1980963419661697, 2.415942632072242, 1.068516035863765, 0.0, 0.0, 1.0007774499759656, 0.0, 0.0, 0.0, 0.0, 0.3782099636064107, 0.4795659448483782, 0.7899224790188215, 2.6077872009159533, 0.43611130540637794, 1.323551206139235, 0.0, 0.0, 0.0, 1.729905806117427, 0.6395984894806763, 0.0, 0.5191083054081724, 0.5438050193755911, 1.0542863876574637, 0.0, 0.5415768172084301, 1.755379214627956, 0.0, 1.1884710241190752, 0.6585236561721292, 0.0, 0.0, 0.0, 0.0, 1.3998624762187808, 1.4091952532424166, 0.0, 0.0, 0.9543457723927714, 0.0, 1.4773109398416657, 1.0193540172078888, 0.7765997100343841, 0.9615883355558961, 0.0, 0.0, 0.0, 0.0, 0.0, 1.2708791263438333, 0.0, 0.0, 1.0784089309871667, 0.7814321079034191, 0.43987112847776577, 0.0, 0.2685512659437953, 0.0, 1.1157730988390033, 0.19113249958687617, 1.2984706729225632, 0.0, 0.0, 0.6604215553078117, 0.0, 0.5594614514473772, 0.31415058119192735, 0.0, 0.0, 0.2011221787334488, 0.0, 1.8841769462296316, 0.0, 1.8702851768735838, 0.48406341712787687, 0.8801210058247427, 1.0341767567985067, 0.6121063895850984, 0.0, 0.0, 0.5075617292608343, 0.410497257698101, 0.50809697288432, 0.7033818449604923, 0.0, 1.9814144011439014]}, \"node\": {\"color\": [\"#808080\", \"#808080\", \"#808080\", \"#808080\", \"#808080\", \"#808080\", \"#808080\", \"#808080\", \"#808080\", \"#808080\", \"#808080\", \"#808080\", \"#808080\", \"#808080\", \"#808080\", \"#FF0000\", \"#FFFF00\", \"#00FF00\", \"#00FFFF\", \"#FF00FF\", \"#00CED1\", \"#FF8C00\", \"#BDB76B\", \"#2F4F4F\", \"#B8860B\"], \"label\": [\"cystic\", \"mostly solid\", \"solid\", \"spongiform\", \"hyper\", \"hypo\", \"iso\", \"marked\", \"ill-defined\", \"micro\", \"spiculated\", \"smooth\", \"macro\", \"micro\", \"non\", \"G1\", \"G2\", \"G3\", \"G4\", \"G5\", \"G6\", \"G7\", \"G8\", \"G9\", \"G10\"], \"pad\": 15, \"thickness\": 20}, \"type\": \"sankey\"}],\n",
       "                        {\"font\": {\"size\": 10}, \"template\": {\"data\": {\"bar\": [{\"error_x\": {\"color\": \"#2a3f5f\"}, \"error_y\": {\"color\": \"#2a3f5f\"}, \"marker\": {\"line\": {\"color\": \"#E5ECF6\", \"width\": 0.5}}, \"type\": \"bar\"}], \"barpolar\": [{\"marker\": {\"line\": {\"color\": \"#E5ECF6\", \"width\": 0.5}}, \"type\": \"barpolar\"}], \"carpet\": [{\"aaxis\": {\"endlinecolor\": \"#2a3f5f\", \"gridcolor\": \"white\", \"linecolor\": \"white\", \"minorgridcolor\": \"white\", \"startlinecolor\": \"#2a3f5f\"}, \"baxis\": {\"endlinecolor\": \"#2a3f5f\", \"gridcolor\": \"white\", \"linecolor\": \"white\", \"minorgridcolor\": \"white\", \"startlinecolor\": \"#2a3f5f\"}, \"type\": \"carpet\"}], \"choropleth\": [{\"colorbar\": {\"outlinewidth\": 0, \"ticks\": \"\"}, \"type\": \"choropleth\"}], \"contour\": [{\"colorbar\": {\"outlinewidth\": 0, \"ticks\": \"\"}, \"colorscale\": [[0.0, \"#0d0887\"], [0.1111111111111111, \"#46039f\"], [0.2222222222222222, \"#7201a8\"], [0.3333333333333333, \"#9c179e\"], [0.4444444444444444, \"#bd3786\"], [0.5555555555555556, \"#d8576b\"], [0.6666666666666666, \"#ed7953\"], [0.7777777777777778, \"#fb9f3a\"], [0.8888888888888888, \"#fdca26\"], [1.0, \"#f0f921\"]], \"type\": \"contour\"}], \"contourcarpet\": [{\"colorbar\": {\"outlinewidth\": 0, \"ticks\": \"\"}, \"type\": \"contourcarpet\"}], \"heatmap\": [{\"colorbar\": {\"outlinewidth\": 0, \"ticks\": \"\"}, \"colorscale\": [[0.0, \"#0d0887\"], [0.1111111111111111, \"#46039f\"], [0.2222222222222222, \"#7201a8\"], [0.3333333333333333, \"#9c179e\"], [0.4444444444444444, \"#bd3786\"], [0.5555555555555556, \"#d8576b\"], [0.6666666666666666, \"#ed7953\"], [0.7777777777777778, \"#fb9f3a\"], [0.8888888888888888, \"#fdca26\"], [1.0, \"#f0f921\"]], \"type\": \"heatmap\"}], \"heatmapgl\": [{\"colorbar\": {\"outlinewidth\": 0, \"ticks\": \"\"}, \"colorscale\": [[0.0, \"#0d0887\"], [0.1111111111111111, \"#46039f\"], [0.2222222222222222, \"#7201a8\"], [0.3333333333333333, \"#9c179e\"], [0.4444444444444444, \"#bd3786\"], [0.5555555555555556, \"#d8576b\"], [0.6666666666666666, \"#ed7953\"], [0.7777777777777778, \"#fb9f3a\"], [0.8888888888888888, \"#fdca26\"], [1.0, \"#f0f921\"]], \"type\": \"heatmapgl\"}], \"histogram\": [{\"marker\": {\"colorbar\": {\"outlinewidth\": 0, \"ticks\": \"\"}}, \"type\": \"histogram\"}], \"histogram2d\": [{\"colorbar\": {\"outlinewidth\": 0, \"ticks\": \"\"}, \"colorscale\": [[0.0, \"#0d0887\"], [0.1111111111111111, \"#46039f\"], [0.2222222222222222, \"#7201a8\"], [0.3333333333333333, \"#9c179e\"], [0.4444444444444444, \"#bd3786\"], [0.5555555555555556, \"#d8576b\"], [0.6666666666666666, \"#ed7953\"], [0.7777777777777778, \"#fb9f3a\"], [0.8888888888888888, \"#fdca26\"], [1.0, \"#f0f921\"]], \"type\": \"histogram2d\"}], \"histogram2dcontour\": [{\"colorbar\": {\"outlinewidth\": 0, \"ticks\": \"\"}, \"colorscale\": [[0.0, \"#0d0887\"], [0.1111111111111111, \"#46039f\"], [0.2222222222222222, \"#7201a8\"], [0.3333333333333333, \"#9c179e\"], [0.4444444444444444, \"#bd3786\"], [0.5555555555555556, \"#d8576b\"], [0.6666666666666666, \"#ed7953\"], [0.7777777777777778, \"#fb9f3a\"], [0.8888888888888888, \"#fdca26\"], [1.0, \"#f0f921\"]], \"type\": \"histogram2dcontour\"}], \"mesh3d\": [{\"colorbar\": {\"outlinewidth\": 0, \"ticks\": \"\"}, \"type\": \"mesh3d\"}], \"parcoords\": [{\"line\": {\"colorbar\": {\"outlinewidth\": 0, \"ticks\": \"\"}}, \"type\": \"parcoords\"}], \"scatter\": [{\"marker\": {\"colorbar\": {\"outlinewidth\": 0, \"ticks\": \"\"}}, \"type\": \"scatter\"}], \"scatter3d\": [{\"line\": {\"colorbar\": {\"outlinewidth\": 0, \"ticks\": \"\"}}, \"marker\": {\"colorbar\": {\"outlinewidth\": 0, \"ticks\": \"\"}}, \"type\": \"scatter3d\"}], \"scattercarpet\": [{\"marker\": {\"colorbar\": {\"outlinewidth\": 0, \"ticks\": \"\"}}, \"type\": \"scattercarpet\"}], \"scattergeo\": [{\"marker\": {\"colorbar\": {\"outlinewidth\": 0, \"ticks\": \"\"}}, \"type\": \"scattergeo\"}], \"scattergl\": [{\"marker\": {\"colorbar\": {\"outlinewidth\": 0, \"ticks\": \"\"}}, \"type\": \"scattergl\"}], \"scattermapbox\": [{\"marker\": {\"colorbar\": {\"outlinewidth\": 0, \"ticks\": \"\"}}, \"type\": \"scattermapbox\"}], \"scatterpolar\": [{\"marker\": {\"colorbar\": {\"outlinewidth\": 0, \"ticks\": \"\"}}, \"type\": \"scatterpolar\"}], \"scatterpolargl\": [{\"marker\": {\"colorbar\": {\"outlinewidth\": 0, \"ticks\": \"\"}}, \"type\": \"scatterpolargl\"}], \"scatterternary\": [{\"marker\": {\"colorbar\": {\"outlinewidth\": 0, \"ticks\": \"\"}}, \"type\": \"scatterternary\"}], \"surface\": [{\"colorbar\": {\"outlinewidth\": 0, \"ticks\": \"\"}, \"colorscale\": [[0.0, \"#0d0887\"], [0.1111111111111111, \"#46039f\"], [0.2222222222222222, \"#7201a8\"], [0.3333333333333333, \"#9c179e\"], [0.4444444444444444, \"#bd3786\"], [0.5555555555555556, \"#d8576b\"], [0.6666666666666666, \"#ed7953\"], [0.7777777777777778, \"#fb9f3a\"], [0.8888888888888888, \"#fdca26\"], [1.0, \"#f0f921\"]], \"type\": \"surface\"}], \"table\": [{\"cells\": {\"fill\": {\"color\": \"#EBF0F8\"}, \"line\": {\"color\": \"white\"}}, \"header\": {\"fill\": {\"color\": \"#C8D4E3\"}, \"line\": {\"color\": \"white\"}}, \"type\": \"table\"}]}, \"layout\": {\"annotationdefaults\": {\"arrowcolor\": \"#2a3f5f\", \"arrowhead\": 0, \"arrowwidth\": 1}, \"colorscale\": {\"diverging\": [[0, \"#8e0152\"], [0.1, \"#c51b7d\"], [0.2, \"#de77ae\"], [0.3, \"#f1b6da\"], [0.4, \"#fde0ef\"], [0.5, \"#f7f7f7\"], [0.6, \"#e6f5d0\"], [0.7, \"#b8e186\"], [0.8, \"#7fbc41\"], [0.9, \"#4d9221\"], [1, \"#276419\"]], \"sequential\": [[0.0, \"#0d0887\"], [0.1111111111111111, \"#46039f\"], [0.2222222222222222, \"#7201a8\"], [0.3333333333333333, \"#9c179e\"], [0.4444444444444444, \"#bd3786\"], [0.5555555555555556, \"#d8576b\"], [0.6666666666666666, \"#ed7953\"], [0.7777777777777778, \"#fb9f3a\"], [0.8888888888888888, \"#fdca26\"], [1.0, \"#f0f921\"]], \"sequentialminus\": [[0.0, \"#0d0887\"], [0.1111111111111111, \"#46039f\"], [0.2222222222222222, \"#7201a8\"], [0.3333333333333333, \"#9c179e\"], [0.4444444444444444, \"#bd3786\"], [0.5555555555555556, \"#d8576b\"], [0.6666666666666666, \"#ed7953\"], [0.7777777777777778, \"#fb9f3a\"], [0.8888888888888888, \"#fdca26\"], [1.0, \"#f0f921\"]]}, \"colorway\": [\"#636efa\", \"#EF553B\", \"#00cc96\", \"#ab63fa\", \"#FFA15A\", \"#19d3f3\", \"#FF6692\", \"#B6E880\", \"#FF97FF\", \"#FECB52\"], \"font\": {\"color\": \"#2a3f5f\"}, \"geo\": {\"bgcolor\": \"white\", \"lakecolor\": \"white\", \"landcolor\": \"#E5ECF6\", \"showlakes\": true, \"showland\": true, \"subunitcolor\": \"white\"}, \"hoverlabel\": {\"align\": \"left\"}, \"hovermode\": \"closest\", \"mapbox\": {\"style\": \"light\"}, \"paper_bgcolor\": \"white\", \"plot_bgcolor\": \"#E5ECF6\", \"polar\": {\"angularaxis\": {\"gridcolor\": \"white\", \"linecolor\": \"white\", \"ticks\": \"\"}, \"bgcolor\": \"#E5ECF6\", \"radialaxis\": {\"gridcolor\": \"white\", \"linecolor\": \"white\", \"ticks\": \"\"}}, \"scene\": {\"xaxis\": {\"backgroundcolor\": \"#E5ECF6\", \"gridcolor\": \"white\", \"gridwidth\": 2, \"linecolor\": \"white\", \"showbackground\": true, \"ticks\": \"\", \"zerolinecolor\": \"white\"}, \"yaxis\": {\"backgroundcolor\": \"#E5ECF6\", \"gridcolor\": \"white\", \"gridwidth\": 2, \"linecolor\": \"white\", \"showbackground\": true, \"ticks\": \"\", \"zerolinecolor\": \"white\"}, \"zaxis\": {\"backgroundcolor\": \"#E5ECF6\", \"gridcolor\": \"white\", \"gridwidth\": 2, \"linecolor\": \"white\", \"showbackground\": true, \"ticks\": \"\", \"zerolinecolor\": \"white\"}}, \"shapedefaults\": {\"line\": {\"color\": \"#2a3f5f\"}}, \"ternary\": {\"aaxis\": {\"gridcolor\": \"white\", \"linecolor\": \"white\", \"ticks\": \"\"}, \"baxis\": {\"gridcolor\": \"white\", \"linecolor\": \"white\", \"ticks\": \"\"}, \"bgcolor\": \"#E5ECF6\", \"caxis\": {\"gridcolor\": \"white\", \"linecolor\": \"white\", \"ticks\": \"\"}}, \"title\": {\"x\": 0.05}, \"xaxis\": {\"automargin\": true, \"gridcolor\": \"white\", \"linecolor\": \"white\", \"ticks\": \"\", \"zerolinecolor\": \"white\", \"zerolinewidth\": 2}, \"yaxis\": {\"automargin\": true, \"gridcolor\": \"white\", \"linecolor\": \"white\", \"ticks\": \"\", \"zerolinecolor\": \"white\", \"zerolinewidth\": 2}}}, \"title\": {\"text\": \"Basic Sankey Diagram\"}},\n",
       "                        {\"responsive\": true}\n",
       "                    ).then(function(){\n",
       "                            \n",
       "var gd = document.getElementById('01750cc1-cc9b-4202-8383-2edffea337d1');\n",
       "var x = new MutationObserver(function (mutations, observer) {{\n",
       "        var display = window.getComputedStyle(gd).display;\n",
       "        if (!display || display === 'none') {{\n",
       "            console.log([gd, 'removed!']);\n",
       "            Plotly.purge(gd);\n",
       "            observer.disconnect();\n",
       "        }}\n",
       "}});\n",
       "\n",
       "// Listen for the removal of the full notebook cells\n",
       "var notebookContainer = gd.closest('#notebook-container');\n",
       "if (notebookContainer) {{\n",
       "    x.observe(notebookContainer, {childList: true});\n",
       "}}\n",
       "\n",
       "// Listen for the clearing of the current output cell\n",
       "var outputEl = gd.closest('.output');\n",
       "if (outputEl) {{\n",
       "    x.observe(outputEl, {childList: true});\n",
       "}}\n",
       "\n",
       "                        })\n",
       "                };\n",
       "                });\n",
       "            </script>\n",
       "        </div>"
      ]
     },
     "metadata": {},
     "output_type": "display_data"
    }
   ],
   "source": [
    "for i in range(z):\n",
    "    color_link.extend([link_colors[i]] * a)\n",
    "#print(color_link)\n",
    "fig = go.Figure(data=[go.Sankey(\n",
    "    node = dict(\n",
    "      pad = 15,\n",
    "      thickness = 20,\n",
    "      color = color_node,\n",
    "      label = [\"cystic\", \"mostly solid\", \"solid\", \"spongiform\",\n",
    "               \"hyper\", \"hypo\", \"iso\", \"marked\",\n",
    "               \"ill-defined\", \"micro\", \"spiculated\", \"smooth\",\n",
    "               \"macro\", \"micro\", \"non\",\n",
    "               \"G1\", \"G2\", \"G3\", \"G4\", \"G5\",\n",
    "               \"G6\", \"G7\", \"G8\", \"G9\", \"G10\"],\n",
    "    ),\n",
    "    link = dict(\n",
    "      source = source,\n",
    "      target = target,\n",
    "      value = value,\n",
    "      color = color_link\n",
    "  ))])\n",
    "fig.update_layout(title_text=\"Basic Sankey Diagram\", font_size=10)\n",
    "fig.show()"
   ]
  },
  {
   "cell_type": "code",
   "execution_count": null,
   "metadata": {},
   "outputs": [],
   "source": []
  }
 ],
 "metadata": {
  "kernelspec": {
   "display_name": "Python 3 (ipykernel)",
   "language": "python",
   "name": "python3"
  },
  "language_info": {
   "codemirror_mode": {
    "name": "ipython",
    "version": 3
   },
   "file_extension": ".py",
   "mimetype": "text/x-python",
   "name": "python",
   "nbconvert_exporter": "python",
   "pygments_lexer": "ipython3",
   "version": "3.7.10"
  }
 },
 "nbformat": 4,
 "nbformat_minor": 2
}
