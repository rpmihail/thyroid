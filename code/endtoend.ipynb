{
 "cells": [
  {
   "cell_type": "code",
   "execution_count": 16,
   "metadata": {},
   "outputs": [],
   "source": [
    "import numpy as np\n",
    "from scipy.optimize import minimize\n",
    "import matplotlib.pyplot as plt\n",
    "from itertools import product\n",
    "from sklearn.model_selection import train_test_split\n",
    "from pathlib import Path\n",
    "import random\n",
    "from tqdm import tqdm\n",
    "import xml.etree.ElementTree as ET\n",
    "import cv2\n",
    "import plotly.graph_objs as go\n",
    "from torchvision.transforms import Compose\n",
    "from torchvision.transforms import ToTensor\n",
    "import json\n",
    "from torch.utils.data import Dataset\n",
    "import torch\n",
    "import cv2\n",
    "import torch.nn as nn\n",
    "import torch.nn.functional as F"
   ]
  },
  {
   "cell_type": "code",
   "execution_count": 17,
   "metadata": {},
   "outputs": [],
   "source": [
    "device = torch.device('cuda' if torch.cuda.is_available() else 'cpu')\n",
    "device\n",
    "\n",
    "# dataset definition\n",
    "class thyroidDataset(Dataset):\n",
    "    def __init__(self, split):\n",
    "        self.all_data = []\n",
    "        self.compositions = {'Unknown':0, 'cystic':1,\n",
    "                             'predominantly solid':2,\n",
    "                             'solid':3, 'spongiform appareance':4}\n",
    "        self.echogenicities = {'Unknown':0, 'hyperechogenecity':1,\n",
    "                             'hypoechogenecity':2, 'isoechogenicity':3,\n",
    "                             'marked hypoechogenecity':4}\n",
    "        self.margins = {'Unknown':0, 'ill- defined':1, 'microlobulated':2,\n",
    "                        'spiculated':3, 'well defined smooth':4}\n",
    "        self.calcifications = {'macrocalcification':0, 'microcalcification':1, 'non':2}\n",
    "        self.types ={'benign':0, 'malign':1}\n",
    "        self.types_count = []\n",
    "        for t_type in ['benign', 'malign']:\n",
    "            root_dir=Path('../data/' + split + '/' + t_type).expanduser().resolve().absolute() \n",
    "            print(root_dir)\n",
    "            files = list(root_dir.glob(\"*\"))\n",
    "            labels = [self.types[t_type]] * len(files)\n",
    "            self.types_count.append(len(files))\n",
    "            data_list = list(zip(files, labels))\n",
    "            self.all_data.extend(data_list)\n",
    "        random.shuffle(self.all_data)\n",
    "        self.cases, self.types = zip(*self.all_data)\n",
    "        print(\"number of data items:\" + str(len(self.cases)))\n",
    "        self.sample_weights = [1/self.types_count[label] for label in self.types]\n",
    "    def __len__(self):\n",
    "        return len(self.cases)\n",
    "  \n",
    "    def __getitem__(self, idx):\n",
    "        labels = np.zeros(16, dtype = float)\n",
    "        xml_data = ET.parse(list(self.cases[idx].glob('*[0-9].xml'))[0]).getroot()\n",
    "        for x in xml_data:\n",
    "            if x.tag=='composition' and x.text is not None:\n",
    "                composition = x.text\n",
    "                labels[self.compositions[composition] - 1] = 1.0\n",
    "            if x.tag=='echogenicity' and x.text is not None:\n",
    "                echogenicity = x.text\n",
    "                labels[self.echogenicities[echogenicity] + 3] = 1.0\n",
    "            if x.tag=='margins' and x.text is not None:\n",
    "                margin = x.text\n",
    "                labels[self.margins[margin] + 7] = 1.0\n",
    "            if x.tag=='calcifications' and x.text is not None:\n",
    "                calcification = x.text\n",
    "                labels[self.calcifications[calcification] + 11] = 1.0\n",
    "        xml_data = ET.parse(list(self.cases[idx].glob('*[0-9].xml'))[0]).find(\"mark\")\n",
    "        for x in xml_data:\n",
    "            if(x.tag=='svg'):\n",
    "                encoded = str(x.text)\n",
    "                poly_data = json.loads(x.text)\n",
    "        \n",
    "        labels[15] = list(self.types)[idx]\n",
    "        im_name = list(self.cases[idx].glob('*[0-9].jpg'))[0]\n",
    "        im = cv2.imread(str(im_name))\n",
    "        mask = np.zeros(np.shape(im))\n",
    "        im = cv2.resize(im, dsize=(300, 300), interpolation=cv2.INTER_CUBIC)\n",
    "        \n",
    "        # add mask \n",
    "        for polygon in poly_data:\n",
    "            xs = []\n",
    "            ys = []\n",
    "            for point in polygon[\"points\"]:\n",
    "                xs.append(point[\"x\"])\n",
    "                ys.append(point[\"y\"])\n",
    "            contour = np.concatenate((np.expand_dims(xs, 1), np.expand_dims(ys, 1)), axis=1)\n",
    "            cv2.fillPoly(mask, pts = [contour], color =(1, 1, 1))\n",
    "        \n",
    "        mask = cv2.resize(mask, dsize=(300, 300), interpolation=cv2.INTER_LINEAR)\n",
    "        \n",
    "        \n",
    "        \n",
    "        # Adding data augmentation to avoid overfitting\n",
    "        if random.randint(1, 10) > 5:\n",
    "            im = np.flipud(im)\n",
    "        if random.randint(1, 10) > 5:\n",
    "            im = np.fliplr(im)\n",
    "        if random.randint(1, 10) > 5:\n",
    "            for i in range(random.randint(1, 4)):\n",
    "                im = np.rot90(im)\n",
    "        im = np.ascontiguousarray(im)\n",
    "\n",
    "        #plt.figure()\n",
    "        #plt.imshow(im)\n",
    "\n",
    "        transforms = Compose([ToTensor()])\n",
    "        mask = transforms(mask)\n",
    "        im = transforms(im)\n",
    "        \n",
    "        im = im * mask\n",
    "        \n",
    "        im = im.type(torch.cuda.FloatTensor)\n",
    "        \n",
    "        sample = {\"image\": im, \"labels\": torch.from_numpy(labels), \"types\" : self.types, \"name\": str(im_name)}\n",
    "        return sample"
   ]
  },
  {
   "cell_type": "code",
   "execution_count": 23,
   "metadata": {},
   "outputs": [
    {
     "name": "stdout",
     "output_type": "stream",
     "text": [
      "/home/ahana/thyroid/data/train/benign\n",
      "/home/ahana/thyroid/data/train/malign\n",
      "number of data items:73\n",
      "/home/ahana/thyroid/data/train/benign\n",
      "/home/ahana/thyroid/data/train/malign\n",
      "number of data items:73\n",
      "[0.02127659574468085, 0.02127659574468085, 0.038461538461538464, 0.038461538461538464, 0.038461538461538464, 0.038461538461538464, 0.02127659574468085, 0.02127659574468085, 0.02127659574468085, 0.02127659574468085, 0.02127659574468085, 0.038461538461538464, 0.038461538461538464, 0.038461538461538464, 0.038461538461538464, 0.02127659574468085, 0.02127659574468085, 0.02127659574468085, 0.02127659574468085, 0.02127659574468085, 0.038461538461538464, 0.02127659574468085, 0.02127659574468085, 0.02127659574468085, 0.02127659574468085, 0.038461538461538464, 0.02127659574468085, 0.02127659574468085, 0.038461538461538464, 0.02127659574468085, 0.02127659574468085, 0.038461538461538464, 0.038461538461538464, 0.02127659574468085, 0.02127659574468085, 0.02127659574468085, 0.038461538461538464, 0.038461538461538464, 0.038461538461538464, 0.038461538461538464, 0.02127659574468085, 0.02127659574468085, 0.02127659574468085, 0.02127659574468085, 0.02127659574468085, 0.02127659574468085, 0.038461538461538464, 0.02127659574468085, 0.038461538461538464, 0.02127659574468085, 0.02127659574468085, 0.02127659574468085, 0.02127659574468085, 0.038461538461538464, 0.038461538461538464, 0.02127659574468085, 0.038461538461538464, 0.02127659574468085, 0.02127659574468085, 0.02127659574468085, 0.02127659574468085, 0.038461538461538464, 0.02127659574468085, 0.02127659574468085, 0.038461538461538464, 0.02127659574468085, 0.02127659574468085, 0.038461538461538464, 0.038461538461538464, 0.02127659574468085, 0.02127659574468085, 0.02127659574468085, 0.02127659574468085]\n"
     ]
    }
   ],
   "source": [
    "# Dataset creation\n",
    "training_set = thyroidDataset(split='train')\n",
    "parameters_train = {\n",
    "    \"batch_size\": 8,\n",
    "    #\"shuffle\": True,\n",
    "}\n",
    "parameters_test = {\n",
    "    \"batch_size\": 1,\n",
    "    \"shuffle\": False,\n",
    "}\n",
    "training_set = thyroidDataset(split='train')\n",
    "training_generator = torch.utils.data.DataLoader(training_set, **parameters_train, sampler=torch.utils.data.WeightedRandomSampler(training_set.sample_weights, len(training_set.cases), replacement=True))\n",
    "totiter = len(training_generator)\n",
    "print(training_set.sample_weights)\n",
    "a = iter(training_generator).next()"
   ]
  },
  {
   "cell_type": "code",
   "execution_count": 34,
   "metadata": {},
   "outputs": [],
   "source": [
    "# Model definition and creation\n",
    "\n",
    "z = 7 # groups\n",
    "a = 15\n",
    "k = 5 # top k \n",
    "num_labels = 1\n",
    "\n",
    "G = np.random.randn(z, a)\n",
    "W = np.random.randn(z, num_labels)\n",
    "\n",
    "class MutualExclusivityLoss(nn.Module):\n",
    "    def __init__(self, num_classes, num_attrs):\n",
    "        super(MutualExclusivityLoss, self).__init__()\n",
    "        self.num_attrs = num_attrs\n",
    "        self.num_classes = num_classes\n",
    "    def forward(self, target, result):\n",
    "        target = 1.0 - target\n",
    "        me_loss = target.mul(result)\n",
    "        return torch.mean(me_loss)\n",
    "        \n",
    "   \n",
    "\n",
    "class net(torch.nn.Module):\n",
    "    \n",
    "    def __init__(self, G, W):\n",
    "        super().__init__()\n",
    "        \n",
    "        self.conv1 = nn.Conv2d(3, 16, 5)\n",
    "        self.pool = nn.MaxPool2d(2, 2)\n",
    "        self.conv2 = nn.Conv2d(16, 32, 5)\n",
    "        self.conv3 = nn.Conv2d(32, 64, 5)\n",
    "        self.conv4 = nn.Conv2d(64, 128, 5)\n",
    "        self.conv5 = nn.Conv2d(128, 256,3)\n",
    "        self.GAP = nn.AdaptiveAvgPool2d((1,1))\n",
    "        \n",
    "        self.features = [self.conv1, self.conv2, self.conv3, self.conv4]\n",
    "        \n",
    "        # self.fc1 = nn.Linear(14400, 120)\n",
    "        # self.fc2 = nn.Linear(120, 84)\n",
    "        self.fc3 = nn.Linear(256, 15)\n",
    "        \n",
    "        self.G_ = torch.nn.Parameter(G)\n",
    "        self.W_ = torch.nn.Parameter(W)\n",
    "        #self.CNN_ = torch.nn.Parameter(CNN)\n",
    "        \n",
    "\n",
    "\n",
    "    def forward(self, x):\n",
    "            \n",
    "        x = self.pool(F.tanh(self.conv1(x)))\n",
    "        x = self.pool(F.tanh(self.conv2(x)))\n",
    "        x = self.pool(F.tanh(self.conv3(x)))\n",
    "        x = self.pool(F.tanh(self.conv4(x)))\n",
    "        # Adding 1 more conv, a GAP and a final linear layer for CAM\n",
    "        x = F.tanh(self.conv5(x))\n",
    "        features = x\n",
    "        x = self.GAP(x)\n",
    "        \n",
    "        x = torch.flatten(x, 1) # flatten all dimensions except batch\n",
    "        \n",
    "        # x = F.relu(self.fc1(x))\n",
    "        # x = F.relu(self.fc2(x))\n",
    "        x = self.fc3(x)\n",
    "        \n",
    "        x = torch.unsqueeze(x, 2)\n",
    "        \n",
    "        g = torch.matmul(self.G_, x) \n",
    "        \n",
    "        g = g.repeat((1, 1, num_labels))\n",
    "        \n",
    "        y = g * self.W_\n",
    "        #y, _ = y.max(axis=2)\n",
    "        \n",
    "        y = torch.transpose(y, 1, 0)\n",
    "        \n",
    "        y = torch.sum(y, axis=0)\n",
    "        return (torch.sigmoid(y), torch.sigmoid(x), features)\n",
    "\n",
    "# Model creation and definition of losses\n",
    "model = net(torch.FloatTensor(G), torch.FloatTensor(W))\n",
    "model.to(device)\n",
    "\n",
    "def projection_simplex_sort(v, z=1):\n",
    "\n",
    "    n_features = v.size(1)\n",
    "    u,_ = torch.sort(v, descending=True)\n",
    "    cssv = torch.cumsum(u,1) - z\n",
    "    ind = torch.arange(n_features).type_as(v) + 1\n",
    "    cond = u - cssv / ind > 0\n",
    "    #rho = ind[cond][-1]\n",
    "    rho,ind_rho = (ind*cond).max(1)\n",
    "    #theta = cssv[cond][-1] / float(rho)\n",
    "    theta = torch.gather(cssv,1,ind_rho[:,None]) / rho[:,None]\n",
    "    w = torch.clamp(v - theta, min=0)\n",
    "    return w\n",
    "\n",
    "criterion = torch.nn.BCELoss(reduction='mean')\n",
    "\n",
    "criterion1 = torch.nn.BCELoss(reduction='mean')\n",
    "\n",
    "criterion2 = MutualExclusivityLoss(15, 5)\n",
    "\n",
    "optimizer = torch.optim.Adam(model.parameters(), lr=1e-5)\n",
    "\n",
    "#y_tr = torch.from_numpy(y_train).to(device)"
   ]
  },
  {
   "cell_type": "code",
   "execution_count": 32,
   "metadata": {},
   "outputs": [
    {
     "data": {
      "text/plain": [
       "<All keys matched successfully>"
      ]
     },
     "execution_count": 32,
     "metadata": {},
     "output_type": "execute_result"
    }
   ],
   "source": [
    "# Load existing model\n",
    "model.load_state_dict(torch.load(f'../data/models/end_to_end_v2_CAM_3.pt'))"
   ]
  },
  {
   "cell_type": "code",
   "execution_count": null,
   "metadata": {},
   "outputs": [
    {
     "name": "stdout",
     "output_type": "stream",
     "text": [
      "Epoch:  1 ; running-loss:  26.125237678314065\n",
      "Epoch:  2 ; running-loss:  26.100548462165783\n",
      "Epoch:  3 ; running-loss:  26.066832254137008\n",
      "Epoch:  4 ; running-loss:  26.012494000465495\n",
      "Epoch:  5 ; running-loss:  25.943781920377756\n",
      "Epoch:  6 ; running-loss:  25.86964355075408\n",
      "Epoch:  7 ; running-loss:  25.753945619976413\n",
      "Epoch:  8 ; running-loss:  25.52859135704803\n",
      "Epoch:  9 ; running-loss:  25.429426506526273\n",
      "Epoch:  10 ; running-loss:  25.170318161177487\n",
      "Epoch:  11 ; running-loss:  24.818926741089783\n",
      "Epoch:  12 ; running-loss:  24.25317927949264\n",
      "Epoch:  13 ; running-loss:  23.607559730522947\n",
      "Epoch:  14 ; running-loss:  23.016978499880004\n",
      "Epoch:  15 ; running-loss:  22.237812532506734\n",
      "Epoch:  16 ; running-loss:  21.876176945561607\n",
      "Epoch:  17 ; running-loss:  21.585268557874926\n",
      "Epoch:  18 ; running-loss:  21.311168153416034\n",
      "Epoch:  19 ; running-loss:  20.84934720501083\n",
      "Epoch:  20 ; running-loss:  21.413909204715342\n",
      "Epoch:  21 ; running-loss:  20.707900971787424\n",
      "Epoch:  22 ; running-loss:  20.888339378773942\n",
      "Epoch:  23 ; running-loss:  20.649863189354367\n",
      "Epoch:  24 ; running-loss:  21.02357927859369\n",
      "Epoch:  25 ; running-loss:  20.598251538265533\n",
      "Epoch:  26 ; running-loss:  20.55707135416434\n",
      "Epoch:  27 ; running-loss:  19.827767145873025\n",
      "Epoch:  28 ; running-loss:  20.28136227479021\n",
      "Epoch:  29 ; running-loss:  20.362513734313676\n",
      "Epoch:  30 ; running-loss:  19.943730256783347\n",
      "Epoch:  31 ; running-loss:  20.001977630557445\n",
      "Epoch:  32 ; running-loss:  19.928035986758918\n",
      "Epoch:  33 ; running-loss:  20.843144277892367\n",
      "Epoch:  34 ; running-loss:  19.945585141274584\n",
      "Epoch:  35 ; running-loss:  20.190836300314043\n",
      "Epoch:  36 ; running-loss:  19.931036351222406\n",
      "Epoch:  37 ; running-loss:  20.061039135557838\n",
      "Epoch:  38 ; running-loss:  19.76458174921435\n",
      "Epoch:  39 ; running-loss:  20.341797718304473\n",
      "Epoch:  40 ; running-loss:  19.75655232676921\n",
      "Epoch:  41 ; running-loss:  19.611584665093215\n",
      "Epoch:  42 ; running-loss:  19.949432991768592\n",
      "Epoch:  43 ; running-loss:  19.47676024726941\n",
      "Epoch:  44 ; running-loss:  19.999642101797207\n",
      "Epoch:  45 ; running-loss:  19.342520732177185\n",
      "Epoch:  46 ; running-loss:  20.22554079388583\n",
      "Epoch:  47 ; running-loss:  20.360035964167277\n",
      "Epoch:  48 ; running-loss:  19.789672685315104\n",
      "Epoch:  49 ; running-loss:  20.48310813536485\n",
      "Epoch:  50 ; running-loss:  20.046873820533946\n",
      "Epoch:  51 ; running-loss:  19.29736189200661\n",
      "Epoch:  52 ; running-loss:  20.317271769513567\n",
      "Epoch:  53 ; running-loss:  20.098784243943893\n",
      "Epoch:  54 ; running-loss:  20.429484720573676\n",
      "Epoch:  55 ; running-loss:  20.045222227322895\n",
      "Epoch:  56 ; running-loss:  19.65383998760195\n",
      "Epoch:  57 ; running-loss:  20.166455994825515\n",
      "Epoch:  58 ; running-loss:  20.578289895799106\n",
      "Epoch:  59 ; running-loss:  20.030250936059446\n",
      "Epoch:  60 ; running-loss:  20.06199505701395\n",
      "Epoch:  61 ; running-loss:  20.067431409185815\n",
      "Epoch:  62 ; running-loss:  20.545656672396845\n",
      "Epoch:  63 ; running-loss:  19.870186693555098\n",
      "Epoch:  64 ; running-loss:  19.835347701602142\n",
      "Epoch:  65 ; running-loss:  19.57223106503089\n",
      "Epoch:  66 ; running-loss:  19.990187650931702\n",
      "Epoch:  67 ; running-loss:  19.51547313323783\n",
      "Epoch:  68 ; running-loss:  20.039658631665528\n",
      "Epoch:  69 ; running-loss:  20.520625443616765\n",
      "Epoch:  70 ; running-loss:  20.0620674120831\n",
      "Epoch:  71 ; running-loss:  19.882403531452415\n",
      "Epoch:  72 ; running-loss:  20.060612334890756\n",
      "Epoch:  73 ; running-loss:  20.14178344357077\n",
      "Epoch:  74 ; running-loss:  19.297295029566392\n",
      "Epoch:  75 ; running-loss:  20.64063683951879\n",
      "Epoch:  76 ; running-loss:  20.20424933785883\n",
      "Epoch:  77 ; running-loss:  20.207540051779393\n",
      "Epoch:  78 ; running-loss:  19.663324247767015\n",
      "Epoch:  79 ; running-loss:  19.58700235106005\n",
      "Epoch:  80 ; running-loss:  20.31414196405639\n",
      "Epoch:  81 ; running-loss:  20.020715875437407\n",
      "Epoch:  82 ; running-loss:  20.13179011817198\n",
      "Epoch:  83 ; running-loss:  19.624046522675705\n",
      "Epoch:  84 ; running-loss:  19.89737764279134\n",
      "Epoch:  85 ; running-loss:  19.298377241479102\n",
      "Epoch:  86 ; running-loss:  19.934036433684817\n",
      "Epoch:  87 ; running-loss:  19.76317583849916\n",
      "Epoch:  88 ; running-loss:  19.707028363537603\n",
      "Epoch:  89 ; running-loss:  19.363779727403973\n",
      "Epoch:  90 ; running-loss:  19.338323080637558\n",
      "Epoch:  91 ; running-loss:  19.76496086668297\n",
      "Epoch:  92 ; running-loss:  19.066219064822473\n",
      "Epoch:  93 ; running-loss:  20.232590289259793\n",
      "Epoch:  94 ; running-loss:  19.82200637558502\n",
      "Epoch:  95 ; running-loss:  19.235432778646242\n",
      "Epoch:  96 ; running-loss:  20.06104556540698\n",
      "Epoch:  97 ; running-loss:  20.345672948078043\n",
      "Epoch:  98 ; running-loss:  19.689878317830704\n",
      "Epoch:  99 ; running-loss:  19.694264951977058\n",
      "Epoch:  100 ; running-loss:  19.644571775622623\n",
      "Epoch:  101 ; running-loss:  20.045548415156194\n",
      "Epoch:  102 ; running-loss:  19.74333134356632\n",
      "Epoch:  103 ; running-loss:  19.850814569727916\n",
      "Epoch:  104 ; running-loss:  20.006245257077353\n",
      "Epoch:  105 ; running-loss:  20.10982395114293\n",
      "Epoch:  106 ; running-loss:  19.984756005823\n",
      "Epoch:  107 ; running-loss:  19.44663717941638\n",
      "Epoch:  108 ; running-loss:  20.620948045357697\n",
      "Epoch:  109 ; running-loss:  19.39639416354321\n",
      "Epoch:  110 ; running-loss:  19.729269847496585\n",
      "Epoch:  111 ; running-loss:  19.540632745934165\n",
      "Epoch:  112 ; running-loss:  20.037680597756307\n",
      "Epoch:  113 ; running-loss:  19.317709783302803\n",
      "Epoch:  114 ; running-loss:  20.26610622872327\n",
      "Epoch:  115 ; running-loss:  19.436720103417127\n",
      "Epoch:  116 ; running-loss:  19.883143185775367\n",
      "Epoch:  117 ; running-loss:  20.30135223240553\n",
      "Epoch:  118 ; running-loss:  19.990148587680206\n",
      "Epoch:  119 ; running-loss:  19.70328064951682\n",
      "Epoch:  120 ; running-loss:  19.761778358681088\n",
      "Epoch:  121 ; running-loss:  20.268997225859188\n",
      "Epoch:  122 ; running-loss:  20.53919870635205\n",
      "Epoch:  123 ; running-loss:  20.398440308620657\n",
      "Epoch:  124 ; running-loss:  19.70862910655994\n",
      "Epoch:  125 ; running-loss:  19.633272725741353\n",
      "Epoch:  126 ; running-loss:  20.214941195464164\n",
      "Epoch:  127 ; running-loss:  19.67548539512425\n",
      "Epoch:  128 ; running-loss:  19.45105590268535\n",
      "Epoch:  129 ; running-loss:  19.560414354540747\n",
      "Epoch:  130 ; running-loss:  19.967143615879646\n",
      "Epoch:  131 ; running-loss:  19.638763650660852\n",
      "Epoch:  132 ; running-loss:  19.896814487557545\n",
      "Epoch:  133 ; running-loss:  19.728833206673805\n",
      "Epoch:  134 ; running-loss:  20.02766394789834\n",
      "Epoch:  135 ; running-loss:  20.255419241248553\n",
      "Epoch:  136 ; running-loss:  19.053619581590667\n",
      "Epoch:  137 ; running-loss:  19.581833524806118\n",
      "Epoch:  138 ; running-loss:  19.700566547107783\n",
      "Epoch:  139 ; running-loss:  19.496626299146307\n",
      "Epoch:  140 ; running-loss:  19.778744614079887\n",
      "Epoch:  141 ; running-loss:  20.015827830131734\n",
      "Epoch:  142 ; running-loss:  19.385708481392793\n",
      "Epoch:  143 ; running-loss:  19.612922353371193\n",
      "Epoch:  144 ; running-loss:  19.185896424896587\n",
      "Epoch:  145 ; running-loss:  20.512893680288727\n",
      "Epoch:  146 ; running-loss:  19.637578267148985\n",
      "Epoch:  147 ; running-loss:  19.536022530561233\n",
      "Epoch:  148 ; running-loss:  19.388538953626103\n",
      "Epoch:  149 ; running-loss:  19.562093026734118\n",
      "Epoch:  150 ; running-loss:  19.377131565847655\n",
      "Epoch:  151 ; running-loss:  19.70316005484031\n",
      "Epoch:  152 ; running-loss:  20.008920673438542\n",
      "Epoch:  153 ; running-loss:  19.635749366443584\n",
      "Epoch:  154 ; running-loss:  19.377652638752597\n",
      "Epoch:  155 ; running-loss:  19.604949879314333\n",
      "Epoch:  156 ; running-loss:  19.544731521067558\n",
      "Epoch:  157 ; running-loss:  19.934064811971623\n",
      "Epoch:  158 ; running-loss:  20.05068804242534\n",
      "Epoch:  159 ; running-loss:  19.371930416990125\n",
      "Epoch:  160 ; running-loss:  19.531757295915746\n",
      "Epoch:  161 ; running-loss:  19.434417966209946\n",
      "Epoch:  162 ; running-loss:  19.8227548668319\n",
      "Epoch:  163 ; running-loss:  19.41116192764946\n",
      "Epoch:  164 ; running-loss:  19.597349879299856\n",
      "Epoch:  165 ; running-loss:  19.467868727806145\n",
      "Epoch:  166 ; running-loss:  19.40930585624945\n",
      "Epoch:  167 ; running-loss:  19.219031317505216\n",
      "Epoch:  168 ; running-loss:  19.558758710518244\n",
      "Epoch:  169 ; running-loss:  19.288466064010997\n",
      "Epoch:  170 ; running-loss:  19.965005005981958\n",
      "Epoch:  171 ; running-loss:  19.848635603940288\n",
      "Epoch:  172 ; running-loss:  19.66933138180652\n",
      "Epoch:  173 ; running-loss:  19.29296295426411\n",
      "Epoch:  174 ; running-loss:  18.995988465315474\n",
      "Epoch:  175 ; running-loss:  19.626576123659632\n"
     ]
    },
    {
     "name": "stdout",
     "output_type": "stream",
     "text": [
      "Epoch:  176 ; running-loss:  19.781368366563882\n",
      "Epoch:  177 ; running-loss:  19.126615253892922\n",
      "Epoch:  178 ; running-loss:  19.013587501799112\n",
      "Epoch:  179 ; running-loss:  20.304605943461777\n",
      "Epoch:  180 ; running-loss:  19.11577029962087\n",
      "Epoch:  181 ; running-loss:  19.620788785677025\n",
      "Epoch:  182 ; running-loss:  19.336463098170206\n",
      "Epoch:  183 ; running-loss:  19.43589699086995\n",
      "Epoch:  184 ; running-loss:  19.807665731641677\n",
      "Epoch:  185 ; running-loss:  20.421692448204563\n",
      "Epoch:  186 ; running-loss:  19.69078447273316\n",
      "Epoch:  187 ; running-loss:  19.390299277328893\n",
      "Epoch:  188 ; running-loss:  19.20610336392224\n",
      "Epoch:  189 ; running-loss:  19.561507588902423\n",
      "Epoch:  190 ; running-loss:  19.7703615414296\n",
      "Epoch:  191 ; running-loss:  19.088604426423014\n",
      "Epoch:  192 ; running-loss:  19.275805690808298\n",
      "Epoch:  193 ; running-loss:  19.211475815528015\n",
      "Epoch:  194 ; running-loss:  19.116599617457002\n",
      "Epoch:  195 ; running-loss:  19.176388752780547\n",
      "Epoch:  196 ; running-loss:  19.208325808117927\n",
      "Epoch:  197 ; running-loss:  19.625530721902642\n",
      "Epoch:  198 ; running-loss:  19.41602904933659\n",
      "Epoch:  199 ; running-loss:  19.58218294336463\n",
      "Epoch:  200 ; running-loss:  19.350138259540195\n",
      "Epoch:  201 ; running-loss:  19.68940487643116\n",
      "Epoch:  202 ; running-loss:  19.664852417662996\n",
      "Epoch:  203 ; running-loss:  19.65349924604224\n",
      "Epoch:  204 ; running-loss:  19.239341995917663\n",
      "Epoch:  205 ; running-loss:  19.258901100066076\n",
      "Epoch:  206 ; running-loss:  19.476059196644933\n",
      "Epoch:  207 ; running-loss:  19.316432472430638\n",
      "Epoch:  208 ; running-loss:  19.57324248768238\n",
      "Epoch:  209 ; running-loss:  19.230384087850833\n",
      "Epoch:  210 ; running-loss:  19.493066966172155\n",
      "Epoch:  211 ; running-loss:  19.617067168463088\n",
      "Epoch:  212 ; running-loss:  19.81347556540833\n",
      "Epoch:  213 ; running-loss:  18.525415110231624\n",
      "Epoch:  214 ; running-loss:  19.23116377845758\n",
      "Epoch:  215 ; running-loss:  19.388240388245922\n",
      "Epoch:  216 ; running-loss:  20.07980036973114\n",
      "Epoch:  217 ; running-loss:  19.527588185076016\n",
      "Epoch:  218 ; running-loss:  19.84496850591011\n",
      "Epoch:  219 ; running-loss:  19.45684651477223\n",
      "Epoch:  220 ; running-loss:  19.10055396065448\n",
      "Epoch:  221 ; running-loss:  19.532677269994192\n",
      "Epoch:  222 ; running-loss:  19.130696219329792\n",
      "Epoch:  223 ; running-loss:  19.68150526840776\n",
      "Epoch:  224 ; running-loss:  18.932201486968502\n",
      "Epoch:  225 ; running-loss:  20.09347511510542\n",
      "Epoch:  226 ; running-loss:  19.127291389038152\n",
      "Epoch:  227 ; running-loss:  18.042359523111365\n",
      "Epoch:  228 ; running-loss:  19.561625227801667\n",
      "Epoch:  229 ; running-loss:  19.166214037117538\n",
      "Epoch:  230 ; running-loss:  19.160769777487147\n",
      "Epoch:  231 ; running-loss:  19.61093092043684\n",
      "Epoch:  232 ; running-loss:  19.23706731577806\n",
      "Epoch:  233 ; running-loss:  19.321838445512796\n",
      "Epoch:  234 ; running-loss:  19.380646937045007\n",
      "Epoch:  235 ; running-loss:  19.1888425086352\n",
      "Epoch:  236 ; running-loss:  19.363090972014604\n",
      "Epoch:  237 ; running-loss:  19.575977368334932\n",
      "Epoch:  238 ; running-loss:  18.8824947583741\n",
      "Epoch:  239 ; running-loss:  19.279029242236472\n",
      "Epoch:  240 ; running-loss:  20.15097298059836\n",
      "Epoch:  241 ; running-loss:  19.04614861676024\n",
      "Epoch:  242 ; running-loss:  19.32794357106222\n",
      "Epoch:  243 ; running-loss:  19.199072738777687\n",
      "Epoch:  244 ; running-loss:  18.84856657948837\n",
      "Epoch:  245 ; running-loss:  19.362261706888653\n",
      "Epoch:  246 ; running-loss:  19.2496454153993\n",
      "Epoch:  247 ; running-loss:  19.673321325809685\n",
      "Epoch:  248 ; running-loss:  19.06844220065695\n",
      "Epoch:  249 ; running-loss:  19.481670735122066\n",
      "Epoch:  250 ; running-loss:  18.702961396558432\n",
      "Epoch:  251 ; running-loss:  18.821031281195697\n",
      "Epoch:  252 ; running-loss:  19.370209821987387\n",
      "Epoch:  253 ; running-loss:  19.13462240958531\n",
      "Epoch:  254 ; running-loss:  19.471917732260867\n",
      "Epoch:  255 ; running-loss:  19.6424728276935\n",
      "Epoch:  256 ; running-loss:  19.4017971778106\n",
      "Epoch:  257 ; running-loss:  20.20706221581072\n",
      "Epoch:  258 ; running-loss:  19.12611127443162\n",
      "Epoch:  259 ; running-loss:  18.944723517320185\n",
      "Epoch:  260 ; running-loss:  19.17812971931688\n",
      "Epoch:  261 ; running-loss:  19.221045690917805\n",
      "Epoch:  262 ; running-loss:  19.291012871631914\n",
      "Epoch:  263 ; running-loss:  18.541422770284044\n",
      "Epoch:  264 ; running-loss:  19.34134845651854\n",
      "Epoch:  265 ; running-loss:  19.061104317337172\n",
      "Epoch:  266 ; running-loss:  19.767680751857988\n",
      "Epoch:  267 ; running-loss:  19.20619643033289\n",
      "Epoch:  268 ; running-loss:  18.983217951231254\n",
      "Epoch:  269 ; running-loss:  19.785666635714854\n",
      "Epoch:  270 ; running-loss:  19.209015540744602\n",
      "Epoch:  271 ; running-loss:  19.48389800727005\n",
      "Epoch:  272 ; running-loss:  19.02543120900673\n",
      "Epoch:  273 ; running-loss:  19.294710541711275\n",
      "Epoch:  274 ; running-loss:  19.018471857905627\n",
      "Epoch:  275 ; running-loss:  19.15225627002937\n",
      "Epoch:  276 ; running-loss:  19.66626243403408\n",
      "Epoch:  277 ; running-loss:  19.053860505451226\n",
      "Epoch:  278 ; running-loss:  18.904647388545815\n",
      "Epoch:  279 ; running-loss:  19.11733364866789\n",
      "Epoch:  280 ; running-loss:  18.826489583200782\n",
      "Epoch:  281 ; running-loss:  18.74511287629899\n",
      "Epoch:  282 ; running-loss:  18.8636829591549\n",
      "Epoch:  283 ; running-loss:  20.03411476346251\n",
      "Epoch:  284 ; running-loss:  18.737149682534884\n",
      "Epoch:  285 ; running-loss:  19.593943490184728\n",
      "Epoch:  286 ; running-loss:  19.660296957600448\n",
      "Epoch:  287 ; running-loss:  19.116873792449063\n",
      "Epoch:  288 ; running-loss:  19.156657543589148\n",
      "Epoch:  289 ; running-loss:  19.702950486536853\n",
      "Epoch:  290 ; running-loss:  18.725639677695188\n",
      "Epoch:  291 ; running-loss:  19.48650617482036\n",
      "Epoch:  292 ; running-loss:  19.056157895154115\n",
      "Epoch:  293 ; running-loss:  19.478430554343507\n",
      "Epoch:  294 ; running-loss:  19.000805396640033\n",
      "Epoch:  295 ; running-loss:  19.257217047513528\n",
      "Epoch:  296 ; running-loss:  18.68406366650609\n",
      "Epoch:  297 ; running-loss:  19.187777839454526\n",
      "Epoch:  298 ; running-loss:  19.396358654472916\n",
      "Epoch:  299 ; running-loss:  19.94529350371051\n",
      "Epoch:  300 ; running-loss:  18.978370904560546\n",
      "Epoch:  301 ; running-loss:  19.55135958570126\n",
      "Epoch:  302 ; running-loss:  18.937961679997002\n",
      "Epoch:  303 ; running-loss:  18.626534136311673\n",
      "Epoch:  304 ; running-loss:  18.64275778023113\n",
      "Epoch:  305 ; running-loss:  18.877237711172356\n",
      "Epoch:  306 ; running-loss:  19.991249479321308\n",
      "Epoch:  307 ; running-loss:  18.238135206640962\n",
      "Epoch:  308 ; running-loss:  18.991691328365153\n",
      "Epoch:  309 ; running-loss:  18.222705271327502\n",
      "Epoch:  310 ; running-loss:  19.85555921696661\n",
      "Epoch:  311 ; running-loss:  18.954464400944847\n",
      "Epoch:  312 ; running-loss:  18.873873030933392\n",
      "Epoch:  313 ; running-loss:  19.045001100576954\n",
      "Epoch:  314 ; running-loss:  18.997863895729864\n",
      "Epoch:  315 ; running-loss:  19.052356501004056\n",
      "Epoch:  316 ; running-loss:  19.56452216232436\n",
      "Epoch:  317 ; running-loss:  19.636804576394113\n",
      "Epoch:  318 ; running-loss:  19.16616686534138\n",
      "Epoch:  319 ; running-loss:  18.629867882740793\n",
      "Epoch:  320 ; running-loss:  18.610938255002946\n",
      "Epoch:  321 ; running-loss:  18.682397162356\n",
      "Epoch:  322 ; running-loss:  19.212243740400453\n",
      "Epoch:  323 ; running-loss:  19.458033718933457\n",
      "Epoch:  324 ; running-loss:  19.578095391183652\n",
      "Epoch:  325 ; running-loss:  18.69168341274492\n",
      "Epoch:  326 ; running-loss:  19.603156191632337\n",
      "Epoch:  327 ; running-loss:  18.80668242675446\n",
      "Epoch:  328 ; running-loss:  18.60285340038009\n",
      "Epoch:  329 ; running-loss:  18.29491169107784\n",
      "Epoch:  330 ; running-loss:  18.622212047530553\n",
      "Epoch:  331 ; running-loss:  19.127075306463013\n",
      "Epoch:  332 ; running-loss:  19.690384867330355\n",
      "Epoch:  333 ; running-loss:  18.67786487008425\n",
      "Epoch:  334 ; running-loss:  18.96795372584579\n",
      "Epoch:  335 ; running-loss:  18.817326853107716\n",
      "Epoch:  336 ; running-loss:  18.811426507378137\n",
      "Epoch:  337 ; running-loss:  19.879850163734783\n",
      "Epoch:  338 ; running-loss:  18.747893623604476\n",
      "Epoch:  339 ; running-loss:  18.85154543139472\n",
      "Epoch:  340 ; running-loss:  19.142307751138453\n",
      "Epoch:  341 ; running-loss:  18.691223480184227\n",
      "Epoch:  342 ; running-loss:  19.182831514666624\n",
      "Epoch:  343 ; running-loss:  18.495938675432356\n",
      "Epoch:  344 ; running-loss:  18.324736742150602\n",
      "Epoch:  345 ; running-loss:  19.244504237362122\n",
      "Epoch:  346 ; running-loss:  19.427180036203865\n",
      "Epoch:  347 ; running-loss:  18.370107121041734\n",
      "Epoch:  348 ; running-loss:  19.277343129910182\n"
     ]
    },
    {
     "name": "stdout",
     "output_type": "stream",
     "text": [
      "Epoch:  349 ; running-loss:  18.90495339972843\n",
      "Epoch:  350 ; running-loss:  19.235820708548022\n",
      "Epoch:  351 ; running-loss:  18.967035381200134\n",
      "Epoch:  352 ; running-loss:  18.628030256185593\n",
      "Epoch:  353 ; running-loss:  19.410559817965687\n",
      "Epoch:  354 ; running-loss:  18.786581833996042\n",
      "Epoch:  355 ; running-loss:  19.20027883513815\n",
      "Epoch:  356 ; running-loss:  18.673914229964982\n",
      "Epoch:  357 ; running-loss:  19.273421669417008\n",
      "Epoch:  358 ; running-loss:  18.612123347707193\n",
      "Epoch:  359 ; running-loss:  19.261627543470826\n",
      "Epoch:  360 ; running-loss:  18.872870323308998\n",
      "Epoch:  361 ; running-loss:  19.127912321773294\n",
      "Epoch:  362 ; running-loss:  18.30360600769984\n",
      "Epoch:  363 ; running-loss:  19.283784819969586\n",
      "Epoch:  364 ; running-loss:  19.42046762708668\n",
      "Epoch:  365 ; running-loss:  19.09123646931213\n",
      "Epoch:  366 ; running-loss:  19.766095484317606\n",
      "Epoch:  367 ; running-loss:  19.299557995922907\n",
      "Epoch:  368 ; running-loss:  19.263204371884164\n",
      "Epoch:  369 ; running-loss:  19.03933689455848\n",
      "Epoch:  370 ; running-loss:  19.611909246442004\n",
      "Epoch:  371 ; running-loss:  18.64848337206766\n",
      "Epoch:  372 ; running-loss:  19.252410687786785\n",
      "Epoch:  373 ; running-loss:  19.164988373571994\n",
      "Epoch:  374 ; running-loss:  18.992946938657255\n",
      "Epoch:  375 ; running-loss:  19.33577757473949\n",
      "Epoch:  376 ; running-loss:  18.404482562592506\n",
      "Epoch:  377 ; running-loss:  19.185359506617164\n",
      "Epoch:  378 ; running-loss:  19.561371005915298\n",
      "Epoch:  379 ; running-loss:  19.342692255803897\n",
      "Epoch:  380 ; running-loss:  18.46861722597832\n",
      "Epoch:  381 ; running-loss:  19.06780169824243\n",
      "Epoch:  382 ; running-loss:  18.83641227911027\n",
      "Epoch:  383 ; running-loss:  19.910989736213644\n",
      "Epoch:  384 ; running-loss:  18.625157414864617\n",
      "Epoch:  385 ; running-loss:  19.70723777092833\n",
      "Epoch:  386 ; running-loss:  19.0430051708742\n",
      "Epoch:  387 ; running-loss:  18.995152103293144\n",
      "Epoch:  388 ; running-loss:  19.097073830561573\n",
      "Epoch:  389 ; running-loss:  18.912915117729774\n",
      "Epoch:  390 ; running-loss:  19.38486164063753\n",
      "Epoch:  391 ; running-loss:  19.556668692185507\n",
      "Epoch:  392 ; running-loss:  19.258640909966143\n",
      "Epoch:  393 ; running-loss:  19.016951797279063\n",
      "Epoch:  394 ; running-loss:  18.71205479837097\n",
      "Epoch:  395 ; running-loss:  19.038603408874497\n",
      "Epoch:  396 ; running-loss:  18.862192241797253\n",
      "Epoch:  397 ; running-loss:  19.057209733917148\n",
      "Epoch:  398 ; running-loss:  18.856370252908423\n",
      "Epoch:  399 ; running-loss:  19.315189026650195\n",
      "Epoch:  400 ; running-loss:  19.451012778267465\n",
      "Epoch:  401 ; running-loss:  18.358575311990478\n",
      "Epoch:  402 ; running-loss:  18.845540684302343\n",
      "Epoch:  403 ; running-loss:  18.008879145971132\n",
      "Epoch:  404 ; running-loss:  18.317851022314017\n",
      "Epoch:  405 ; running-loss:  19.376654591818365\n",
      "Epoch:  406 ; running-loss:  19.039457652573873\n",
      "Epoch:  407 ; running-loss:  18.705949024630474\n",
      "Epoch:  408 ; running-loss:  19.208262717260265\n",
      "Epoch:  409 ; running-loss:  18.802901846141484\n",
      "Epoch:  410 ; running-loss:  19.49044144794971\n",
      "Epoch:  411 ; running-loss:  18.2082307921907\n",
      "Epoch:  412 ; running-loss:  18.544655680656334\n",
      "Epoch:  413 ; running-loss:  18.676730827327116\n",
      "Epoch:  414 ; running-loss:  19.29848555168192\n",
      "Epoch:  415 ; running-loss:  19.040096614894775\n",
      "Epoch:  416 ; running-loss:  18.40339796050096\n",
      "Epoch:  417 ; running-loss:  19.362658853991668\n",
      "Epoch:  418 ; running-loss:  18.95151539223223\n",
      "Epoch:  419 ; running-loss:  18.336505353482377\n",
      "Epoch:  420 ; running-loss:  18.872386312068894\n",
      "Epoch:  421 ; running-loss:  19.17560547423969\n",
      "Epoch:  422 ; running-loss:  19.586772989726807\n",
      "Epoch:  423 ; running-loss:  18.311744576207285\n",
      "Epoch:  424 ; running-loss:  18.017640358697033\n",
      "Epoch:  425 ; running-loss:  19.621677259182825\n",
      "Epoch:  426 ; running-loss:  18.455069989506395\n",
      "Epoch:  427 ; running-loss:  18.470141234210548\n",
      "Epoch:  428 ; running-loss:  19.07052674884097\n",
      "Epoch:  429 ; running-loss:  19.162729223387707\n",
      "Epoch:  430 ; running-loss:  19.376280213654738\n",
      "Epoch:  431 ; running-loss:  19.663486374536657\n",
      "Epoch:  432 ; running-loss:  18.698212933395638\n",
      "Epoch:  433 ; running-loss:  18.661659428850918\n",
      "Epoch:  434 ; running-loss:  17.894743792843585\n",
      "Epoch:  435 ; running-loss:  19.001471257714915\n",
      "Epoch:  436 ; running-loss:  18.810960581456662\n",
      "Epoch:  437 ; running-loss:  18.543740659014116\n",
      "Epoch:  438 ; running-loss:  19.008944147183907\n",
      "Epoch:  439 ; running-loss:  18.598548535310513\n",
      "Epoch:  440 ; running-loss:  18.526919613581462\n",
      "Epoch:  441 ; running-loss:  19.39063729569094\n",
      "Epoch:  442 ; running-loss:  19.120743144230744\n",
      "Epoch:  443 ; running-loss:  19.129831306013724\n",
      "Epoch:  444 ; running-loss:  18.35341937489309\n",
      "Epoch:  445 ; running-loss:  18.841450664238977\n",
      "Epoch:  446 ; running-loss:  19.03890834043912\n",
      "Epoch:  447 ; running-loss:  18.898945752467633\n",
      "Epoch:  448 ; running-loss:  18.59085076173829\n",
      "Epoch:  449 ; running-loss:  19.24948496713229\n",
      "Epoch:  450 ; running-loss:  18.877395057738383\n",
      "Epoch:  451 ; running-loss:  18.934976492374535\n",
      "Epoch:  452 ; running-loss:  19.174577631699755\n",
      "Epoch:  453 ; running-loss:  18.313971133921203\n",
      "Epoch:  454 ; running-loss:  19.005263917353233\n",
      "Epoch:  455 ; running-loss:  18.003092690979013\n",
      "Epoch:  456 ; running-loss:  18.104507462850105\n",
      "Epoch:  457 ; running-loss:  18.461004272340546\n",
      "Epoch:  458 ; running-loss:  19.25667859375644\n",
      "Epoch:  459 ; running-loss:  18.592470458420795\n",
      "Epoch:  460 ; running-loss:  19.106804732131128\n",
      "Epoch:  461 ; running-loss:  18.66072733577531\n",
      "Epoch:  462 ; running-loss:  19.01761248912392\n",
      "Epoch:  463 ; running-loss:  18.478767210025254\n",
      "Epoch:  464 ; running-loss:  18.478720846282883\n",
      "Epoch:  465 ; running-loss:  19.6666283772017\n",
      "Epoch:  466 ; running-loss:  17.844494528059222\n",
      "Epoch:  467 ; running-loss:  19.344308211498316\n",
      "Epoch:  468 ; running-loss:  18.793563909072407\n",
      "Epoch:  469 ; running-loss:  18.42734560522827\n",
      "Epoch:  470 ; running-loss:  18.318488754953215\n",
      "Epoch:  471 ; running-loss:  18.727379919603138\n",
      "Epoch:  472 ; running-loss:  19.35900538460348\n",
      "Epoch:  473 ; running-loss:  18.541058383496207\n",
      "Epoch:  474 ; running-loss:  18.707806842478362\n",
      "Epoch:  475 ; running-loss:  18.111631279763667\n",
      "Epoch:  476 ; running-loss:  19.278651681270592\n",
      "Epoch:  477 ; running-loss:  18.807001889811307\n",
      "Epoch:  478 ; running-loss:  19.361023192448236\n",
      "Epoch:  479 ; running-loss:  19.04303757317484\n",
      "Epoch:  480 ; running-loss:  18.576941414937924\n",
      "Epoch:  481 ; running-loss:  18.560509837786014\n",
      "Epoch:  482 ; running-loss:  18.60666884606624\n",
      "Epoch:  483 ; running-loss:  19.469756692569806\n",
      "Epoch:  484 ; running-loss:  19.3285891611339\n",
      "Epoch:  485 ; running-loss:  19.319416549085563\n",
      "Epoch:  486 ; running-loss:  18.7349141774995\n",
      "Epoch:  487 ; running-loss:  18.79467963379865\n",
      "Epoch:  488 ; running-loss:  19.527497869594388\n",
      "Epoch:  489 ; running-loss:  19.429425684844695\n",
      "Epoch:  490 ; running-loss:  20.09518392966862\n",
      "Epoch:  491 ; running-loss:  18.56896329741657\n",
      "Epoch:  492 ; running-loss:  18.618739455990507\n",
      "Epoch:  493 ; running-loss:  18.829460703222274\n",
      "Epoch:  494 ; running-loss:  18.94581076378331\n",
      "Epoch:  495 ; running-loss:  19.131063823317334\n",
      "Epoch:  496 ; running-loss:  18.65504128272929\n",
      "Epoch:  497 ; running-loss:  19.339597499642665\n",
      "Epoch:  498 ; running-loss:  19.060132677735687\n",
      "Epoch:  499 ; running-loss:  19.077517806689027\n",
      "Epoch:  500 ; running-loss:  18.221840361513134\n",
      "Epoch:  501 ; running-loss:  18.301233904712486\n",
      "Epoch:  502 ; running-loss:  19.442837098377723\n",
      "Epoch:  503 ; running-loss:  18.314117281111972\n",
      "Epoch:  504 ; running-loss:  19.289995771250666\n",
      "Epoch:  505 ; running-loss:  18.877496856830493\n",
      "Epoch:  506 ; running-loss:  18.712495708106065\n",
      "Epoch:  507 ; running-loss:  18.548078405181595\n",
      "Epoch:  508 ; running-loss:  18.690202347971308\n",
      "Epoch:  509 ; running-loss:  19.486222601260703\n",
      "Epoch:  510 ; running-loss:  18.713046259511486\n",
      "Epoch:  511 ; running-loss:  18.728165444000293\n",
      "Epoch:  512 ; running-loss:  19.12209994457664\n",
      "Epoch:  513 ; running-loss:  18.65160386085676\n",
      "Epoch:  514 ; running-loss:  17.76184466978289\n",
      "Epoch:  515 ; running-loss:  19.6067471876859\n",
      "Epoch:  516 ; running-loss:  19.592210130978103\n",
      "Epoch:  517 ; running-loss:  18.916311756622562\n",
      "Epoch:  518 ; running-loss:  19.04763736123518\n",
      "Epoch:  519 ; running-loss:  18.408574518992413\n",
      "Epoch:  520 ; running-loss:  18.772731643709264\n"
     ]
    },
    {
     "name": "stdout",
     "output_type": "stream",
     "text": [
      "Epoch:  521 ; running-loss:  19.12779298130703\n",
      "Epoch:  522 ; running-loss:  18.718200794373324\n",
      "Epoch:  523 ; running-loss:  19.43412666187008\n",
      "Epoch:  524 ; running-loss:  18.135021083384338\n",
      "Epoch:  525 ; running-loss:  19.025169789033686\n",
      "Epoch:  526 ; running-loss:  18.955925339341157\n",
      "Epoch:  527 ; running-loss:  18.692221498872467\n",
      "Epoch:  528 ; running-loss:  19.291042652769015\n",
      "Epoch:  529 ; running-loss:  19.00618812276386\n",
      "Epoch:  530 ; running-loss:  19.09923348928834\n",
      "Epoch:  531 ; running-loss:  18.424864708591002\n",
      "Epoch:  532 ; running-loss:  19.386289858493047\n",
      "Epoch:  533 ; running-loss:  18.755974469483608\n",
      "Epoch:  534 ; running-loss:  18.776058439036895\n",
      "Epoch:  535 ; running-loss:  18.704897373633944\n",
      "Epoch:  536 ; running-loss:  19.65073322815107\n",
      "Epoch:  537 ; running-loss:  18.998528040832184\n",
      "Epoch:  538 ; running-loss:  18.177944522784472\n",
      "Epoch:  539 ; running-loss:  18.803031362482045\n",
      "Epoch:  540 ; running-loss:  19.856005058724776\n",
      "Epoch:  541 ; running-loss:  18.80631548534365\n",
      "Epoch:  542 ; running-loss:  19.096517562499965\n",
      "Epoch:  543 ; running-loss:  18.804475164256203\n",
      "Epoch:  544 ; running-loss:  19.183642937645022\n",
      "Epoch:  545 ; running-loss:  18.488457557477332\n",
      "Epoch:  546 ; running-loss:  18.929794779279348\n",
      "Epoch:  547 ; running-loss:  18.83426577269607\n",
      "Epoch:  548 ; running-loss:  17.09241128492789\n",
      "Epoch:  549 ; running-loss:  18.32258201429041\n",
      "Epoch:  550 ; running-loss:  19.193510616765412\n",
      "Epoch:  551 ; running-loss:  18.66841834984404\n",
      "Epoch:  552 ; running-loss:  19.121157790162957\n",
      "Epoch:  553 ; running-loss:  19.037452012249165\n",
      "Epoch:  554 ; running-loss:  18.774974576583112\n",
      "Epoch:  555 ; running-loss:  18.82014562537351\n",
      "Epoch:  556 ; running-loss:  19.296611834502897\n",
      "Epoch:  557 ; running-loss:  19.255363393928878\n",
      "Epoch:  558 ; running-loss:  18.52837060499577\n",
      "Epoch:  559 ; running-loss:  19.950980911482766\n",
      "Epoch:  560 ; running-loss:  18.37818185232274\n",
      "Epoch:  561 ; running-loss:  19.01984251733778\n",
      "Epoch:  562 ; running-loss:  19.478221452406565\n",
      "Epoch:  563 ; running-loss:  18.772262888796938\n",
      "Epoch:  564 ; running-loss:  18.7637033686721\n",
      "Epoch:  565 ; running-loss:  18.81457457953504\n",
      "Epoch:  566 ; running-loss:  19.70185541486179\n",
      "Epoch:  567 ; running-loss:  18.47839006655259\n",
      "Epoch:  568 ; running-loss:  18.431686193532723\n",
      "Epoch:  569 ; running-loss:  18.595296153168682\n",
      "Epoch:  570 ; running-loss:  18.5856877752583\n",
      "Epoch:  571 ; running-loss:  18.34473647266114\n",
      "Epoch:  572 ; running-loss:  18.51419972705663\n",
      "Epoch:  573 ; running-loss:  18.504227585788353\n",
      "Epoch:  574 ; running-loss:  19.035608691444686\n",
      "Epoch:  575 ; running-loss:  19.043016435578746\n",
      "Epoch:  576 ; running-loss:  18.570042339023594\n",
      "Epoch:  577 ; running-loss:  19.44667237615629\n",
      "Epoch:  578 ; running-loss:  18.905393841474215\n",
      "Epoch:  579 ; running-loss:  18.277632808694012\n",
      "Epoch:  580 ; running-loss:  18.61032681202679\n",
      "Epoch:  581 ; running-loss:  18.305803781689924\n",
      "Epoch:  582 ; running-loss:  17.81319803747934\n",
      "Epoch:  583 ; running-loss:  19.43297136721514\n",
      "Epoch:  584 ; running-loss:  19.219221884244394\n"
     ]
    }
   ],
   "source": [
    "# perform training\n",
    "\n",
    "epoch = 0\n",
    "for epoch in range(20000):\n",
    "    running_loss = 0.0\n",
    "    #model.train()\n",
    "    for data in training_generator:\n",
    "        #model.train(True)\n",
    "        x_im_train = data[\"image\"]\n",
    "        if(np.shape(x_im_train)[0]==1):\n",
    "            continue\n",
    "        y_im_train = data[\"labels\"][:, 15].to(device)\n",
    "        x_im_train = x_im_train.to(device)\n",
    "        y_attr = data[\"labels\"][:, :15].to(device)\n",
    "        optimizer.zero_grad()\n",
    "\n",
    "        (y_pred, attributes_pred, features) = model(x_im_train)\n",
    "        \n",
    "        # this needs work \n",
    "        loss = criterion(torch.squeeze(y_pred.to(float)), torch.squeeze(y_im_train.to(float))) + criterion1(torch.squeeze(attributes_pred.to(float)), torch.squeeze(y_attr.to(float))) + criterion1(torch.squeeze(attributes_pred.to(float)), torch.squeeze(y_attr.to(float))) + criterion1(torch.squeeze(attributes_pred.to(float)), torch.squeeze(y_attr.to(float))) + criterion2(torch.squeeze(attributes_pred.to(float)), torch.squeeze(y_attr.to(float)))  \n",
    "    \n",
    "        loss.backward()\n",
    "        optimizer.step()\n",
    "        model.G_.data = projection_simplex_sort(model.G_.data)\n",
    "        running_loss += loss.item()\n",
    "    epoch = epoch + 1\n",
    "    print(\"Epoch: \", epoch, \"; running-loss: \", running_loss)"
   ]
  },
  {
   "cell_type": "code",
   "execution_count": 6,
   "metadata": {},
   "outputs": [],
   "source": [
    "# save the trainined model\n",
    "\n",
    "torch.save(model.state_dict(), f'../data/models/end_to_end_v2_CAM_3.pt')"
   ]
  },
  {
   "cell_type": "code",
   "execution_count": 21,
   "metadata": {},
   "outputs": [
    {
     "name": "stdout",
     "output_type": "stream",
     "text": [
      "/home/ahana/thyroid/data/test/benign\n",
      "/home/ahana/thyroid/data/test/malign\n",
      "number of data items:25\n"
     ]
    }
   ],
   "source": [
    "## Run tests and save CAM images in folder \"heatmaps\" on test data\n",
    "def returnCAM(feature_conv, weight_linear, class_idx):\n",
    "    # generate the class activation maps upsample to 256x256\n",
    "    size_upsample = (256, 256)\n",
    "    bz, nc, h, w = feature_conv.shape\n",
    "    output_cam = []\n",
    "    for idx in class_idx:\n",
    "        cam = weight_linear[idx].dot(feature_conv.reshape((nc, h*w)))\n",
    "        cam = cam.reshape(h, w)\n",
    "        cam = cam - np.min(cam)\n",
    "        if (np.max(cam)) != 0:\n",
    "            cam_img = cam / (np.max(cam))\n",
    "        else:\n",
    "            cam_img = cam\n",
    "        cam_img = np.uint8(255 * cam_img)\n",
    "        output_cam.append(cv2.resize(cam_img, size_upsample))\n",
    "    return output_cam\n",
    "\n",
    "parameters_test = {\n",
    "    \"batch_size\": 1,\n",
    "    \"shuffle\": False,\n",
    "}\n",
    "\n",
    "params = list(model.parameters())\n",
    "\n",
    "weight_linear = np.squeeze(params[-2].data.cpu().numpy())\n",
    "test_set = thyroidDataset(split='test')\n",
    "test_generator = torch.utils.data.DataLoader(test_set, **parameters_test)\n",
    "\n",
    "predicted = []\n",
    "ground_truth = []\n",
    "\n",
    "attr_pred = []\n",
    "attr_gt = []\n",
    "\n",
    "count = 0\n",
    "for data in test_generator:\n",
    "    y_im_test = data[\"labels\"][:, 15].to(device)\n",
    "    x_im_test = data[\"image\"]\n",
    "    \n",
    "    x_im_test = x_im_test.to(device)\n",
    "    \n",
    "    (y_pred, attributes_pred, features) = model(x_im_test)\n",
    "    \n",
    "    attr_pred.append(attributes_pred.detach().cpu().numpy())\n",
    "    \n",
    "    attr_gt.append(data[\"labels\"][:, :15].detach().cpu().numpy())\n",
    "    \n",
    "    # saving the CAM image with heatmaps\n",
    "    CAMs = returnCAM(features.detach().cpu().numpy(), weight_linear, [i for i in range(0, a)])\n",
    "    img = data[\"image\"][0].cpu().permute(1, 2, 0).numpy()\n",
    "    img = img * 255\n",
    "    height, width, c = img.shape\n",
    "    for i in range(0, a):\n",
    "        heatmap = cv2.applyColorMap(cv2.resize(CAMs[i],(width, height)), cv2.COLORMAP_JET)\n",
    "        result = heatmap * 0.3 + img * 0.5\n",
    "        file_name = data[\"name\"][0].split('/')[-1]\n",
    "        file_name = file_name.split('.')[0]\n",
    "        cv2.imwrite(f'heatmaps/{file_name}_{i}.png', result)\n",
    "    \n",
    "    # End of CAM saving code\n",
    "    predicted.append(np.squeeze(y_pred.detach().cpu().numpy()))\n",
    "    ground_truth.append(np.squeeze(y_im_test.detach().cpu().numpy()))\n",
    "    count += 1\n",
    "\n"
   ]
  },
  {
   "cell_type": "code",
   "execution_count": null,
   "metadata": {},
   "outputs": [],
   "source": [
    "# Just keeping this code even though it is untidy\n",
    "#print(attr_gt.shape, attr_pred.shape)\n",
    "#viz_attr = (np.concatenate((attr_gt, attr_pred), axis=0)>0.5)*1\n",
    "# dummy_zeros = np.zeros((attr_pred.shape[0], attr_pred.shape[1]))\n",
    "# viz_attr = np.dstack([attr_gt, attr_pred, dummy_zeros]).reshape(attr_pred.shape[0],-1)\n",
    "# #viz_attr[viz_attr > 0.5] = 1\n",
    "# #viz_attr[viz_attr != 1] = 0\n",
    "# plt.imshow(viz_attr)\n",
    "# major_ticks = np.arange(0,45,1)\n",
    "# plt.xticks(major_ticks)\n",
    "# plt.grid(axis='x')\n",
    "# plt.title(\"Left col: gt attr; Right col: pred attr interleaved with a blank one between each pair of attributes\")\n",
    "# fig = plt.gcf()\n",
    "# fig.set_size_inches(18.5, 10.5)\n",
    "\n",
    "# predicted = np.expand_dims(np.array(predicted), 1)\n",
    "# ground_truth = np.expand_dims(np.array(ground_truth), 1)\n",
    "# viz = (np.concatenate((ground_truth, predicted), axis=1)>0.5)*1\n",
    "\n",
    "# plt.imshow(viz)\n",
    "# plt.title(\"Left col: gt; Right col: pred\")"
   ]
  },
  {
   "cell_type": "code",
   "execution_count": 22,
   "metadata": {},
   "outputs": [
    {
     "name": "stdout",
     "output_type": "stream",
     "text": [
      "Atrribute errors:\n",
      " [ 4.  8. 48. 36.  4. 40. 44. 12. 20.  8.  4. 68. 60. 36.  0.]\n",
      "Type prediction error:\n",
      " 0.32\n"
     ]
    }
   ],
   "source": [
    "# printing the accuracy of attribute and type prediction\n",
    "attr_pred = np.array(attr_pred)[:,0,:,0]\n",
    "attr_pred_binary = np.zeros((attr_pred.shape[0], attr_pred.shape[1]))\n",
    "attr_pred_binary[attr_pred > 0.5] = 1\n",
    "attr_pred_binary[attr_pred != 1] = 0\n",
    "attr_gt= np.array(attr_gt)[:,0,:]\n",
    "error = np.abs(attr_pred_binary - attr_gt)\n",
    "error = 100 * np.sum(error, axis=0) / error.shape[0]\n",
    "print(\"Atrribute errors:\\n\",error)\n",
    "\n",
    "predicted = np.expand_dims(np.array(predicted), 1)\n",
    "ground_truth = np.expand_dims(np.array(ground_truth), 1)\n",
    "viz = (np.concatenate((ground_truth, predicted), axis=1)>0.5)*1\n",
    "err_perc = np.sum(np.abs(viz[:, 0] - viz[:, 1])) / np.size(viz[:, 0])\n",
    "print(\"Type prediction error:\\n\", err_perc)\n"
   ]
  },
  {
   "cell_type": "code",
   "execution_count": 14,
   "metadata": {},
   "outputs": [
    {
     "data": {
      "image/png": "[encoded data removed]",
      "text/plain": [
       "<Figure size 720x720 with 6 Axes>"
      ]
     },
     "metadata": {
      "needs_background": "light"
     },
     "output_type": "display_data"
    }
   ],
   "source": [
    "## ALL this should be on TEST set\n",
    "# Visualizing the results for attributes and labels\n",
    "attr_pred = np.squeeze(np.array(attr_pred))\n",
    "attr_gt = np.squeeze(np.array(attr_gt))\n",
    "\n",
    "fig = plt.figure(figsize=(10, 10))\n",
    "ax1 = fig.add_subplot(231)    # The big subplot\n",
    "ax2 = fig.add_subplot(232)\n",
    "ax3 = fig.add_subplot(233)\n",
    "ax4 = fig.add_subplot(234)\n",
    "ax5 = fig.add_subplot(235)\n",
    "ax6 = fig.add_subplot(236)\n",
    "\n",
    "\n",
    "ax1.imshow(attr_gt)\n",
    "ax1.set_title(\"Attributes Ground Truth\")\n",
    "ax2.imshow((attr_pred > 0.5) * 1)\n",
    "ax2.set_title(\"Attributes Predicted and Thresholded\")\n",
    "\n",
    "ax3.imshow(viz)\n",
    "ax3.set_title(\"Label (malign or benign)\")\n",
    "\n",
    "ax4.imshow(attr_gt)\n",
    "ax4.set_title(\"Attributes Ground Truth\")\n",
    "ax5.imshow(attr_pred )\n",
    "ax5.set_title(\"Attributes Predicted Soft\")\n",
    "\n",
    "ax6.imshow(viz)\n",
    "ax6.set_title(\"Label (malign or benign)\")\n",
    "\n",
    "\n",
    "plt.tight_layout(pad=0.6, w_pad=0, h_pad=1.0)\n"
   ]
  },
  {
   "cell_type": "code",
   "execution_count": 13,
   "metadata": {},
   "outputs": [
    {
     "data": {
      "text/plain": [
       "Text(0.5, 0, 'Attribute probability')"
      ]
     },
     "execution_count": 13,
     "metadata": {},
     "output_type": "execute_result"
    },
    {
     "data": {
      "image/png": "[encoded data removed]",
      "text/plain": [
       "<Figure size 432x288 with 1 Axes>"
      ]
     },
     "metadata": {
      "needs_background": "light"
     },
     "output_type": "display_data"
    }
   ],
   "source": [
    "# Visualizing G matrix\n",
    "plt.imshow(model.G_.data.detach().cpu().numpy())\n",
    "plt.title(\"Group attribute probabilites (G Matrix)\")\n",
    "plt.ylabel(\"Group\")\n",
    "plt.xlabel(\"Attribute probability\")"
   ]
  },
  {
   "cell_type": "code",
   "execution_count": 14,
   "metadata": {},
   "outputs": [
    {
     "data": {
      "text/plain": [
       "Text(0.5, 0, 'W values')"
      ]
     },
     "execution_count": 14,
     "metadata": {},
     "output_type": "execute_result"
    },
    {
     "data": {
      "image/png": "[encoded data removed]",
      "text/plain": [
       "<Figure size 432x288 with 1 Axes>"
      ]
     },
     "metadata": {
      "needs_background": "light"
     },
     "output_type": "display_data"
    }
   ],
   "source": [
    "# Visualizing W Matrix\n",
    "plt.imshow(model.W_.data.detach().cpu().numpy())\n",
    "plt.title(\"Group contribution to label pred (W Matrix)\")\n",
    "plt.ylabel(\"Group\")\n",
    "plt.xlabel(\"W values\")"
   ]
  },
  {
   "cell_type": "code",
   "execution_count": 93,
   "metadata": {},
   "outputs": [],
   "source": [
    "# Legacy CAM code\n",
    "# class CamExtractor():\n",
    "#     \"\"\"\n",
    "#         Extracts cam features from the model\n",
    "#     \"\"\"\n",
    "#     def __init__(self, model, target_layer):\n",
    "#         self.model = model\n",
    "#         self.target_layer = target_layer\n",
    "        \n",
    "\n",
    "#     def forward_pass_on_convolutions(self, x):\n",
    "#         \"\"\"\n",
    "#             Does a forward pass on convolutions, hooks the function at given layer\n",
    "#         \"\"\"\n",
    "#         conv_output = None\n",
    "#         module_pos = 1\n",
    "#         for module in self.model.features:\n",
    "#             x = model.pool(module(x))  # Forward\n",
    "#             if int(module_pos) == self.target_layer:\n",
    "#                 conv_output = x  # Save the convolution output on that layer\n",
    "#             module_pos += 1\n",
    "#         return conv_output, x\n",
    "\n",
    "#     def forward_pass(self, x):\n",
    "#         \"\"\"\n",
    "#             Does a full forward pass on the model\n",
    "#         \"\"\"\n",
    "#         conv_output, _ = self.forward_pass_on_convolutions(x)\n",
    "#         x = F.interpolate(x, (300, 300), mode='bilinear')\n",
    "#         (x_, _) = model(x)\n",
    "#         return conv_output, x_\n",
    "\n",
    "    \n",
    "# extractor = CamExtractor(model, 4)\n",
    "\n",
    "# count = 0\n",
    "# for data in test_generator:\n",
    "#     y_im_test = data[\"labels\"][:, 15].to(device)\n",
    "#     x_im_test = data[\"image\"]\n",
    "#     x_im_test = x_im_test.to(device)\n",
    "\n",
    "\n",
    "#     [conv_out, x] = extractor.forward_pass_on_convolutions(x_im_test)\n",
    "#     target = conv_out\n",
    "#     cam = np.ones((target.shape[1:]), dtype=np.float32)\n",
    "#     sal_map = np.zeros((224, 224))\n",
    "#     for i in range(np.shape(target)[1]):\n",
    "#                 # Unsqueeze to 4D\n",
    "#                 saliency_map = torch.unsqueeze(torch.unsqueeze(target[0, i, :, :],0),0)\n",
    "#                 # Upsampling to input size\n",
    "#                 saliency_map = F.interpolate(saliency_map, size=(224, 224), mode='bilinear', align_corners=False)\n",
    "#                 if saliency_map.max() == saliency_map.min():\n",
    "#                     continue\n",
    "#                 # Scale between 0-1\n",
    "#                 norm_saliency_map = (saliency_map - saliency_map.min()) / (saliency_map.max() - saliency_map.min())\n",
    "#                 inim = F.interpolate(x_im_test, size=(224, 224), mode='bilinear')\n",
    "#                 w = extractor.forward_pass(inim * norm_saliency_map)[1]\n",
    "#                 sal_map += w.cpu().data.numpy() * norm_saliency_map.cpu().data.numpy()[0, 0, :, :]\n",
    "#                 cam += w.cpu().data.numpy() * target[0, i, :, :].cpu().data.numpy()\n",
    "\n",
    "\n",
    "#     fig = plt.figure(figsize=(15, 10))\n",
    "\n",
    "#     ax0 = fig.add_subplot(131)\n",
    "#     ax0.imshow(np.transpose(np.squeeze(x_im_test.cpu().detach().numpy()), (1, 2, 0)))\n",
    "\n",
    "#     ax1 = fig.add_subplot(132)\n",
    "#     ax1.imshow(sal_map)\n",
    "\n",
    "#     ax2 = fig.add_subplot(133)\n",
    "#     ax2.imshow(cam[0, :, :])\n",
    "#     count += 1\n",
    "#     if(count == 10):\n",
    "#         break\n"
   ]
  },
  {
   "cell_type": "code",
   "execution_count": 56,
   "metadata": {},
   "outputs": [
    {
     "data": {
      "text/plain": [
       "<matplotlib.image.AxesImage at 0x7f1045a1c100>"
      ]
     },
     "execution_count": 56,
     "metadata": {},
     "output_type": "execute_result"
    },
    {
     "data": {
      "image/png": "[encoded data removed]",
      "text/plain": [
       "<Figure size 432x288 with 2 Axes>"
      ]
     },
     "metadata": {
      "needs_background": "light"
     },
     "output_type": "display_data"
    }
   ],
   "source": [
    "# Legacy CAM code\n",
    "# fig = plt.figure()\n",
    "# ax0 = fig.add_subplot(121)\n",
    "# ax0.imshow(sal_map)\n",
    "\n",
    "# ax1 = fig.add_subplot(122)\n",
    "# ax1.imshow(np.transpose(np.squeeze(x_im_test.cpu().detach().numpy()), (1, 2, 0)))\n",
    "\n"
   ]
  },
  {
   "cell_type": "code",
   "execution_count": 17,
   "metadata": {},
   "outputs": [],
   "source": [
    "#Sankey plot code for G matrix\n",
    "source = [i % a for i in range(z*a)]\n",
    "target = [(i // 15) + 15 for i in range(z*a)]\n",
    "G[G < 0.1] = 0.0\n",
    "value = G.flatten().tolist()\n",
    "#print(len(source), len(target), len(value))\n",
    "\n",
    "color_node = [\n",
    "              '#808080', '#808080', '#808080', '#808080', '#808080',\n",
    "              '#808080', '#808080', '#808080', '#808080', '#808080',\n",
    "              '#808080', '#808080', '#808080', '#808080', '#808080',\n",
    "              '#FF0000', '#FFFF00', '#00FF00', '#00FFFF', '#FF00FF',\n",
    "              '#00CED1', '#FF8C00', '#BDB76B', '#2F4F4F', '#B8860B'\n",
    "              ]\n",
    "\n",
    "color_link = []\n",
    "link_colors = ['#F08080', '#FFFACD', '#98FB98', '#87CEFA', '#EE82EE',\n",
    "              '#AFEEEE', '#FFA500', '#F0E68C', '#708090', '#DAA520']"
   ]
  },
  {
   "cell_type": "code",
   "execution_count": 18,
   "metadata": {},
   "outputs": [
    {
     "data": {
      "application/vnd.plotly.v1+json": {
       "config": {
        "plotlyServerURL": "https://plot.ly"
       },
       "data": [
        {
         "link": {
          "color": [
           "#F08080",
           "#F08080",
           "#F08080",
           "#F08080",
           "#F08080",
           "#F08080",
           "#F08080",
           "#F08080",
           "#F08080",
           "#F08080",
           "#F08080",
           "#F08080",
           "#F08080",
           "#F08080",
           "#F08080",
           "#FFFACD",
           "#FFFACD",
           "#FFFACD",
           "#FFFACD",
           "#FFFACD",
           "#FFFACD",
           "#FFFACD",
           "#FFFACD",
           "#FFFACD",
           "#FFFACD",
           "#FFFACD",
           "#FFFACD",
           "#FFFACD",
           "#FFFACD",
           "#FFFACD",
           "#98FB98",
           "#98FB98",
           "#98FB98",
           "#98FB98",
           "#98FB98",
           "#98FB98",
           "#98FB98",
           "#98FB98",
           "#98FB98",
           "#98FB98",
           "#98FB98",
           "#98FB98",
           "#98FB98",
           "#98FB98",
           "#98FB98",
           "#87CEFA",
           "#87CEFA",
           "#87CEFA",
           "#87CEFA",
           "#87CEFA",
           "#87CEFA",
           "#87CEFA",
           "#87CEFA",
           "#87CEFA",
           "#87CEFA",
           "#87CEFA",
           "#87CEFA",
           "#87CEFA",
           "#87CEFA",
           "#87CEFA",
           "#EE82EE",
           "#EE82EE",
           "#EE82EE",
           "#EE82EE",
           "#EE82EE",
           "#EE82EE",
           "#EE82EE",
           "#EE82EE",
           "#EE82EE",
           "#EE82EE",
           "#EE82EE",
           "#EE82EE",
           "#EE82EE",
           "#EE82EE",
           "#EE82EE",
           "#AFEEEE",
           "#AFEEEE",
           "#AFEEEE",
           "#AFEEEE",
           "#AFEEEE",
           "#AFEEEE",
           "#AFEEEE",
           "#AFEEEE",
           "#AFEEEE",
           "#AFEEEE",
           "#AFEEEE",
           "#AFEEEE",
           "#AFEEEE",
           "#AFEEEE",
           "#AFEEEE",
           "#FFA500",
           "#FFA500",
           "#FFA500",
           "#FFA500",
           "#FFA500",
           "#FFA500",
           "#FFA500",
           "#FFA500",
           "#FFA500",
           "#FFA500",
           "#FFA500",
           "#FFA500",
           "#FFA500",
           "#FFA500",
           "#FFA500"
          ],
          "source": [
           0,
           1,
           2,
           3,
           4,
           5,
           6,
           7,
           8,
           9,
           10,
           11,
           12,
           13,
           14,
           0,
           1,
           2,
           3,
           4,
           5,
           6,
           7,
           8,
           9,
           10,
           11,
           12,
           13,
           14,
           0,
           1,
           2,
           3,
           4,
           5,
           6,
           7,
           8,
           9,
           10,
           11,
           12,
           13,
           14,
           0,
           1,
           2,
           3,
           4,
           5,
           6,
           7,
           8,
           9,
           10,
           11,
           12,
           13,
           14,
           0,
           1,
           2,
           3,
           4,
           5,
           6,
           7,
           8,
           9,
           10,
           11,
           12,
           13,
           14,
           0,
           1,
           2,
           3,
           4,
           5,
           6,
           7,
           8,
           9,
           10,
           11,
           12,
           13,
           14,
           0,
           1,
           2,
           3,
           4,
           5,
           6,
           7,
           8,
           9,
           10,
           11,
           12,
           13,
           14
          ],
          "target": [
           15,
           15,
           15,
           15,
           15,
           15,
           15,
           15,
           15,
           15,
           15,
           15,
           15,
           15,
           15,
           16,
           16,
           16,
           16,
           16,
           16,
           16,
           16,
           16,
           16,
           16,
           16,
           16,
           16,
           16,
           17,
           17,
           17,
           17,
           17,
           17,
           17,
           17,
           17,
           17,
           17,
           17,
           17,
           17,
           17,
           18,
           18,
           18,
           18,
           18,
           18,
           18,
           18,
           18,
           18,
           18,
           18,
           18,
           18,
           18,
           19,
           19,
           19,
           19,
           19,
           19,
           19,
           19,
           19,
           19,
           19,
           19,
           19,
           19,
           19,
           20,
           20,
           20,
           20,
           20,
           20,
           20,
           20,
           20,
           20,
           20,
           20,
           20,
           20,
           20,
           21,
           21,
           21,
           21,
           21,
           21,
           21,
           21,
           21,
           21,
           21,
           21,
           21,
           21,
           21
          ],
          "value": [
           0.5367143590361914,
           0,
           1.0074573636205808,
           0,
           0,
           0,
           0.7317125508843602,
           0,
           1.6211611967065,
           0,
           0,
           0.3220811155530548,
           0.8032650087943171,
           0,
           0,
           1.2025199656033732,
           0.6537383065652088,
           0,
           0.6762749125882157,
           0,
           0,
           0,
           0,
           0,
           2.603342801090976,
           0,
           0.6138774634389045,
           0.18703429454581477,
           0,
           1.3388520472949026,
           0,
           0.373277093620971,
           0.8151475894162143,
           2.1318879576626557,
           2.02445700934786,
           0,
           0,
           1.7731069467193024,
           0,
           0,
           0,
           0.7040924174501859,
           0,
           0,
           0,
           0,
           0,
           1.5301718180835107,
           0.3551056204706387,
           1.20788176426019,
           0,
           0,
           0,
           0.25867110755552836,
           0,
           0,
           0.43711299337376297,
           2.382651969029948,
           0,
           0.844171387087905,
           0,
           1.518117804118389,
           0.1247245281832202,
           0.33103644141971955,
           0,
           1.1466402766043067,
           0.6940919035034341,
           0.3185680385469092,
           0,
           0,
           1.9688921495244807,
           0.6162838343059844,
           0,
           0.35888051748961,
           0,
           0,
           2.2222622658171978,
           0,
           1.877841095386496,
           0,
           0.16903389357953932,
           0.5503286155823335,
           0,
           0,
           0,
           0,
           1.2837782232830002,
           0.21357845133185008,
           0,
           0.4269718698859385,
           0.4177376682646487,
           0,
           0,
           0.6539329452608831,
           1.211391063441458,
           2.8505835508284694,
           0,
           0,
           0,
           0.30071765073179557,
           1.0804469347118184,
           1.3090993312925043,
           0,
           1.0704716965260057,
           0
          ]
         },
         "node": {
          "color": [
           "#808080",
           "#808080",
           "#808080",
           "#808080",
           "#808080",
           "#808080",
           "#808080",
           "#808080",
           "#808080",
           "#808080",
           "#808080",
           "#808080",
           "#808080",
           "#808080",
           "#808080",
           "#FF0000",
           "#FFFF00",
           "#00FF00",
           "#00FFFF",
           "#FF00FF",
           "#00CED1",
           "#FF8C00",
           "#BDB76B",
           "#2F4F4F",
           "#B8860B"
          ],
          "label": [
           "cystic",
           "mostly solid",
           "solid",
           "spongiform",
           "hyper",
           "hypo",
           "iso",
           "marked",
           "ill-defined",
           "micro",
           "spiculated",
           "smooth",
           "macro",
           "micro",
           "non",
           "G1",
           "G2",
           "G3",
           "G4",
           "G5",
           "G6",
           "G7",
           "G8",
           "G9",
           "G10"
          ],
          "pad": 15,
          "thickness": 20
         },
         "type": "sankey"
        }
       ],
       "layout": {
        "font": {
         "size": 10
        },
        "template": {
         "data": {
          "bar": [
           {
            "error_x": {
             "color": "#2a3f5f"
            },
            "error_y": {
             "color": "#2a3f5f"
            },
            "marker": {
             "line": {
              "color": "#E5ECF6",
              "width": 0.5
             }
            },
            "type": "bar"
           }
          ],
          "barpolar": [
           {
            "marker": {
             "line": {
              "color": "#E5ECF6",
              "width": 0.5
             }
            },
            "type": "barpolar"
           }
          ],
          "carpet": [
           {
            "aaxis": {
             "endlinecolor": "#2a3f5f",
             "gridcolor": "white",
             "linecolor": "white",
             "minorgridcolor": "white",
             "startlinecolor": "#2a3f5f"
            },
            "baxis": {
             "endlinecolor": "#2a3f5f",
             "gridcolor": "white",
             "linecolor": "white",
             "minorgridcolor": "white",
             "startlinecolor": "#2a3f5f"
            },
            "type": "carpet"
           }
          ],
          "choropleth": [
           {
            "colorbar": {
             "outlinewidth": 0,
             "ticks": ""
            },
            "type": "choropleth"
           }
          ],
          "contour": [
           {
            "colorbar": {
             "outlinewidth": 0,
             "ticks": ""
            },
            "colorscale": [
             [
              0,
              "#0d0887"
             ],
             [
              0.1111111111111111,
              "#46039f"
             ],
             [
              0.2222222222222222,
              "#7201a8"
             ],
             [
              0.3333333333333333,
              "#9c179e"
             ],
             [
              0.4444444444444444,
              "#bd3786"
             ],
             [
              0.5555555555555556,
              "#d8576b"
             ],
             [
              0.6666666666666666,
              "#ed7953"
             ],
             [
              0.7777777777777778,
              "#fb9f3a"
             ],
             [
              0.8888888888888888,
              "#fdca26"
             ],
             [
              1,
              "#f0f921"
             ]
            ],
            "type": "contour"
           }
          ],
          "contourcarpet": [
           {
            "colorbar": {
             "outlinewidth": 0,
             "ticks": ""
            },
            "type": "contourcarpet"
           }
          ],
          "heatmap": [
           {
            "colorbar": {
             "outlinewidth": 0,
             "ticks": ""
            },
            "colorscale": [
             [
              0,
              "#0d0887"
             ],
             [
              0.1111111111111111,
              "#46039f"
             ],
             [
              0.2222222222222222,
              "#7201a8"
             ],
             [
              0.3333333333333333,
              "#9c179e"
             ],
             [
              0.4444444444444444,
              "#bd3786"
             ],
             [
              0.5555555555555556,
              "#d8576b"
             ],
             [
              0.6666666666666666,
              "#ed7953"
             ],
             [
              0.7777777777777778,
              "#fb9f3a"
             ],
             [
              0.8888888888888888,
              "#fdca26"
             ],
             [
              1,
              "#f0f921"
             ]
            ],
            "type": "heatmap"
           }
          ],
          "heatmapgl": [
           {
            "colorbar": {
             "outlinewidth": 0,
             "ticks": ""
            },
            "colorscale": [
             [
              0,
              "#0d0887"
             ],
             [
              0.1111111111111111,
              "#46039f"
             ],
             [
              0.2222222222222222,
              "#7201a8"
             ],
             [
              0.3333333333333333,
              "#9c179e"
             ],
             [
              0.4444444444444444,
              "#bd3786"
             ],
             [
              0.5555555555555556,
              "#d8576b"
             ],
             [
              0.6666666666666666,
              "#ed7953"
             ],
             [
              0.7777777777777778,
              "#fb9f3a"
             ],
             [
              0.8888888888888888,
              "#fdca26"
             ],
             [
              1,
              "#f0f921"
             ]
            ],
            "type": "heatmapgl"
           }
          ],
          "histogram": [
           {
            "marker": {
             "colorbar": {
              "outlinewidth": 0,
              "ticks": ""
             }
            },
            "type": "histogram"
           }
          ],
          "histogram2d": [
           {
            "colorbar": {
             "outlinewidth": 0,
             "ticks": ""
            },
            "colorscale": [
             [
              0,
              "#0d0887"
             ],
             [
              0.1111111111111111,
              "#46039f"
             ],
             [
              0.2222222222222222,
              "#7201a8"
             ],
             [
              0.3333333333333333,
              "#9c179e"
             ],
             [
              0.4444444444444444,
              "#bd3786"
             ],
             [
              0.5555555555555556,
              "#d8576b"
             ],
             [
              0.6666666666666666,
              "#ed7953"
             ],
             [
              0.7777777777777778,
              "#fb9f3a"
             ],
             [
              0.8888888888888888,
              "#fdca26"
             ],
             [
              1,
              "#f0f921"
             ]
            ],
            "type": "histogram2d"
           }
          ],
          "histogram2dcontour": [
           {
            "colorbar": {
             "outlinewidth": 0,
             "ticks": ""
            },
            "colorscale": [
             [
              0,
              "#0d0887"
             ],
             [
              0.1111111111111111,
              "#46039f"
             ],
             [
              0.2222222222222222,
              "#7201a8"
             ],
             [
              0.3333333333333333,
              "#9c179e"
             ],
             [
              0.4444444444444444,
              "#bd3786"
             ],
             [
              0.5555555555555556,
              "#d8576b"
             ],
             [
              0.6666666666666666,
              "#ed7953"
             ],
             [
              0.7777777777777778,
              "#fb9f3a"
             ],
             [
              0.8888888888888888,
              "#fdca26"
             ],
             [
              1,
              "#f0f921"
             ]
            ],
            "type": "histogram2dcontour"
           }
          ],
          "mesh3d": [
           {
            "colorbar": {
             "outlinewidth": 0,
             "ticks": ""
            },
            "type": "mesh3d"
           }
          ],
          "parcoords": [
           {
            "line": {
             "colorbar": {
              "outlinewidth": 0,
              "ticks": ""
             }
            },
            "type": "parcoords"
           }
          ],
          "scatter": [
           {
            "marker": {
             "colorbar": {
              "outlinewidth": 0,
              "ticks": ""
             }
            },
            "type": "scatter"
           }
          ],
          "scatter3d": [
           {
            "line": {
             "colorbar": {
              "outlinewidth": 0,
              "ticks": ""
             }
            },
            "marker": {
             "colorbar": {
              "outlinewidth": 0,
              "ticks": ""
             }
            },
            "type": "scatter3d"
           }
          ],
          "scattercarpet": [
           {
            "marker": {
             "colorbar": {
              "outlinewidth": 0,
              "ticks": ""
             }
            },
            "type": "scattercarpet"
           }
          ],
          "scattergeo": [
           {
            "marker": {
             "colorbar": {
              "outlinewidth": 0,
              "ticks": ""
             }
            },
            "type": "scattergeo"
           }
          ],
          "scattergl": [
           {
            "marker": {
             "colorbar": {
              "outlinewidth": 0,
              "ticks": ""
             }
            },
            "type": "scattergl"
           }
          ],
          "scattermapbox": [
           {
            "marker": {
             "colorbar": {
              "outlinewidth": 0,
              "ticks": ""
             }
            },
            "type": "scattermapbox"
           }
          ],
          "scatterpolar": [
           {
            "marker": {
             "colorbar": {
              "outlinewidth": 0,
              "ticks": ""
             }
            },
            "type": "scatterpolar"
           }
          ],
          "scatterpolargl": [
           {
            "marker": {
             "colorbar": {
              "outlinewidth": 0,
              "ticks": ""
             }
            },
            "type": "scatterpolargl"
           }
          ],
          "scatterternary": [
           {
            "marker": {
             "colorbar": {
              "outlinewidth": 0,
              "ticks": ""
             }
            },
            "type": "scatterternary"
           }
          ],
          "surface": [
           {
            "colorbar": {
             "outlinewidth": 0,
             "ticks": ""
            },
            "colorscale": [
             [
              0,
              "#0d0887"
             ],
             [
              0.1111111111111111,
              "#46039f"
             ],
             [
              0.2222222222222222,
              "#7201a8"
             ],
             [
              0.3333333333333333,
              "#9c179e"
             ],
             [
              0.4444444444444444,
              "#bd3786"
             ],
             [
              0.5555555555555556,
              "#d8576b"
             ],
             [
              0.6666666666666666,
              "#ed7953"
             ],
             [
              0.7777777777777778,
              "#fb9f3a"
             ],
             [
              0.8888888888888888,
              "#fdca26"
             ],
             [
              1,
              "#f0f921"
             ]
            ],
            "type": "surface"
           }
          ],
          "table": [
           {
            "cells": {
             "fill": {
              "color": "#EBF0F8"
             },
             "line": {
              "color": "white"
             }
            },
            "header": {
             "fill": {
              "color": "#C8D4E3"
             },
             "line": {
              "color": "white"
             }
            },
            "type": "table"
           }
          ]
         },
         "layout": {
          "annotationdefaults": {
           "arrowcolor": "#2a3f5f",
           "arrowhead": 0,
           "arrowwidth": 1
          },
          "colorscale": {
           "diverging": [
            [
             0,
             "#8e0152"
            ],
            [
             0.1,
             "#c51b7d"
            ],
            [
             0.2,
             "#de77ae"
            ],
            [
             0.3,
             "#f1b6da"
            ],
            [
             0.4,
             "#fde0ef"
            ],
            [
             0.5,
             "#f7f7f7"
            ],
            [
             0.6,
             "#e6f5d0"
            ],
            [
             0.7,
             "#b8e186"
            ],
            [
             0.8,
             "#7fbc41"
            ],
            [
             0.9,
             "#4d9221"
            ],
            [
             1,
             "#276419"
            ]
           ],
           "sequential": [
            [
             0,
             "#0d0887"
            ],
            [
             0.1111111111111111,
             "#46039f"
            ],
            [
             0.2222222222222222,
             "#7201a8"
            ],
            [
             0.3333333333333333,
             "#9c179e"
            ],
            [
             0.4444444444444444,
             "#bd3786"
            ],
            [
             0.5555555555555556,
             "#d8576b"
            ],
            [
             0.6666666666666666,
             "#ed7953"
            ],
            [
             0.7777777777777778,
             "#fb9f3a"
            ],
            [
             0.8888888888888888,
             "#fdca26"
            ],
            [
             1,
             "#f0f921"
            ]
           ],
           "sequentialminus": [
            [
             0,
             "#0d0887"
            ],
            [
             0.1111111111111111,
             "#46039f"
            ],
            [
             0.2222222222222222,
             "#7201a8"
            ],
            [
             0.3333333333333333,
             "#9c179e"
            ],
            [
             0.4444444444444444,
             "#bd3786"
            ],
            [
             0.5555555555555556,
             "#d8576b"
            ],
            [
             0.6666666666666666,
             "#ed7953"
            ],
            [
             0.7777777777777778,
             "#fb9f3a"
            ],
            [
             0.8888888888888888,
             "#fdca26"
            ],
            [
             1,
             "#f0f921"
            ]
           ]
          },
          "colorway": [
           "#636efa",
           "#EF553B",
           "#00cc96",
           "#ab63fa",
           "#FFA15A",
           "#19d3f3",
           "#FF6692",
           "#B6E880",
           "#FF97FF",
           "#FECB52"
          ],
          "font": {
           "color": "#2a3f5f"
          },
          "geo": {
           "bgcolor": "white",
           "lakecolor": "white",
           "landcolor": "#E5ECF6",
           "showlakes": true,
           "showland": true,
           "subunitcolor": "white"
          },
          "hoverlabel": {
           "align": "left"
          },
          "hovermode": "closest",
          "mapbox": {
           "style": "light"
          },
          "paper_bgcolor": "white",
          "plot_bgcolor": "#E5ECF6",
          "polar": {
           "angularaxis": {
            "gridcolor": "white",
            "linecolor": "white",
            "ticks": ""
           },
           "bgcolor": "#E5ECF6",
           "radialaxis": {
            "gridcolor": "white",
            "linecolor": "white",
            "ticks": ""
           }
          },
          "scene": {
           "xaxis": {
            "backgroundcolor": "#E5ECF6",
            "gridcolor": "white",
            "gridwidth": 2,
            "linecolor": "white",
            "showbackground": true,
            "ticks": "",
            "zerolinecolor": "white"
           },
           "yaxis": {
            "backgroundcolor": "#E5ECF6",
            "gridcolor": "white",
            "gridwidth": 2,
            "linecolor": "white",
            "showbackground": true,
            "ticks": "",
            "zerolinecolor": "white"
           },
           "zaxis": {
            "backgroundcolor": "#E5ECF6",
            "gridcolor": "white",
            "gridwidth": 2,
            "linecolor": "white",
            "showbackground": true,
            "ticks": "",
            "zerolinecolor": "white"
           }
          },
          "shapedefaults": {
           "line": {
            "color": "#2a3f5f"
           }
          },
          "ternary": {
           "aaxis": {
            "gridcolor": "white",
            "linecolor": "white",
            "ticks": ""
           },
           "baxis": {
            "gridcolor": "white",
            "linecolor": "white",
            "ticks": ""
           },
           "bgcolor": "#E5ECF6",
           "caxis": {
            "gridcolor": "white",
            "linecolor": "white",
            "ticks": ""
           }
          },
          "title": {
           "x": 0.05
          },
          "xaxis": {
           "automargin": true,
           "gridcolor": "white",
           "linecolor": "white",
           "ticks": "",
           "zerolinecolor": "white",
           "zerolinewidth": 2
          },
          "yaxis": {
           "automargin": true,
           "gridcolor": "white",
           "linecolor": "white",
           "ticks": "",
           "zerolinecolor": "white",
           "zerolinewidth": 2
          }
         }
        },
        "title": {
         "text": "Basic Sankey Diagram"
        }
       }
      },
      "text/html": [
       "<div>\n",
       "        \n",
       "        \n",
       "            <div id=\"ce4b9678-3c60-4b76-a09f-ee4a2364f629\" class=\"plotly-graph-div\" style=\"height:525px; width:100%;\"></div>\n",
       "            <script type=\"text/javascript\">\n",
       "                require([\"plotly\"], function(Plotly) {\n",
       "                    window.PLOTLYENV=window.PLOTLYENV || {};\n",
       "                    \n",
       "                if (document.getElementById(\"ce4b9678-3c60-4b76-a09f-ee4a2364f629\")) {\n",
       "                    Plotly.newPlot(\n",
       "                        'ce4b9678-3c60-4b76-a09f-ee4a2364f629',\n",
       "                        [{\"link\": {\"color\": [\"#F08080\", \"#F08080\", \"#F08080\", \"#F08080\", \"#F08080\", \"#F08080\", \"#F08080\", \"#F08080\", \"#F08080\", \"#F08080\", \"#F08080\", \"#F08080\", \"#F08080\", \"#F08080\", \"#F08080\", \"#FFFACD\", \"#FFFACD\", \"#FFFACD\", \"#FFFACD\", \"#FFFACD\", \"#FFFACD\", \"#FFFACD\", \"#FFFACD\", \"#FFFACD\", \"#FFFACD\", \"#FFFACD\", \"#FFFACD\", \"#FFFACD\", \"#FFFACD\", \"#FFFACD\", \"#98FB98\", \"#98FB98\", \"#98FB98\", \"#98FB98\", \"#98FB98\", \"#98FB98\", \"#98FB98\", \"#98FB98\", \"#98FB98\", \"#98FB98\", \"#98FB98\", \"#98FB98\", \"#98FB98\", \"#98FB98\", \"#98FB98\", \"#87CEFA\", \"#87CEFA\", \"#87CEFA\", \"#87CEFA\", \"#87CEFA\", \"#87CEFA\", \"#87CEFA\", \"#87CEFA\", \"#87CEFA\", \"#87CEFA\", \"#87CEFA\", \"#87CEFA\", \"#87CEFA\", \"#87CEFA\", \"#87CEFA\", \"#EE82EE\", \"#EE82EE\", \"#EE82EE\", \"#EE82EE\", \"#EE82EE\", \"#EE82EE\", \"#EE82EE\", \"#EE82EE\", \"#EE82EE\", \"#EE82EE\", \"#EE82EE\", \"#EE82EE\", \"#EE82EE\", \"#EE82EE\", \"#EE82EE\", \"#AFEEEE\", \"#AFEEEE\", \"#AFEEEE\", \"#AFEEEE\", \"#AFEEEE\", \"#AFEEEE\", \"#AFEEEE\", \"#AFEEEE\", \"#AFEEEE\", \"#AFEEEE\", \"#AFEEEE\", \"#AFEEEE\", \"#AFEEEE\", \"#AFEEEE\", \"#AFEEEE\", \"#FFA500\", \"#FFA500\", \"#FFA500\", \"#FFA500\", \"#FFA500\", \"#FFA500\", \"#FFA500\", \"#FFA500\", \"#FFA500\", \"#FFA500\", \"#FFA500\", \"#FFA500\", \"#FFA500\", \"#FFA500\", \"#FFA500\"], \"source\": [0, 1, 2, 3, 4, 5, 6, 7, 8, 9, 10, 11, 12, 13, 14, 0, 1, 2, 3, 4, 5, 6, 7, 8, 9, 10, 11, 12, 13, 14, 0, 1, 2, 3, 4, 5, 6, 7, 8, 9, 10, 11, 12, 13, 14, 0, 1, 2, 3, 4, 5, 6, 7, 8, 9, 10, 11, 12, 13, 14, 0, 1, 2, 3, 4, 5, 6, 7, 8, 9, 10, 11, 12, 13, 14, 0, 1, 2, 3, 4, 5, 6, 7, 8, 9, 10, 11, 12, 13, 14, 0, 1, 2, 3, 4, 5, 6, 7, 8, 9, 10, 11, 12, 13, 14], \"target\": [15, 15, 15, 15, 15, 15, 15, 15, 15, 15, 15, 15, 15, 15, 15, 16, 16, 16, 16, 16, 16, 16, 16, 16, 16, 16, 16, 16, 16, 16, 17, 17, 17, 17, 17, 17, 17, 17, 17, 17, 17, 17, 17, 17, 17, 18, 18, 18, 18, 18, 18, 18, 18, 18, 18, 18, 18, 18, 18, 18, 19, 19, 19, 19, 19, 19, 19, 19, 19, 19, 19, 19, 19, 19, 19, 20, 20, 20, 20, 20, 20, 20, 20, 20, 20, 20, 20, 20, 20, 20, 21, 21, 21, 21, 21, 21, 21, 21, 21, 21, 21, 21, 21, 21, 21], \"value\": [0.5367143590361914, 0.0, 1.0074573636205808, 0.0, 0.0, 0.0, 0.7317125508843602, 0.0, 1.6211611967065, 0.0, 0.0, 0.3220811155530548, 0.8032650087943171, 0.0, 0.0, 1.2025199656033732, 0.6537383065652088, 0.0, 0.6762749125882157, 0.0, 0.0, 0.0, 0.0, 0.0, 2.603342801090976, 0.0, 0.6138774634389045, 0.18703429454581477, 0.0, 1.3388520472949026, 0.0, 0.373277093620971, 0.8151475894162143, 2.1318879576626557, 2.02445700934786, 0.0, 0.0, 1.7731069467193024, 0.0, 0.0, 0.0, 0.7040924174501859, 0.0, 0.0, 0.0, 0.0, 0.0, 1.5301718180835107, 0.3551056204706387, 1.20788176426019, 0.0, 0.0, 0.0, 0.25867110755552836, 0.0, 0.0, 0.43711299337376297, 2.382651969029948, 0.0, 0.844171387087905, 0.0, 1.518117804118389, 0.1247245281832202, 0.33103644141971955, 0.0, 1.1466402766043067, 0.6940919035034341, 0.3185680385469092, 0.0, 0.0, 1.9688921495244807, 0.6162838343059844, 0.0, 0.35888051748961, 0.0, 0.0, 2.2222622658171978, 0.0, 1.877841095386496, 0.0, 0.16903389357953932, 0.5503286155823335, 0.0, 0.0, 0.0, 0.0, 1.2837782232830002, 0.21357845133185008, 0.0, 0.4269718698859385, 0.4177376682646487, 0.0, 0.0, 0.6539329452608831, 1.211391063441458, 2.8505835508284694, 0.0, 0.0, 0.0, 0.30071765073179557, 1.0804469347118184, 1.3090993312925043, 0.0, 1.0704716965260057, 0.0]}, \"node\": {\"color\": [\"#808080\", \"#808080\", \"#808080\", \"#808080\", \"#808080\", \"#808080\", \"#808080\", \"#808080\", \"#808080\", \"#808080\", \"#808080\", \"#808080\", \"#808080\", \"#808080\", \"#808080\", \"#FF0000\", \"#FFFF00\", \"#00FF00\", \"#00FFFF\", \"#FF00FF\", \"#00CED1\", \"#FF8C00\", \"#BDB76B\", \"#2F4F4F\", \"#B8860B\"], \"label\": [\"cystic\", \"mostly solid\", \"solid\", \"spongiform\", \"hyper\", \"hypo\", \"iso\", \"marked\", \"ill-defined\", \"micro\", \"spiculated\", \"smooth\", \"macro\", \"micro\", \"non\", \"G1\", \"G2\", \"G3\", \"G4\", \"G5\", \"G6\", \"G7\", \"G8\", \"G9\", \"G10\"], \"pad\": 15, \"thickness\": 20}, \"type\": \"sankey\"}],\n",
       "                        {\"font\": {\"size\": 10}, \"template\": {\"data\": {\"bar\": [{\"error_x\": {\"color\": \"#2a3f5f\"}, \"error_y\": {\"color\": \"#2a3f5f\"}, \"marker\": {\"line\": {\"color\": \"#E5ECF6\", \"width\": 0.5}}, \"type\": \"bar\"}], \"barpolar\": [{\"marker\": {\"line\": {\"color\": \"#E5ECF6\", \"width\": 0.5}}, \"type\": \"barpolar\"}], \"carpet\": [{\"aaxis\": {\"endlinecolor\": \"#2a3f5f\", \"gridcolor\": \"white\", \"linecolor\": \"white\", \"minorgridcolor\": \"white\", \"startlinecolor\": \"#2a3f5f\"}, \"baxis\": {\"endlinecolor\": \"#2a3f5f\", \"gridcolor\": \"white\", \"linecolor\": \"white\", \"minorgridcolor\": \"white\", \"startlinecolor\": \"#2a3f5f\"}, \"type\": \"carpet\"}], \"choropleth\": [{\"colorbar\": {\"outlinewidth\": 0, \"ticks\": \"\"}, \"type\": \"choropleth\"}], \"contour\": [{\"colorbar\": {\"outlinewidth\": 0, \"ticks\": \"\"}, \"colorscale\": [[0.0, \"#0d0887\"], [0.1111111111111111, \"#46039f\"], [0.2222222222222222, \"#7201a8\"], [0.3333333333333333, \"#9c179e\"], [0.4444444444444444, \"#bd3786\"], [0.5555555555555556, \"#d8576b\"], [0.6666666666666666, \"#ed7953\"], [0.7777777777777778, \"#fb9f3a\"], [0.8888888888888888, \"#fdca26\"], [1.0, \"#f0f921\"]], \"type\": \"contour\"}], \"contourcarpet\": [{\"colorbar\": {\"outlinewidth\": 0, \"ticks\": \"\"}, \"type\": \"contourcarpet\"}], \"heatmap\": [{\"colorbar\": {\"outlinewidth\": 0, \"ticks\": \"\"}, \"colorscale\": [[0.0, \"#0d0887\"], [0.1111111111111111, \"#46039f\"], [0.2222222222222222, \"#7201a8\"], [0.3333333333333333, \"#9c179e\"], [0.4444444444444444, \"#bd3786\"], [0.5555555555555556, \"#d8576b\"], [0.6666666666666666, \"#ed7953\"], [0.7777777777777778, \"#fb9f3a\"], [0.8888888888888888, \"#fdca26\"], [1.0, \"#f0f921\"]], \"type\": \"heatmap\"}], \"heatmapgl\": [{\"colorbar\": {\"outlinewidth\": 0, \"ticks\": \"\"}, \"colorscale\": [[0.0, \"#0d0887\"], [0.1111111111111111, \"#46039f\"], [0.2222222222222222, \"#7201a8\"], [0.3333333333333333, \"#9c179e\"], [0.4444444444444444, \"#bd3786\"], [0.5555555555555556, \"#d8576b\"], [0.6666666666666666, \"#ed7953\"], [0.7777777777777778, \"#fb9f3a\"], [0.8888888888888888, \"#fdca26\"], [1.0, \"#f0f921\"]], \"type\": \"heatmapgl\"}], \"histogram\": [{\"marker\": {\"colorbar\": {\"outlinewidth\": 0, \"ticks\": \"\"}}, \"type\": \"histogram\"}], \"histogram2d\": [{\"colorbar\": {\"outlinewidth\": 0, \"ticks\": \"\"}, \"colorscale\": [[0.0, \"#0d0887\"], [0.1111111111111111, \"#46039f\"], [0.2222222222222222, \"#7201a8\"], [0.3333333333333333, \"#9c179e\"], [0.4444444444444444, \"#bd3786\"], [0.5555555555555556, \"#d8576b\"], [0.6666666666666666, \"#ed7953\"], [0.7777777777777778, \"#fb9f3a\"], [0.8888888888888888, \"#fdca26\"], [1.0, \"#f0f921\"]], \"type\": \"histogram2d\"}], \"histogram2dcontour\": [{\"colorbar\": {\"outlinewidth\": 0, \"ticks\": \"\"}, \"colorscale\": [[0.0, \"#0d0887\"], [0.1111111111111111, \"#46039f\"], [0.2222222222222222, \"#7201a8\"], [0.3333333333333333, \"#9c179e\"], [0.4444444444444444, \"#bd3786\"], [0.5555555555555556, \"#d8576b\"], [0.6666666666666666, \"#ed7953\"], [0.7777777777777778, \"#fb9f3a\"], [0.8888888888888888, \"#fdca26\"], [1.0, \"#f0f921\"]], \"type\": \"histogram2dcontour\"}], \"mesh3d\": [{\"colorbar\": {\"outlinewidth\": 0, \"ticks\": \"\"}, \"type\": \"mesh3d\"}], \"parcoords\": [{\"line\": {\"colorbar\": {\"outlinewidth\": 0, \"ticks\": \"\"}}, \"type\": \"parcoords\"}], \"scatter\": [{\"marker\": {\"colorbar\": {\"outlinewidth\": 0, \"ticks\": \"\"}}, \"type\": \"scatter\"}], \"scatter3d\": [{\"line\": {\"colorbar\": {\"outlinewidth\": 0, \"ticks\": \"\"}}, \"marker\": {\"colorbar\": {\"outlinewidth\": 0, \"ticks\": \"\"}}, \"type\": \"scatter3d\"}], \"scattercarpet\": [{\"marker\": {\"colorbar\": {\"outlinewidth\": 0, \"ticks\": \"\"}}, \"type\": \"scattercarpet\"}], \"scattergeo\": [{\"marker\": {\"colorbar\": {\"outlinewidth\": 0, \"ticks\": \"\"}}, \"type\": \"scattergeo\"}], \"scattergl\": [{\"marker\": {\"colorbar\": {\"outlinewidth\": 0, \"ticks\": \"\"}}, \"type\": \"scattergl\"}], \"scattermapbox\": [{\"marker\": {\"colorbar\": {\"outlinewidth\": 0, \"ticks\": \"\"}}, \"type\": \"scattermapbox\"}], \"scatterpolar\": [{\"marker\": {\"colorbar\": {\"outlinewidth\": 0, \"ticks\": \"\"}}, \"type\": \"scatterpolar\"}], \"scatterpolargl\": [{\"marker\": {\"colorbar\": {\"outlinewidth\": 0, \"ticks\": \"\"}}, \"type\": \"scatterpolargl\"}], \"scatterternary\": [{\"marker\": {\"colorbar\": {\"outlinewidth\": 0, \"ticks\": \"\"}}, \"type\": \"scatterternary\"}], \"surface\": [{\"colorbar\": {\"outlinewidth\": 0, \"ticks\": \"\"}, \"colorscale\": [[0.0, \"#0d0887\"], [0.1111111111111111, \"#46039f\"], [0.2222222222222222, \"#7201a8\"], [0.3333333333333333, \"#9c179e\"], [0.4444444444444444, \"#bd3786\"], [0.5555555555555556, \"#d8576b\"], [0.6666666666666666, \"#ed7953\"], [0.7777777777777778, \"#fb9f3a\"], [0.8888888888888888, \"#fdca26\"], [1.0, \"#f0f921\"]], \"type\": \"surface\"}], \"table\": [{\"cells\": {\"fill\": {\"color\": \"#EBF0F8\"}, \"line\": {\"color\": \"white\"}}, \"header\": {\"fill\": {\"color\": \"#C8D4E3\"}, \"line\": {\"color\": \"white\"}}, \"type\": \"table\"}]}, \"layout\": {\"annotationdefaults\": {\"arrowcolor\": \"#2a3f5f\", \"arrowhead\": 0, \"arrowwidth\": 1}, \"colorscale\": {\"diverging\": [[0, \"#8e0152\"], [0.1, \"#c51b7d\"], [0.2, \"#de77ae\"], [0.3, \"#f1b6da\"], [0.4, \"#fde0ef\"], [0.5, \"#f7f7f7\"], [0.6, \"#e6f5d0\"], [0.7, \"#b8e186\"], [0.8, \"#7fbc41\"], [0.9, \"#4d9221\"], [1, \"#276419\"]], \"sequential\": [[0.0, \"#0d0887\"], [0.1111111111111111, \"#46039f\"], [0.2222222222222222, \"#7201a8\"], [0.3333333333333333, \"#9c179e\"], [0.4444444444444444, \"#bd3786\"], [0.5555555555555556, \"#d8576b\"], [0.6666666666666666, \"#ed7953\"], [0.7777777777777778, \"#fb9f3a\"], [0.8888888888888888, \"#fdca26\"], [1.0, \"#f0f921\"]], \"sequentialminus\": [[0.0, \"#0d0887\"], [0.1111111111111111, \"#46039f\"], [0.2222222222222222, \"#7201a8\"], [0.3333333333333333, \"#9c179e\"], [0.4444444444444444, \"#bd3786\"], [0.5555555555555556, \"#d8576b\"], [0.6666666666666666, \"#ed7953\"], [0.7777777777777778, \"#fb9f3a\"], [0.8888888888888888, \"#fdca26\"], [1.0, \"#f0f921\"]]}, \"colorway\": [\"#636efa\", \"#EF553B\", \"#00cc96\", \"#ab63fa\", \"#FFA15A\", \"#19d3f3\", \"#FF6692\", \"#B6E880\", \"#FF97FF\", \"#FECB52\"], \"font\": {\"color\": \"#2a3f5f\"}, \"geo\": {\"bgcolor\": \"white\", \"lakecolor\": \"white\", \"landcolor\": \"#E5ECF6\", \"showlakes\": true, \"showland\": true, \"subunitcolor\": \"white\"}, \"hoverlabel\": {\"align\": \"left\"}, \"hovermode\": \"closest\", \"mapbox\": {\"style\": \"light\"}, \"paper_bgcolor\": \"white\", \"plot_bgcolor\": \"#E5ECF6\", \"polar\": {\"angularaxis\": {\"gridcolor\": \"white\", \"linecolor\": \"white\", \"ticks\": \"\"}, \"bgcolor\": \"#E5ECF6\", \"radialaxis\": {\"gridcolor\": \"white\", \"linecolor\": \"white\", \"ticks\": \"\"}}, \"scene\": {\"xaxis\": {\"backgroundcolor\": \"#E5ECF6\", \"gridcolor\": \"white\", \"gridwidth\": 2, \"linecolor\": \"white\", \"showbackground\": true, \"ticks\": \"\", \"zerolinecolor\": \"white\"}, \"yaxis\": {\"backgroundcolor\": \"#E5ECF6\", \"gridcolor\": \"white\", \"gridwidth\": 2, \"linecolor\": \"white\", \"showbackground\": true, \"ticks\": \"\", \"zerolinecolor\": \"white\"}, \"zaxis\": {\"backgroundcolor\": \"#E5ECF6\", \"gridcolor\": \"white\", \"gridwidth\": 2, \"linecolor\": \"white\", \"showbackground\": true, \"ticks\": \"\", \"zerolinecolor\": \"white\"}}, \"shapedefaults\": {\"line\": {\"color\": \"#2a3f5f\"}}, \"ternary\": {\"aaxis\": {\"gridcolor\": \"white\", \"linecolor\": \"white\", \"ticks\": \"\"}, \"baxis\": {\"gridcolor\": \"white\", \"linecolor\": \"white\", \"ticks\": \"\"}, \"bgcolor\": \"#E5ECF6\", \"caxis\": {\"gridcolor\": \"white\", \"linecolor\": \"white\", \"ticks\": \"\"}}, \"title\": {\"x\": 0.05}, \"xaxis\": {\"automargin\": true, \"gridcolor\": \"white\", \"linecolor\": \"white\", \"ticks\": \"\", \"zerolinecolor\": \"white\", \"zerolinewidth\": 2}, \"yaxis\": {\"automargin\": true, \"gridcolor\": \"white\", \"linecolor\": \"white\", \"ticks\": \"\", \"zerolinecolor\": \"white\", \"zerolinewidth\": 2}}}, \"title\": {\"text\": \"Basic Sankey Diagram\"}},\n",
       "                        {\"responsive\": true}\n",
       "                    ).then(function(){\n",
       "                            \n",
       "var gd = document.getElementById('ce4b9678-3c60-4b76-a09f-ee4a2364f629');\n",
       "var x = new MutationObserver(function (mutations, observer) {{\n",
       "        var display = window.getComputedStyle(gd).display;\n",
       "        if (!display || display === 'none') {{\n",
       "            console.log([gd, 'removed!']);\n",
       "            Plotly.purge(gd);\n",
       "            observer.disconnect();\n",
       "        }}\n",
       "}});\n",
       "\n",
       "// Listen for the removal of the full notebook cells\n",
       "var notebookContainer = gd.closest('#notebook-container');\n",
       "if (notebookContainer) {{\n",
       "    x.observe(notebookContainer, {childList: true});\n",
       "}}\n",
       "\n",
       "// Listen for the clearing of the current output cell\n",
       "var outputEl = gd.closest('.output');\n",
       "if (outputEl) {{\n",
       "    x.observe(outputEl, {childList: true});\n",
       "}}\n",
       "\n",
       "                        })\n",
       "                };\n",
       "                });\n",
       "            </script>\n",
       "        </div>"
      ]
     },
     "metadata": {},
     "output_type": "display_data"
    }
   ],
   "source": [
    "for i in range(z):\n",
    "    color_link.extend([link_colors[i]] * a)\n",
    "#print(color_link)\n",
    "fig = go.Figure(data=[go.Sankey(\n",
    "    node = dict(\n",
    "      pad = 15,\n",
    "      thickness = 20,\n",
    "      color = color_node,\n",
    "      label = [\"cystic\", \"mostly solid\", \"solid\", \"spongiform\",\n",
    "               \"hyper\", \"hypo\", \"iso\", \"marked\",\n",
    "               \"ill-defined\", \"micro\", \"spiculated\", \"smooth\",\n",
    "               \"macro\", \"micro\", \"non\",\n",
    "               \"G1\", \"G2\", \"G3\", \"G4\", \"G5\",\n",
    "               \"G6\", \"G7\", \"G8\", \"G9\", \"G10\"],\n",
    "    ),\n",
    "    link = dict(\n",
    "      source = source,\n",
    "      target = target,\n",
    "      value = value,\n",
    "      color = color_link\n",
    "  ))])\n",
    "fig.update_layout(title_text=\"Basic Sankey Diagram\", font_size=10)\n",
    "fig.show()"
   ]
  },
  {
   "cell_type": "code",
   "execution_count": null,
   "metadata": {},
   "outputs": [],
   "source": []
  }
 ],
 "metadata": {
  "kernelspec": {
   "display_name": "Python 3 (ipykernel)",
   "language": "python",
   "name": "python3"
  },
  "language_info": {
   "codemirror_mode": {
    "name": "ipython",
    "version": 3
   },
   "file_extension": ".py",
   "mimetype": "text/x-python",
   "name": "python",
   "nbconvert_exporter": "python",
   "pygments_lexer": "ipython3",
   "version": "3.7.10"
  }
 },
 "nbformat": 4,
 "nbformat_minor": 2
}
