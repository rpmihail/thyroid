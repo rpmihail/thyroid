{
 "cells": [
  {
   "cell_type": "code",
   "execution_count": 1,
   "metadata": {},
   "outputs": [],
   "source": [
    "import numpy as np\n",
    "from scipy.optimize import minimize\n",
    "import matplotlib.pyplot as plt\n",
    "from itertools import product\n",
    "from sklearn.model_selection import train_test_split\n",
    "from pathlib import Path\n",
    "import random\n",
    "from tqdm import tqdm\n",
    "import xml.etree.ElementTree as ET\n",
    "import cv2\n",
    "from torchvision.transforms import Compose\n",
    "from torchvision.transforms import ToTensor\n",
    "\n",
    "\n"
   ]
  },
  {
   "cell_type": "code",
   "execution_count": 2,
   "metadata": {},
   "outputs": [],
   "source": [
    "from torch.utils.data import Dataset\n",
    "import torch\n",
    "\n",
    "device = torch.device('cuda' if torch.cuda.is_available() else 'cpu')\n",
    "device\n",
    "\n",
    "class thyroidDataset(Dataset):\n",
    "    def __init__(self, split):\n",
    "        self.all_data = []\n",
    "        self.compositions = {'Unknown':0, 'cystic':1,\n",
    "                             'predominantly solid':2,\n",
    "                             'solid':3, 'spongiform appareance':4}\n",
    "        self.echogenicities = {'Unknown':0, 'hyperechogenecity':1,\n",
    "                             'hypoechogenecity':2, 'isoechogenicity':3,\n",
    "                             'marked hypoechogenecity':4}\n",
    "        self.margins = {'Unknown':0, 'ill- defined':1, 'microlobulated':2,\n",
    "                        'spiculated':3, 'well defined smooth':4}\n",
    "        self.calcifications = {'macrocalcification':0, 'microcalcification':1, 'non':2}\n",
    "        self.types ={'benign':0, 'malign':1}\n",
    "        for t_type in ['benign', 'malign']:\n",
    "            root_dir=Path('../data/' + split + '/' + t_type).expanduser().resolve().absolute() \n",
    "            print(root_dir)\n",
    "            files = list(root_dir.glob(\"*\"))\n",
    "            labels = [self.types[t_type]] * len(files)\n",
    "            data_list = list(zip(files, labels))\n",
    "            self.all_data.extend(data_list)\n",
    "        random.shuffle(self.all_data)\n",
    "        self.cases, self.types = zip(*self.all_data)\n",
    "        print(\"number of data items:\" + str(len(self.cases)))\n",
    "            \n",
    "\n",
    "    def __len__(self):\n",
    "        return len(self.cases)\n",
    "  \n",
    "    def __getitem__(self, idx):\n",
    "        labels = np.zeros(16, dtype = float)\n",
    "        xml_data = ET.parse(list(self.cases[idx].glob('*[0-9].xml'))[0]).getroot()\n",
    "        for x in xml_data:\n",
    "            if x.tag=='composition' and x.text is not None:\n",
    "                composition = x.text\n",
    "                labels[self.compositions[composition] - 1] = 1.0\n",
    "            if x.tag=='echogenicity' and x.text is not None:\n",
    "                echogenicity = x.text\n",
    "                labels[self.echogenicities[echogenicity] + 3] = 1.0\n",
    "            if x.tag=='margins' and x.text is not None:\n",
    "                margin = x.text\n",
    "                labels[self.margins[margin] + 7] = 1.0\n",
    "            if x.tag=='calcifications' and x.text is not None:\n",
    "                calcification = x.text\n",
    "                labels[self.calcifications[calcification] + 11] = 1.0\n",
    "        \n",
    "        labels[15] = list(self.types)[idx]\n",
    "        im_name = list(self.cases[idx].glob('*[0-9].jpg'))[0]\n",
    "        im = cv2.imread(str(im_name))\n",
    "        im = cv2.resize(im, dsize=(300, 300), interpolation=cv2.INTER_CUBIC)\n",
    "        # Adding data augmentation to avoid overfitting\n",
    "        if random.randint(1, 10) > 5:\n",
    "            im = np.flipud(im)\n",
    "        if random.randint(1, 10) > 5:\n",
    "            im = np.fliplr(im)\n",
    "        if random.randint(1, 10) > 5:\n",
    "            for i in range(random.randint(1, 4)):\n",
    "                im = np.rot90(im)\n",
    "        im = np.ascontiguousarray(im)\n",
    "        transforms = Compose([ToTensor()])\n",
    "        im = transforms(im)\n",
    "        sample = {\"image\": im, \"labels\": torch.from_numpy(labels), \"types\" : self.types }\n",
    "        return sample"
   ]
  },
  {
   "cell_type": "code",
   "execution_count": 3,
   "metadata": {},
   "outputs": [
    {
     "name": "stdout",
     "output_type": "stream",
     "text": [
      "/home/mihail/OneDrive/work/projects/thyroid/data/train/benign\n",
      "/home/mihail/OneDrive/work/projects/thyroid/data/train/malign\n",
      "number of data items:73\n",
      "/home/mihail/OneDrive/work/projects/thyroid/data/train/benign\n",
      "/home/mihail/OneDrive/work/projects/thyroid/data/train/malign\n",
      "number of data items:73\n"
     ]
    }
   ],
   "source": [
    "training_set = thyroidDataset(split='train')\n",
    "parameters_train = {\n",
    "    \"batch_size\": 8,\n",
    "    \"shuffle\": True,\n",
    "}\n",
    "parameters_test = {\n",
    "    \"batch_size\": 1,\n",
    "    \"shuffle\": False,\n",
    "}\n",
    "training_set = thyroidDataset(split='train')\n",
    "training_generator = torch.utils.data.DataLoader(training_set, **parameters_train)\n",
    "totiter = len(training_generator)\n"
   ]
  },
  {
   "cell_type": "code",
   "execution_count": 60,
   "metadata": {},
   "outputs": [],
   "source": [
    "import cv2\n",
    "import torch.nn as nn\n",
    "import torch.nn.functional as F\n",
    "\n",
    "z = 10 # groups\n",
    "a = 15\n",
    "k = 5 # top k \n",
    "\n",
    "\n",
    "G = np.random.randn(z, a)\n",
    "W = np.random.randn(z, k)\n",
    "\n",
    "   \n",
    "def projection_simplex_sort(v, z=1):\n",
    "\n",
    "    n_features = v.size(1)\n",
    "    u,_ = torch.sort(v, descending=True)\n",
    "    cssv = torch.cumsum(u,1) - z\n",
    "    ind = torch.arange(n_features).type_as(v) + 1\n",
    "    cond = u - cssv / ind > 0\n",
    "    #rho = ind[cond][-1]\n",
    "    rho,ind_rho = (ind*cond).max(1)\n",
    "    #theta = cssv[cond][-1] / float(rho)\n",
    "    theta = torch.gather(cssv,1,ind_rho[:,None]) / rho[:,None]\n",
    "    w = torch.clamp(v - theta, min=0)\n",
    "    return w\n",
    "\n",
    "class net(torch.nn.Module):\n",
    "    \n",
    "    def __init__(self, G, W):\n",
    "        super().__init__()\n",
    "        \n",
    "        self.conv1 = nn.Conv2d(3, 10, 5)\n",
    "        self.pool = nn.MaxPool2d(2, 2)\n",
    "        self.conv2 = nn.Conv2d(10, 16, 5)\n",
    "        self.conv3 = nn.Conv2d(16, 32, 5)\n",
    "        self.conv4 = nn.Conv2d(32, 64, 5)\n",
    "        \n",
    "        self.fc1 = nn.Linear(14400, 120)\n",
    "        self.fc2 = nn.Linear(120, 84)\n",
    "        self.fc3 = nn.Linear(84, 15)\n",
    "        \n",
    "        self.G_ = torch.nn.Parameter(G)\n",
    "        self.W_ = torch.nn.Parameter(W)\n",
    "        #self.CNN_ = torch.nn.Parameter(CNN)\n",
    "        \n",
    "\n",
    "\n",
    "    def forward(self, x):\n",
    "            \n",
    "        x = self.pool(F.tanh(self.conv1(x)))\n",
    "        x = self.pool(F.tanh(self.conv2(x)))\n",
    "        x = self.pool(F.tanh(self.conv3(x)))\n",
    "        x = self.pool(F.tanh(self.conv4(x)))\n",
    "        x = torch.flatten(x, 1) # flatten all dimensions except batch\n",
    "        \n",
    "        x = F.relu(self.fc1(x))\n",
    "        x = F.relu(self.fc2(x))\n",
    "        x = self.fc3(x)\n",
    "        \n",
    "        x = torch.unsqueeze(x, 2)\n",
    "        \n",
    "        g = torch.matmul(self.G_, x) \n",
    "        \n",
    "        g = g.repeat((1, 1, k))\n",
    "        \n",
    "        y = g * self.W_\n",
    "        \n",
    "        y, _ = y.max(axis=2)\n",
    "        \n",
    "        y = torch.transpose(y, 1, 0)\n",
    "        \n",
    "        y = torch.sum(y, axis=0)\n",
    "        \n",
    "        return (torch.sigmoid(y), x)\n",
    "\n",
    "model = net(torch.FloatTensor(G), torch.FloatTensor(W))\n",
    "model.to(device)\n",
    "\n",
    "\n",
    "criterion = torch.nn.L1Loss(reduction='sum')\n",
    "\n",
    "criterion1 = torch.nn.MSELoss(reduction='sum')\n",
    "\n",
    "\n",
    "optimizer = torch.optim.Adam(model.parameters(), lr=1e-5)\n",
    "\n",
    "#y_tr = torch.from_numpy(y_train).to(device)\n",
    "epoch = 0\n",
    "\n",
    "\n"
   ]
  },
  {
   "cell_type": "code",
   "execution_count": null,
   "metadata": {},
   "outputs": [],
   "source": [
    "model.load_state_dict(torch.load(f'../data/models/end_to_end_v2.pt'))"
   ]
  },
  {
   "cell_type": "code",
   "execution_count": null,
   "metadata": {},
   "outputs": [
    {
     "name": "stderr",
     "output_type": "stream",
     "text": [
      "/home/mihail/anaconda3/lib/python3.7/site-packages/torch/nn/functional.py:1614: UserWarning: nn.functional.tanh is deprecated. Use torch.tanh instead.\n",
      "  warnings.warn(\"nn.functional.tanh is deprecated. Use torch.tanh instead.\")\n"
     ]
    },
    {
     "name": "stdout",
     "output_type": "stream",
     "text": [
      "Epoch:  1 ; running-loss:  317.7498315536272\n",
      "Epoch:  2 ; running-loss:  309.95852523371536\n",
      "Epoch:  3 ; running-loss:  303.8281070493608\n",
      "Epoch:  4 ; running-loss:  296.08146489959614\n",
      "Epoch:  5 ; running-loss:  286.88360527370327\n",
      "Epoch:  6 ; running-loss:  275.37939989730637\n",
      "Epoch:  7 ; running-loss:  262.65417269367407\n",
      "Epoch:  8 ; running-loss:  248.61465844744467\n",
      "Epoch:  9 ; running-loss:  233.86106392400717\n",
      "Epoch:  10 ; running-loss:  222.65925003789468\n",
      "Epoch:  11 ; running-loss:  214.40407975803177\n",
      "Epoch:  12 ; running-loss:  209.69346131545456\n",
      "Epoch:  13 ; running-loss:  206.66084057003062\n",
      "Epoch:  14 ; running-loss:  206.33233495933706\n",
      "Epoch:  15 ; running-loss:  203.36460136485795\n",
      "Epoch:  16 ; running-loss:  202.46805968338742\n",
      "Epoch:  17 ; running-loss:  200.007728592771\n",
      "Epoch:  18 ; running-loss:  201.1734322887465\n",
      "Epoch:  19 ; running-loss:  200.08210460572394\n",
      "Epoch:  20 ; running-loss:  197.47722306202368\n"
     ]
    }
   ],
   "source": [
    "for epoch in range(10000):\n",
    "    running_loss = 0.0\n",
    "    #model.train()\n",
    "    for data in training_generator:\n",
    "        #model.train(True)\n",
    "        x_im_train = data[\"image\"]\n",
    "        if(np.shape(x_im_train)[0]==1):\n",
    "            continue\n",
    "        y_im_train = data[\"labels\"][:, 15].to(device)\n",
    "        x_im_train = x_im_train.to(device)\n",
    "\n",
    "        optimizer.zero_grad()\n",
    "\n",
    "        (y_pred, attributes_pred) = model(x_im_train)\n",
    "        \n",
    "        # this needs work \n",
    "        loss = criterion(torch.squeeze(y_pred.to(float)), torch.squeeze(y_im_train.to(float))) + criterion1(torch.squeeze(attributes_pred.to(float)), data[\"labels\"][:, :15].to(device))\n",
    "        \n",
    "        loss.backward()\n",
    "        optimizer.step()\n",
    "        model.G_.data = projection_simplex_sort(model.G_.data)\n",
    "        running_loss += loss.item()\n",
    "    epoch = epoch + 1\n",
    "    print(\"Epoch: \", epoch, \"; running-loss: \", running_loss)"
   ]
  },
  {
   "cell_type": "code",
   "execution_count": 44,
   "metadata": {},
   "outputs": [],
   "source": [
    "torch.save(model.state_dict(), f'../data/models/end_to_end_v2.pt')"
   ]
  },
  {
   "cell_type": "code",
   "execution_count": 57,
   "metadata": {},
   "outputs": [
    {
     "name": "stdout",
     "output_type": "stream",
     "text": [
      "/home/mihail/OneDrive/work/projects/thyroid/data/test/benign\n",
      "/home/mihail/OneDrive/work/projects/thyroid/data/test/malign\n",
      "number of data items:25\n"
     ]
    },
    {
     "name": "stderr",
     "output_type": "stream",
     "text": [
      "/home/mihail/anaconda3/lib/python3.7/site-packages/torch/nn/functional.py:1614: UserWarning: nn.functional.tanh is deprecated. Use torch.tanh instead.\n",
      "  warnings.warn(\"nn.functional.tanh is deprecated. Use torch.tanh instead.\")\n"
     ]
    },
    {
     "data": {
      "text/plain": [
       "0.28"
      ]
     },
     "execution_count": 57,
     "metadata": {},
     "output_type": "execute_result"
    },
    {
     "data": {
      "image/png": "[encoded data removed]",
      "text/plain": [
       "<Figure size 432x288 with 1 Axes>"
      ]
     },
     "metadata": {
      "needs_background": "light"
     },
     "output_type": "display_data"
    }
   ],
   "source": [
    "## VISUALIZE model output and parameters on test data\n",
    "\n",
    "parameters_test = {\n",
    "    \"batch_size\": 1,\n",
    "    \"shuffle\": False,\n",
    "}\n",
    "test_set = thyroidDataset(split='test')\n",
    "test_generator = torch.utils.data.DataLoader(test_set, **parameters_test)\n",
    "\n",
    "predicted = []\n",
    "ground_truth = []\n",
    "\n",
    "attr_pred = []\n",
    "attr_gt = []\n",
    "\n",
    "count = 0\n",
    "for data in test_generator:\n",
    "    y_im_test = data[\"labels\"][:, 15].to(device)\n",
    "    x_im_test = data[\"image\"]\n",
    "    \n",
    "    x_im_test = x_im_test.to(device)\n",
    "    \n",
    "    (y_pred, attributes_pred) = model(x_im_test)\n",
    "    \n",
    "    attr_pred.append(attributes_pred.detach().cpu().numpy())\n",
    "    \n",
    "    attr_gt.append(data[\"labels\"][:, :15].detach().cpu().numpy())\n",
    "    \n",
    "    \n",
    "    predicted.append(np.squeeze(y_pred.detach().cpu().numpy()))\n",
    "    ground_truth.append(np.squeeze(y_im_test.detach().cpu().numpy()))\n",
    "    count += 1\n",
    "        \n",
    "predicted = np.expand_dims(np.array(predicted), 1)\n",
    "ground_truth = np.expand_dims(np.array(ground_truth), 1)\n",
    "viz = (np.concatenate((ground_truth, predicted), axis=1)>0.5)*1\n",
    "\n",
    "plt.imshow(viz)\n",
    "plt.title(\"Left col: gt; Right col: pred\")\n",
    "\n",
    "err_perc = np.sum(np.abs(viz[:, 0] - viz[:, 1])) / np.size(viz[:, 0])\n",
    "err_perc\n",
    "\n"
   ]
  },
  {
   "cell_type": "code",
   "execution_count": 46,
   "metadata": {},
   "outputs": [
    {
     "data": {
      "text/plain": [
       "torch.Size([10, 1])"
      ]
     },
     "execution_count": 46,
     "metadata": {},
     "output_type": "execute_result"
    }
   ],
   "source": [
    "np.shape(y_pred)"
   ]
  },
  {
   "cell_type": "code",
   "execution_count": 58,
   "metadata": {},
   "outputs": [
    {
     "data": {
      "image/png": "[encoded data removed]",
      "text/plain": [
       "<Figure size 720x720 with 6 Axes>"
      ]
     },
     "metadata": {
      "needs_background": "light"
     },
     "output_type": "display_data"
    }
   ],
   "source": [
    "## ALL this should be on TEST set\n",
    "attr_pred = np.squeeze(np.array(attr_pred))\n",
    "attr_gt = np.squeeze(np.array(attr_gt))\n",
    "\n",
    "fig = plt.figure(figsize=(10, 10))\n",
    "ax1 = fig.add_subplot(231)    # The big subplot\n",
    "ax2 = fig.add_subplot(232)\n",
    "ax3 = fig.add_subplot(233)\n",
    "ax4 = fig.add_subplot(234)\n",
    "ax5 = fig.add_subplot(235)\n",
    "ax6 = fig.add_subplot(236)\n",
    "\n",
    "\n",
    "ax1.imshow(attr_gt)\n",
    "ax1.set_title(\"Attributes Ground Truth\")\n",
    "ax2.imshow((attr_pred > 0.5) * 1)\n",
    "ax2.set_title(\"Attributes Predicted and Thresholded\")\n",
    "\n",
    "ax3.imshow(np.expand_dims(viz[:, 0], 1))\n",
    "ax3.set_title(\"Label (malign or benign)\")\n",
    "\n",
    "ax4.imshow(attr_gt)\n",
    "ax4.set_title(\"Attributes Ground Truth\")\n",
    "ax5.imshow(attr_pred )\n",
    "ax5.set_title(\"Attributes Predicted Soft\")\n",
    "\n",
    "ax6.imshow(np.expand_dims(viz[:, 0], 1))\n",
    "ax6.set_title(\"Label (malign or benign)\")\n",
    "\n",
    "\n",
    "plt.tight_layout(pad=0.6, w_pad=0, h_pad=1.0)\n"
   ]
  },
  {
   "cell_type": "code",
   "execution_count": 59,
   "metadata": {},
   "outputs": [
    {
     "data": {
      "text/plain": [
       "Text(0.5,0,'Attribute probability')"
      ]
     },
     "execution_count": 59,
     "metadata": {},
     "output_type": "execute_result"
    },
    {
     "data": {
      "image/png": "[encoded data removed]",
      "text/plain": [
       "<Figure size 432x288 with 1 Axes>"
      ]
     },
     "metadata": {
      "needs_background": "light"
     },
     "output_type": "display_data"
    }
   ],
   "source": [
    "plt.imshow(model.G_.data.detach().cpu().numpy())\n",
    "plt.title(\"Group attribute probabilites (G Matrix)\")\n",
    "plt.ylabel(\"Group\")\n",
    "plt.xlabel(\"Attribute probability\")"
   ]
  }
 ],
 "metadata": {
  "kernelspec": {
   "display_name": "Python 3",
   "language": "python",
   "name": "python3"
  },
  "language_info": {
   "codemirror_mode": {
    "name": "ipython",
    "version": 3
   },
   "file_extension": ".py",
   "mimetype": "text/x-python",
   "name": "python",
   "nbconvert_exporter": "python",
   "pygments_lexer": "ipython3",
   "version": "3.7.2"
  }
 },
 "nbformat": 4,
 "nbformat_minor": 2
}
